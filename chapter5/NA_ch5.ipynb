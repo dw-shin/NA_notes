{
 "cells": [
  {
   "cell_type": "markdown",
   "metadata": {
    "slideshow": {
     "slide_type": "slide"
    }
   },
   "source": [
    "This lecture note is based on \"An Introduction to NUMERICAL ANALYSIS\" (2nd Edition) <br> by Kendall E. Atkinson\n",
    "\n",
    "\n",
    "# Chapter 5. NUMERICAL INTEGRATION"
   ]
  },
  {
   "cell_type": "markdown",
   "metadata": {
    "slideshow": {
     "slide_type": "slide"
    }
   },
   "source": [
    "### Goal\n",
    "\n",
    "To derive and analyze numerical methods for evaluating definite integrals\n",
    "\n",
    "\\begin{align*}\n",
    "\tI(f) = \\int_a^b f(x)\\ dx\n",
    "\\end{align*}"
   ]
  },
  {
   "cell_type": "markdown",
   "metadata": {
    "slideshow": {
     "slide_type": "slide"
    }
   },
   "source": [
    "### Fundamental Theorem of Calculus\n",
    "\n",
    "If $f$ is continuous on $[a,b]$ and $F$ is an antiderivative of $f$, then\n",
    "\n",
    "\\begin{align*}\n",
    "\t\\int_a^b f(x) \\ dx = F(b) - F(a)\n",
    "\\end{align*}"
   ]
  },
  {
   "cell_type": "markdown",
   "metadata": {
    "slideshow": {
     "slide_type": "slide"
    }
   },
   "source": [
    "### Numerical Integration\n",
    "\n",
    "For the integrand $f(x)$, find an approximating family $\\{f_n(x)\\ |\\ n\\ge 1\\}$\n",
    "\n",
    "$$\\|f - f_n\\|_{\\infty} \\rightarrow 0 \\quad \\textrm{as} \\quad n \\rightarrow \\infty$$\n",
    "\n",
    "- Numerical Integration\n",
    "$$I_n(f) = \\int_a^b f_n(x)\\ dx = I(f_n)$$ <br>\n",
    "\n",
    "- Error\n",
    "$$E_n(f) = I(f) - I_n(f) = \\int_a^b [f(x) - f_n(x)] \\ dx$$\n",
    "$$\\Rightarrow \\quad |E_n(f)| \\le \\int_a^b |f(x) - f_n(x)|\\ dx \\le (b-a)\\|f - f_n\\|_{\\infty}$$"
   ]
  },
  {
   "cell_type": "markdown",
   "metadata": {
    "slideshow": {
     "slide_type": "slide"
    }
   },
   "source": [
    "<span style=\"color:blue\">[Example]</span> &emsp; Evaluate\n",
    "$$I = \\int_0^1 \\frac{e^x - 1}{x}\\ dx$$\n",
    "<br>\n",
    "\n",
    "By a Taylor series for $e^x$,\n",
    "\\begin{align*}\n",
    "\tI = \\int_0^1 \\frac{e^x - 1}{x}\\ dx \\quad \\approx \\quad I_n = \\int_0^1 \\sum_{j=1}^n \\frac{x^{j-1}}{j!}\\ dx = \\sum_{j=1}^n \\frac{1}{(j!)(j)}\n",
    "\\end{align*}\n",
    "and\n",
    "\\begin{align*}\n",
    "\t\\frac{1}{(n+1)!(n+1)} \\le I - I_n \\le \\frac{e}{(n+1)!(n+1)}\n",
    "\\end{align*}"
   ]
  },
  {
   "cell_type": "markdown",
   "metadata": {
    "slideshow": {
     "slide_type": "slide"
    }
   },
   "source": [
    "### Numerical Integration\n",
    "\n",
    "Most numerical integrals $I_n(f)$ will have the following form\n",
    "\n",
    "\\begin{align*}\n",
    "\tI_n(f) = \\sum_{j=1}^n w_{j,n} f(x_{j,n})\n",
    "\\end{align*}\n",
    "<br>\n",
    "\n",
    "$w_{j,n}$ : the integration weights or quadrature weights <br>\n",
    "\n",
    "$x_{j,n}$ : the integration nodes or quadrature points"
   ]
  },
  {
   "cell_type": "markdown",
   "metadata": {
    "slideshow": {
     "slide_type": "slide"
    }
   },
   "source": [
    "## 5.1 The Trapezoidal Rule and Simpson's Rule"
   ]
  },
  {
   "cell_type": "markdown",
   "metadata": {
    "slideshow": {
     "slide_type": "slide"
    }
   },
   "source": [
    "### Trapezoidal Rule\n",
    "\n",
    "- Linear interpolating polynomial\n",
    "$$p_1(x) = \\frac{(b-x)f(a) + (x-a)f(b)}{b-a}$$\n",
    "<br>\n",
    "\n",
    "- Trapezoidal rule\n",
    "$$I_1(f) = \\int_a^b p_1(x)\\ dx = \\left(\\frac{b-a}{2}\\right)[f(a) + f(b)]$$\n",
    "<br>\n",
    "\n",
    "- Error formula\n",
    "$$E_1(f) = -\\frac{(b-a)^3}{12}f''(\\eta), \\quad \\eta \\in [a,b]$$"
   ]
  },
  {
   "cell_type": "markdown",
   "metadata": {
    "slideshow": {
     "slide_type": "slide"
    }
   },
   "source": [
    "### Composite Trapezoidal Rule\n",
    "\n",
    "Let $n\\ge 1$, $h = (b-a)/n$, and $x_j = a+ j h$ for $j = 0,1,\\dots,n$\n",
    "\n",
    "- Composite trapezoidal rule\n",
    "$$I_n(f) = h\\sum_{j=1}^{n-1} f(x_j) + \\frac{h}{2}[f(x_0) + f(x_n)], \\quad n\\ge 2$$\n",
    "<br>\n",
    "\n",
    "- Error formula\n",
    "\\begin{align*}\n",
    "\t\tE_n(f) &= -\\frac{(b-a) h^2}{12}f''(\\eta), \\quad \\eta \\in [a,b] \\\\\n",
    "\t\t&\\approx -\\frac{h^2}{12}[f'(b) - f'(a)] \\equiv \\tilde{E}_n(f)\n",
    "\\end{align*}"
   ]
  },
  {
   "cell_type": "markdown",
   "metadata": {
    "slideshow": {
     "slide_type": "slide"
    }
   },
   "source": [
    "### Asymptotic Error Estimate\n",
    "\n",
    "***\n",
    "**Definition** &emsp; Let $E_n(f)$ be an exact error formula, and let $\\tilde{E}_n(f)$ be an estimate of it. We say that $\\tilde{E}_n(f)$ is an *asymptotic error estimate* for $E_n(f)$ if\n",
    "$$\\lim_{n\\rightarrow \\infty} \\frac{\\tilde{E}_n(f)}{E_n(f)} = 1, \\quad \\textrm{or equivalently,} \\quad \\lim_{n\\rightarrow \\infty} \\frac{E_n(f) - \\tilde{E}_n(f)}{E_n(f)} = 0$$\n",
    "***"
   ]
  },
  {
   "cell_type": "markdown",
   "metadata": {
    "slideshow": {
     "slide_type": "slide"
    }
   },
   "source": [
    "Wite the following code to evaluate the composite trapezoidal rule"
   ]
  },
  {
   "cell_type": "code",
   "execution_count": null,
   "metadata": {},
   "outputs": [],
   "source": [
    "import numpy as np\n",
    "\n",
    "def composite_trapezoidal(f,n,a,b):\n",
    "\n",
    "    return I"
   ]
  },
  {
   "cell_type": "markdown",
   "metadata": {},
   "source": [
    "<span style=\"color:blue\">[Example]</span> &emsp; Use the composite trapezoidal rule to calculate\n",
    "$$I = \\int_0^\\pi e^x \\cos x\\ dx$$\n",
    "with $n = 2^j,\\ j = 1,2,\\cdots,9$ and check the rates of convergence."
   ]
  },
  {
   "cell_type": "code",
   "execution_count": null,
   "metadata": {},
   "outputs": [],
   "source": [
    "import matplotlib.pylab as plt\n",
    "%matplotlib inline\n",
    "\n",
    "num_iter = 9\n",
    "E = np.zeros(num_iter)\n",
    "I_exact = -(np.exp(np.pi)+1)/2\n",
    "f = lambda x: np.exp(x) * np.cos(x)\n",
    "a = 0\n",
    "b = np.pi\n",
    "\n",
    "for j in range(0,num_iter):\n",
    "    n = 2**(j+1)\n",
    "    I = composite_trapezoidal(f,n,a,b)\n",
    "    E[j] = np.abs(I_exact - I)\n",
    "\n",
    "h = np.pi/2**(np.array([i+1 for i in range(0,num_iter)]))\n",
    "plt.loglog(h,E,'o-')\n",
    "plt.show()"
   ]
  },
  {
   "cell_type": "code",
   "execution_count": null,
   "metadata": {},
   "outputs": [],
   "source": [
    "rate_of_convergence = (np.log(E[1::]) - np.log(E[0:-1]))/(np.log(h[1::])-np.log(h[0:-1]))\n",
    "print(rate_of_convergence)"
   ]
  },
  {
   "cell_type": "markdown",
   "metadata": {},
   "source": [
    "Check\n",
    "$$\\lim_{n\\rightarrow \\infty} \\frac{\\tilde{E}_n(f)}{E_n(f)} = 1$$"
   ]
  },
  {
   "cell_type": "code",
   "execution_count": null,
   "metadata": {},
   "outputs": [],
   "source": [
    "Df = lambda x: np.exp(x) * (np.cos(x) - np.sin(x))\n",
    "E_asymptotic = np.abs(h**2 / 12 * (Df(b) - Df(a)))\n",
    "print(E_asymptotic/E)"
   ]
  },
  {
   "cell_type": "markdown",
   "metadata": {
    "slideshow": {
     "slide_type": "slide"
    }
   },
   "source": [
    "### Corrected Trapezoidal Rule\n",
    "\n",
    "\\begin{align*}\n",
    "\tCT_n(f) &\\equiv I_n(f) + \\tilde{E}_n(f) \\\\\n",
    "\t&= h\\left[\\frac{1}{2}f_0 + f_1 + \\cdots + f_{n-1} + \\frac{1}{2}f_n\\right] - \\frac{h^2}{12}[f'(b) - f'(a)]\n",
    "\\end{align*}\n",
    "<br>\n",
    "\n",
    "- Trapezoidal Rule $\\sim \\mathcal{O}(h^2)$ \n",
    "<br>\n",
    "\n",
    "- Corrected Trapezoidal Rule $\\sim \\mathcal{O}(h^4)$"
   ]
  },
  {
   "cell_type": "markdown",
   "metadata": {},
   "source": [
    "Wite the following code to evaluate the corrected trapezoidal rule"
   ]
  },
  {
   "cell_type": "code",
   "execution_count": null,
   "metadata": {},
   "outputs": [],
   "source": [
    "def corrected_trapezoidal(f,Df,n,a,b):\n",
    "\n",
    "    return I"
   ]
  },
  {
   "cell_type": "markdown",
   "metadata": {},
   "source": [
    "<span style=\"color:blue\">[Example]</span> &emsp; Use the corrected trapezoidal rule to calculate\n",
    "$$I = \\int_0^\\pi e^x \\cos x\\ dx$$\n",
    "with $n = 2^j,\\ j = 1,2,\\cdots,9$ and check the rates of convergence."
   ]
  },
  {
   "cell_type": "code",
   "execution_count": null,
   "metadata": {},
   "outputs": [],
   "source": [
    "import matplotlib.pylab as plt\n",
    "%matplotlib inline\n",
    "\n",
    "num_iter = 9\n",
    "E = np.zeros(num_iter)\n",
    "I_exact = -(np.exp(np.pi)+1)/2\n",
    "f = lambda x: np.exp(x) * np.cos(x)\n",
    "Df = lambda x: np.exp(x) * (np.cos(x) - np.sin(x))\n",
    "a = 0\n",
    "b = np.pi\n",
    "\n",
    "for j in range(0,num_iter):\n",
    "    n = 2**(j+1)\n",
    "    I = corrected_trapezoidal(f,Df,n,a,b)\n",
    "    E[j] = np.abs(I_exact - I)\n",
    "\n",
    "h = np.pi/2**(np.array([i+1 for i in range(0,num_iter)]))\n",
    "plt.loglog(h,E,'o-')\n",
    "plt.show()"
   ]
  },
  {
   "cell_type": "code",
   "execution_count": null,
   "metadata": {},
   "outputs": [],
   "source": [
    "rate_of_convergence = (np.log(E[1::]) - np.log(E[0:-1]))/(np.log(h[1::])-np.log(h[0:-1]))\n",
    "print(rate_of_convergence)"
   ]
  },
  {
   "cell_type": "markdown",
   "metadata": {
    "slideshow": {
     "slide_type": "slide"
    }
   },
   "source": [
    "### Simpson's Rule\n",
    "\n",
    "- Quadratic interpolating polynomial\n",
    "$$p_2(x) = \\frac{(x-c)(x-b)}{(a-c)(a-b)}f(a) + \\frac{(x-a)(x-c)}{(b-a)(b-c)}f(b) + \\frac{(x-a)(x-b)}{(c-a)(c-b)}f(c)$$\n",
    "<br>\n",
    "\n",
    "- Simpson's rule\n",
    "$$I_2(f) = \\int_a^b p_2(x)\\ dx = \\frac{b-a}{6}\\left(f(a) + 4f\\left(\\frac{a+b}{2}\\right) + f(b)\\right)$$\n",
    "<br>\n",
    "\n",
    "- Error formula\n",
    "$$E_2(f) = -\\frac{h^5}{90}f^{(4)}(\\eta), \\qquad h = \\frac{b-a}{2}, \\ \\eta \\in [a,b]$$"
   ]
  },
  {
   "cell_type": "markdown",
   "metadata": {
    "slideshow": {
     "slide_type": "slide"
    }
   },
   "source": [
    "### Composite Simpson's Rule\n",
    "\n",
    "Let $n\\ge 2$, $h = (b-a)/n$, and $x_j = a+ j h$ for $j = 0,1,\\dots,n$ <br>\n",
    "\n",
    "- Composite SImpson's rule\n",
    "$$I_n(f) = \\frac{h}{3}[f_0 + 4 f_1 + 2 f_2 + 4 f_3 + 2 f_4 +\\cdots + 2f_{n-2} + 4f_{n-1} + f_n]$$\n",
    "<br>\n",
    "\n",
    "- Error formula\n",
    "\\begin{align*}\n",
    "\t\tE_n(f) &= -\\frac{h^4(b-a)}{180}f^{(4)}(\\eta), \\quad \\eta \\in [a,b] \\\\\n",
    "\t\t&\\approx -\\frac{h^4}{180}[f^{(3)}(b) - f^{(3)}(a)] \\equiv \\tilde{E}_n(f)\n",
    "\\end{align*}"
   ]
  },
  {
   "cell_type": "markdown",
   "metadata": {},
   "source": [
    "Wite the following code to evaluate the composite Simpson's rule"
   ]
  },
  {
   "cell_type": "code",
   "execution_count": null,
   "metadata": {},
   "outputs": [],
   "source": [
    "def composite_simpson(f,n,a,b):\n",
    "\n",
    "    return I"
   ]
  },
  {
   "cell_type": "markdown",
   "metadata": {},
   "source": [
    "<span style=\"color:blue\">[Example]</span> &emsp; Use the composite Simpson's rule to calculate\n",
    "$$I = \\int_0^\\pi e^x \\cos x\\ dx$$\n",
    "with $n = 2^j,\\ j = 1,2,\\cdots,9$ and check the rates of convergence."
   ]
  },
  {
   "cell_type": "code",
   "execution_count": null,
   "metadata": {},
   "outputs": [],
   "source": [
    "import matplotlib.pylab as plt\n",
    "%matplotlib inline\n",
    "\n",
    "num_iter = 9\n",
    "E = np.zeros(num_iter)\n",
    "I_exact = -(np.exp(np.pi)+1)/2\n",
    "f = lambda x: np.exp(x) * np.cos(x)\n",
    "a = 0\n",
    "b = np.pi\n",
    "\n",
    "for j in range(0,num_iter):\n",
    "    n = 2**(j+1)\n",
    "    I = composite_simpson(f,n,a,b)\n",
    "    E[j] = np.abs(I_exact - I)\n",
    "\n",
    "h = np.pi/2**(np.array([i+1 for i in range(0,num_iter)]))\n",
    "plt.loglog(h,E,'o-')\n",
    "plt.show()"
   ]
  },
  {
   "cell_type": "code",
   "execution_count": null,
   "metadata": {},
   "outputs": [],
   "source": [
    "rate_of_convergence = (np.log(E[1::]) - np.log(E[0:-1]))/(np.log(h[1::])-np.log(h[0:-1]))\n",
    "print(rate_of_convergence)"
   ]
  },
  {
   "cell_type": "markdown",
   "metadata": {},
   "source": [
    "Check\n",
    "$$\\lim_{n\\rightarrow \\infty} \\frac{\\tilde{E}_n(f)}{E_n(f)} = 1$$"
   ]
  },
  {
   "cell_type": "code",
   "execution_count": null,
   "metadata": {},
   "outputs": [],
   "source": [
    "D3f = lambda x: -2 * np.exp(x) * (np.cos(x) + np.sin(x))\n",
    "E_asymptotic = np.abs(h**4 / 180 * (D3f(b) - D3f(a)))\n",
    "print(E_asymptotic/E)"
   ]
  },
  {
   "cell_type": "markdown",
   "metadata": {
    "slideshow": {
     "slide_type": "slide"
    }
   },
   "source": [
    "## 5.2 Newton-Cotes Integration Formulas"
   ]
  },
  {
   "cell_type": "markdown",
   "metadata": {
    "slideshow": {
     "slide_type": "slide"
    }
   },
   "source": [
    "### Newton-Cotes Integration\n",
    "<br>\n",
    "\n",
    "For $n\\ge 1$, let $h = (b-a)/n,\\ x_j = a + j h\\ (j=0,1,\\dots,n$. \n",
    "Let $p_n$ be the interpolating polynomial of $f$ at $x_0, x_1, \\dots, x_n$.\n",
    "$$I(f) = \\int_a^b f(x)\\ dx \\quad \\approx \\quad I_n(f) = \\int_a^b p_n(x)\\ dx$$\n",
    "<br>\n",
    "\n",
    "$$\\Rightarrow \\qquad I_n(f) = \\sum_{j=0}^n w_{j,n}f(x_j)$$\n",
    "where\n",
    "$$w_{j,n} = \\int_a^b \\ell_{j,n}(x)\\ dx, \\qquad j=0,1,\\dots,n$$"
   ]
  },
  {
   "cell_type": "markdown",
   "metadata": {
    "slideshow": {
     "slide_type": "slide"
    }
   },
   "source": [
    "<span style=\"color:blue\">[Example]</span> &emsp; \n",
    "\\begin{align*}\n",
    "\tI_1(f) & = \\frac{h}{2}[f(a)+f(b)] - \\frac{h^3}{12}f''(\\xi) \\\\\n",
    "\t\\\\\n",
    "\tI_2(f) & = \\frac{h}{3}\\left[f(a) + 4f\\left(\\frac{a+b}{2}\\right)+f(b)\\right] - \\frac{h^5}{90}f^{(4)}(\\xi) \\\\ \n",
    "\t\\\\\n",
    "\tI_3(f) & = \\frac{3h}{8}[f(a) + 3f(a+h) + 3f(b-h)+f(b)] - \\frac{3h^5}{80}f^{(4)}(\\xi) \\\\\n",
    "\t\\\\ \n",
    "\tI_4(f) & = \\frac{2h}{45}\\left[7f(a) + 32f(a+h) + 12f\\left(\\frac{a+b}{2}\\right) + 32f(b-h)+7f(b)\\right] \\\\\n",
    "\t&\\qquad - \\frac{8h^7}{945}f^{(6)}(\\xi)\n",
    "\\end{align*}"
   ]
  },
  {
   "cell_type": "markdown",
   "metadata": {
    "slideshow": {
     "slide_type": "-"
    }
   },
   "source": [
    "### Error Formula\n",
    "\n",
    "***\n",
    "**Theorem 5.1** &emsp; \n",
    "\n",
    "(a) For $n$ even, assume $f(x)\\in C^{n+2}([a,b])$. Then\n",
    "$$I(f) - I_n(f) = C_n h^{n+3}f^{(n+2)}(\\eta), \\quad \\eta \\in [a,b]$$\n",
    "with\n",
    "$$C_n = \\frac{1}{(n+2)!}\\int_0^n \\mu^2(\\mu-1)\\cdots(\\mu-n)\\ d\\mu$$\n",
    "<br>\n",
    "\n",
    "(b) For $n$ odd, assume $f(x)\\in C^{n+1}([a,b])$. Then\n",
    "$$I(f) - I_n(f) = C_n h^{n+2}f^{(n+1)}(\\eta), \\quad \\eta \\in [a,b]$$\n",
    "with\n",
    "$$C_n = \\frac{1}{(n+1)!}\\int_0^n \\mu(\\mu-1)\\cdots(\\mu-n)\\ d\\mu$$"
   ]
  },
  {
   "cell_type": "markdown",
   "metadata": {
    "slideshow": {
     "slide_type": "slide"
    }
   },
   "source": [
    "### Convergence\n",
    "\n",
    "***\n",
    "**Theorem 5.2** &emsp; Let\n",
    "$$I_n(f) = \\sum_{j=0}^n w_{j,n} f(x_{j,n}), \\qquad n\\ge 1$$\n",
    "be a sequence of numerical integration formulas that approximate\n",
    "$$I(f) = \\int_a^b f(x)\\ dx.$$\n",
    "Let $\\mathfrak{F}$ be a family dense in $C[a,b]$. Then\n",
    "$$I_n(f) \\rightarrow I(f) \\qquad \\forall f\\in C[a,b]$$\n",
    "if and only if\n",
    "1. $I_n(f) \\rightarrow I(f) \\qquad \\forall f\\in\\mathfrak{F}$ <br>\n",
    "1. $\\displaystyle B\\equiv \\sup_{n\\ge 1} \\sum_{j=1}^n|w_{j,n}| < \\infty$"
   ]
  },
  {
   "cell_type": "markdown",
   "metadata": {
    "slideshow": {
     "slide_type": "slide"
    }
   },
   "source": [
    "### Discussion\n",
    "$$I(f) = \\int_{-4}^4 \\frac{1}{1+x^2}\\ dx = 2\\tan^{-1}(4) \\approx 2.6516$$\n",
    "\n",
    "- Newton-Cotes example\n",
    "\n",
    "|$n$|$I_n(f)$|\n",
    "|:---:|:---:|\n",
    "|$2$|$5.4902$|\n",
    "|$4$|$2.2776$|\n",
    "|$6$|$3.3288$|\n",
    "|$8$|$1.9411$|\n",
    "|$10$|$3.5956$|\n",
    "\t\n",
    "$$\\displaystyle \\sup_n \\sum_{j=1}^n|w_{j,n}| = \\infty$$"
   ]
  },
  {
   "cell_type": "markdown",
   "metadata": {
    "slideshow": {
     "slide_type": "slide"
    }
   },
   "source": [
    "## 5.3 Gaussian Quadrature"
   ]
  },
  {
   "cell_type": "markdown",
   "metadata": {
    "slideshow": {
     "slide_type": "slide"
    }
   },
   "source": [
    "### Integration Formulas\n",
    "\n",
    "For greater generality, we will consider formulas\n",
    "$$I(f) = \\int_a^b w(x) f(x)\\ dx \\quad \\approx \\quad I_n(f) = \\sum_{j=1}^n w_{j,n}f(x_{j,n})$$\n",
    "<br>\n",
    "\n",
    "Consider the special case\n",
    "\\begin{align*}\n",
    "\t\\int_{-1}^1 f(x)\\ dx \\approx \\sum_{j=1}^n w_{j,n}f(x_{j,n}) \\quad \\textrm{where} \\quad w(x) \\equiv 1\n",
    "\\end{align*}"
   ]
  },
  {
   "cell_type": "markdown",
   "metadata": {
    "slideshow": {
     "slide_type": "slide"
    }
   },
   "source": [
    "### Weights and Nodes\n",
    "\n",
    "The weights $\\{w_{j,n}\\}$ and nodes $\\{x_j\\}$ are chosen such that\n",
    "\\begin{align*}\n",
    "\tE_n(f) = \\int_{-1}^1 f(x)\\ dx - \\sum_{j=1}^n w_{j}f(x_j) = 0\n",
    "\\end{align*}\n",
    "for as high a degree polynomial $f(x)$ as possible. \n",
    "<br>\n",
    "\n",
    "\\begin{align*}\n",
    "\t\\Rightarrow \\ E_n(a_0 + a_1 x + \\cdots + a_m x^m) = a_0 E_n(1) + a_1 E_n(x) + \\cdots + a_m E_n(x^m)\n",
    "\\end{align*}\n",
    "<br>\n",
    "\n",
    "Thus, $E_n(f) = 0$ for every polynomial of degree $\\le m$\n",
    "\\begin{align*}\n",
    "\t\\Longleftrightarrow \\qquad E_n(x^i) = 0 \\quad i = 0,1,\\dots,m\n",
    "\\end{align*}"
   ]
  },
  {
   "cell_type": "markdown",
   "metadata": {
    "slideshow": {
     "slide_type": "slide"
    }
   },
   "source": [
    "<span style=\"color:blue\">[Example]</span> &emsp; \n",
    "\n",
    "1. $n = 1 \\quad \\Rightarrow \\quad w_1 = 2,\\ x_1 = 0$\n",
    "\n",
    "\\begin{align*}\n",
    "\t\\int_{-1}^1 f(x) \\ dx \\approx 2f(0)\n",
    "\\end{align*}\n",
    "<br>\n",
    "\n",
    "\n",
    "2. $n = 2 \\quad \\Rightarrow \\quad w_1 = w_2 = 1,\\ x_1 = -\\sqrt{3}/3,\\ x_2 = \\sqrt{3}/3$\n",
    "\n",
    "\\begin{align*}\n",
    "\t\\int_{-1}^1 f(x) \\ dx \\approx f\\left(-\\frac{\\sqrt{3}}{3}\\right) + f\\left(\\frac{\\sqrt{3}}{3}\\right)\n",
    "\\end{align*}"
   ]
  },
  {
   "cell_type": "markdown",
   "metadata": {
    "slideshow": {
     "slide_type": "slide"
    }
   },
   "source": [
    "***\n",
    "**Definition** &emsp; Let $\\{\\varphi_n(x)\\ |\\ n\\ge 0\\}$ be the orthogonal polynomials on $(a,b)$ w.r.t. the weight function $w(x)\\ge 0$. <br>\n",
    "<br>\n",
    "\n",
    "Denote the zeros of $\\varphi_n(x)$ by\n",
    "$$a < x_1 < \\cdots < x_n < b$$\n",
    "<br>\n",
    "\n",
    "We can write $\\varphi_n(x) = A_n(x-x_1)\\cdots(x-x_n)$ and let\n",
    "\\begin{align*}\n",
    "\t\\gamma_n = \\int_a^b w(x) [\\varphi_n(x)]^2\\ dx\n",
    "\\end{align*}\n",
    "***"
   ]
  },
  {
   "cell_type": "markdown",
   "metadata": {
    "slideshow": {
     "slide_type": "slide"
    }
   },
   "source": [
    "***\n",
    "**Theorem 5.3** &emsp; For each $n\\ge 1$, there is a unique numerical integration formula\n",
    "\\begin{align*}\n",
    "\tI(f) = \\int_a^b w(x) f(x)\\ dx \\quad \\approx \\quad \\sum_{j=1}^n w_{j}f(x_j) = I_n(f)\n",
    "\\end{align*}\n",
    "if degree $2n-1$. Assume that $f$ is $2n$ times continuously differentiable on $[a,b]$, then the formula $I_n(f)$ and its error is given by\n",
    "\\begin{align*}\n",
    "\t\\int_a^b w(x) f(x) \\ dx = \\sum_{j=1}^n w_{j}f(x_j) + \\frac{\\gamma_n}{A_n^2(2n)!} f^{(2n)}(\\eta)\n",
    "\\end{align*}\n",
    "for some $\\eta \\in (a,b)$. The nodes $\\{x_j\\}$ are the zeros of $\\varphi_n(x)$ and the weights $\\{w_j\\}$ are given by\n",
    "\\begin{align*}\n",
    "\tw_j = \\frac{-A_{n+1}\\gamma_n}{A_n\\varphi_n'(x_j)\\varphi_{n+1}(x_j)}, \\quad j=1,\\cdots,n.\n",
    "\\end{align*}\n",
    "***"
   ]
  },
  {
   "cell_type": "markdown",
   "metadata": {
    "slideshow": {
     "slide_type": "slide"
    }
   },
   "source": [
    "### Gauss-Legendre quadrature\n",
    "\n",
    "For $w(x) = 1$ and the Legendre polynomial $P_n(x)$ on $[-1,1]$, the Gaussian formula is given by\n",
    "\\begin{equation*}\n",
    "\t\\int_{-1}^1 f(x)\\ dx \\approx \\sum_{j=1}^n w_j f(x_j),\n",
    "\\end{equation*}\n",
    "where $x_j$ are the roots of $p_n(x)$ in $[-1,1]$ and\n",
    "\\begin{align*}\n",
    "\tw_j = \\frac{-2}{(n+1)p_n'(x_j)p_{n+1}(x_j)} = \\frac{2}{(1-x_j^2)(p_n'(x_j))^2}, \\quad j=1,\\cdots, n\n",
    "\\end{align*}"
   ]
  },
  {
   "cell_type": "markdown",
   "metadata": {
    "slideshow": {
     "slide_type": "slide"
    }
   },
   "source": [
    "|$n$|$x_j$|$w_j$|\n",
    "|:---:|:---:|:---:|\n",
    "|$1$|$0$|$0$|\n",
    "|$2$|$\\displaystyle \\pm \\sqrt{\\frac{1}{3}}$|$1$|\n",
    "|$3$|$0$|$\\displaystyle \\frac{8}{9}$|\n",
    "|   |$\\displaystyle \\pm \\sqrt{\\frac{3}{5}}$|$\\displaystyle \\frac{5}{9}$|\n",
    "|$4$|$\\displaystyle \\pm \\sqrt{\\frac{3}{7}-\\frac{2}{7}\\sqrt{\\frac{6}{5}}}$|$\\displaystyle \\frac{18+\\sqrt{30}}{36}$|\n",
    "|   |$\\displaystyle \\pm \\sqrt{\\frac{3}{7}+\\frac{2}{7}\\sqrt{\\frac{6}{5}}}$|$\\displaystyle \\frac{18-\\sqrt{30}}{36}$|\n",
    "|$5$|$0$|$\\displaystyle \\frac{128}{225}$|\n",
    "|   |$\\displaystyle \\pm \\frac{1}{3}\\sqrt{5-2\\sqrt{\\frac{10}{7}}}$|$\\displaystyle \\frac{332+13\\sqrt{70}}{988}$|\n",
    "|   |$\\displaystyle \\pm \\frac{1}{3}\\sqrt{5+2\\sqrt{\\frac{10}{7}}}$|$\\displaystyle \\frac{332-13\\sqrt{70}}{988}$|"
   ]
  },
  {
   "cell_type": "markdown",
   "metadata": {
    "slideshow": {
     "slide_type": "slide"
    }
   },
   "source": [
    "### Chebyshev-Gauss quadrature\n",
    "\n",
    "For $w(x) = 1/\\sqrt{1-x^2}$ and the Legendre polynomial $T_n(x)$ on $[-1,1]$, the Gaussian formula is given by\n",
    "\\begin{equation*}\n",
    "\t\\int_{-1}^1 f(x)\\ dx \\approx \\sum_{j=1}^n w_j f(x_j),\n",
    "\\end{equation*}\n",
    "where \n",
    "\\begin{align*}\n",
    "\tx_j = \\cos\\left(\\frac{(2j-1)\\pi}{2n}\\right)\n",
    "\\end{align*}\n",
    "and\n",
    "\\begin{align*}\n",
    "\tw_j = \\frac{-2}{(n+1)T_n'(x_j)T_{n+1}(x_j)} = \\frac{\\pi}{n}, \\quad j=1,\\cdots, n\n",
    "\\end{align*}"
   ]
  },
  {
   "cell_type": "markdown",
   "metadata": {
    "slideshow": {
     "slide_type": "slide"
    }
   },
   "source": [
    "|$n$|$x_j$|$w_j$|\n",
    "|:---:|:---:|:---:|\n",
    "|$1$|$0$|$\\pi$|\n",
    "|$2$|$\\displaystyle \\pm {\\frac{1}{\\sqrt{2}}}$|$\\frac{\\pi}{2}$|\n",
    "|$3$|$0$|$\\displaystyle \\frac{\\pi}{3}$|\n",
    "|   |$\\displaystyle \\pm \\sqrt{\\frac{3}{4}}$|$\\displaystyle \\frac{\\pi}{3}$|\n",
    "|$4$|$\\displaystyle \\pm \\frac{1}{2}\\sqrt{2-\\sqrt{2}}$|$\\displaystyle \\frac{\\pi}{4}$|\n",
    "|   |$\\displaystyle \\pm \\frac{1}{2}\\sqrt{2+\\sqrt{2}}$|$\\displaystyle \\frac{\\pi}{4}$|\n",
    "|$5$|$0$|$\\displaystyle \\frac{\\pi}{5}$|\n",
    "|   |$\\displaystyle \\pm \\frac{1}{2}\\sqrt{\\frac{1}{2}(5-\\sqrt{5})}$|$\\displaystyle \\frac{\\pi}{5}$|\n",
    "|   |$\\displaystyle \\pm \\frac{1}{2}\\sqrt{\\frac{1}{2}(5+\\sqrt{5})}$|$\\displaystyle \\frac{\\pi}{5}$|"
   ]
  }
 ],
 "metadata": {
  "celltoolbar": "Slideshow",
  "kernelspec": {
   "display_name": "Python 3",
   "language": "python",
   "name": "python3"
  },
  "language_info": {
   "codemirror_mode": {
    "name": "ipython",
    "version": 3
   },
   "file_extension": ".py",
   "mimetype": "text/x-python",
   "name": "python",
   "nbconvert_exporter": "python",
   "pygments_lexer": "ipython3",
   "version": "3.8.2"
  }
 },
 "nbformat": 4,
 "nbformat_minor": 4
}
