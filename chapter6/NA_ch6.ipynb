{
 "cells": [
  {
   "cell_type": "markdown",
   "metadata": {},
   "source": [
    "This lecture note is based on \"An Introduction to NUMERICAL ANALYSIS\" (2nd Edition) <br> by Kendall E. Atkinson\n",
    "\n",
    "\n",
    "# Chapter 6. NUMERICAL METHODS FOR ORDINARY DIFFERENTIAL EQUATIONS"
   ]
  },
  {
   "cell_type": "markdown",
   "metadata": {},
   "source": [
    "### Goal\n",
    "\n",
    "Solve the initial value problem (IVP)\n",
    "<br>\n",
    "\n",
    "\\begin{equation*}\n",
    "\t\\left\\{\\begin{array}{l}\n",
    "\t\ty' = f(x,y), \\\\[2ex] y(x_0) = y_0,\n",
    "\t\\end{array}\\right.\n",
    "\\end{equation*}\n",
    "<br>\n",
    "\n",
    "where $f(x,y)$ is continuous for all $(x,y)$ in some domain $D$"
   ]
  },
  {
   "cell_type": "markdown",
   "metadata": {},
   "source": [
    "### Solution\n",
    "\n",
    "We say that $y(x)$ is a solution on $[a,b]$ of IVP if $\\forall x \\in [a,b]$\n",
    "<br>\n",
    "\n",
    "1. $(x,y(x)) \\in D$\n",
    "<br>\n",
    "\n",
    "2. $y(x_0) = y_0$\n",
    "<br>\n",
    "\n",
    "3. $y'(x)$ exists and $y'(x) = f(x,y(x))$ "
   ]
  },
  {
   "cell_type": "markdown",
   "metadata": {},
   "source": [
    "<span style=\"color:blue\">[Example 1]</span> &emsp; Consider \n",
    "<br>\n",
    "\n",
    "\\begin{align*}\n",
    "\ty' = \\lambda y + g(x), \\qquad x \\in [0,\\infty)\n",
    "\\end{align*}\n",
    "\n",
    "with $g(x)$ continuous on $[0,\\infty)$ and $y(0) = y_0$. \n",
    "<br>\n",
    "\n",
    "\\begin{align*}\n",
    "\t\\Rightarrow \\qquad y(x) = y_0 e^{\\lambda x} + \\int_0^x e^{\\lambda(x-t)}g(t)\\ dt, \\qquad x\\in[0,\\infty)\n",
    "\\end{align*}"
   ]
  },
  {
   "cell_type": "markdown",
   "metadata": {},
   "source": [
    "<span style=\"color:blue\">[Example 2]</span> &emsp; Consider the following nonlinear equation \n",
    "<br>\n",
    "\n",
    "\\begin{align*}\n",
    "\ty' = - y^2\n",
    "\\end{align*}\n",
    "<br>\n",
    "\n",
    "\\begin{align*}\n",
    "\t\\Rightarrow \\qquad y(x) &= 0 \\\\\n",
    "\t\\\\\n",
    "\t\\Rightarrow \\qquad y(x) &= \\frac{1}{x+c}\n",
    "\\end{align*}"
   ]
  },
  {
   "cell_type": "markdown",
   "metadata": {},
   "source": [
    "<span style=\"color:blue\">[Example 3]</span> &emsp; Consider $y' = -y$ \n",
    "<br>\n",
    "\n",
    "<img src=\"direction_field_1.png\" height=\"20\" align=\"center\">"
   ]
  },
  {
   "cell_type": "markdown",
   "metadata": {},
   "source": [
    "<span style=\"color:blue\">[Example 4]</span> &emsp; Consider $y' = x^2 + y^2$ \n",
    "<br>\n",
    "\n",
    "<img src=\"direction_field_2.png\" height=\"30\" align=\"center\">"
   ]
  },
  {
   "cell_type": "markdown",
   "metadata": {},
   "source": [
    "## 6.1 Existence, Uniqueness, and Stability Theory"
   ]
  },
  {
   "cell_type": "markdown",
   "metadata": {},
   "source": [
    "***\n",
    "**Theorem (Existence and Uniqueness)** &emsp; Let $f(x,y)$ be a continuous function of $x$ and $y$, for all $(x,y) \\in D$, where $D=\\{(x,y)\\ :\\ |x-x_0| < \\alpha, \\ |y-y_0|<\\beta\\}$.\n",
    "\tAssume $f(x,y)$ satisfies the *Lipschitz condition*\n",
    "<br>\n",
    "<br>\n",
    "\n",
    "\\begin{align*}\n",
    "\t\t|f(x,y_1) - f(x,y_2)| \\le K|y_1 - y_2|, \\quad \\forall (x, y_1),\\ (x, y_2) \\in D\n",
    "\\end{align*}\n",
    "<br>\n",
    "    \n",
    "for some $K\\ge 0$.\n",
    "Then, there is a unique solution $y(x)$ of IVP in the interval $[x_0 - \\gamma, x_0 + \\gamma]$ where $\\gamma = \\min\\{\\alpha, \\beta/M\\}$ with $M = \\max_{(x,y) \\in D} |f(x,y)|$.\n",
    "***"
   ]
  },
  {
   "cell_type": "markdown",
   "metadata": {},
   "source": [
    "<span style=\"color:blue\">[Example]</span> &emsp; Consider $y' = 1+ \\sin(xy)$ with $D = \\{(x,y)\\ : \\ 0\\le x \\le 1,\\ -\\infty < y < \\infty\\}$. <br>\n",
    "\n",
    "\\begin{align*}\n",
    "\t\\Rightarrow \\qquad \\left|\\frac{\\partial f(x,y)}{\\partial y}\\right| = |x\\cos(xy)| \\le 1\n",
    "\\end{align*}\n",
    "<br>\n",
    "\n",
    "Thus, for any $(x_0, y_0)\\in D$, there exists a unique solution $y(x)$ in some interval $[x_0 - \\gamma, x_0 + \\gamma] \\subset [0,1]$."
   ]
  },
  {
   "cell_type": "markdown",
   "metadata": {},
   "source": [
    "### Perturbed Problem\n",
    "\n",
    "Consider the perturbed problem <br>\n",
    "\n",
    "\\begin{equation*}\n",
    "\t\\left\\{\\begin{array}{l}\n",
    "\t\ty' = f(x,y) + \\delta(x), \\\\[2ex] y(x_0) = y_0 + \\epsilon,\n",
    "\t\\end{array}\\right.\n",
    "\\end{equation*}\n",
    "<br>\n",
    "\n",
    "where $f(x,y)$ satisfies the Lipschitz condition and $\\delta(x)$ is continuous for all $x$."
   ]
  },
  {
   "cell_type": "markdown",
   "metadata": {},
   "source": [
    "## Stability\n",
    "\n",
    "***\n",
    "**Theorem 6.2 (Stability)** &emsp; Assume the same hypotheses in the existence and uniqueness theorem.\n",
    "Then, there exists a unique solution $y(x;\\delta,\\epsilon)$ of the perturbed problem on an interval $[x_0-\\gamma, x_0 + \\gamma]$ uniformly for all perturbations $\\epsilon$ and $\\delta(x)$ that satisfy\n",
    "<br>\n",
    "\n",
    "\\begin{align*}\n",
    "\t\t|\\epsilon| \\le \\epsilon_0, \\qquad \\|\\delta\\|_{\\infty} \\le \\epsilon_0\n",
    "\\end{align*}\n",
    "<br>\t\n",
    "\n",
    "for sufficiently small $\\epsilon_0$.\n",
    "If $y(x)$ is the solution of IVP, unperturbed problem, then\n",
    "<br>\n",
    "\n",
    "\\begin{align*}\n",
    "\t\t\\max_{|x-x_0|\\le \\gamma} |y(x) - y(x;\\delta,\\epsilon)| \\le k(|\\epsilon| + \\gamma \\|\\delta\\|_{\\infty})\n",
    "\\end{align*}\n",
    "<br>\t\n",
    "\n",
    "with $k = 1/(1-\\gamma K)$.\n",
    "***"
   ]
  },
  {
   "cell_type": "markdown",
   "metadata": {},
   "source": [
    "**Remark**\n",
    "\n",
    "- Small changes in data ($f$ or $y_0$) leads to small changes in solution <br>\n",
    "<br>\n",
    "\n",
    "- The solution $y$ depends continuously on the data of the problem <br>\n",
    "<br>\n",
    "\n",
    "- A problem could be stable but ill-conditioned with respect to numerical computation <br>\n",
    "<br>\n",
    "\n",
    "- This is true with differential equation, although it does not occur often in practice"
   ]
  },
  {
   "cell_type": "markdown",
   "metadata": {},
   "source": [
    "<span style=\"color:blue\">[Example]</span> &emsp; The equation\n",
    "<br>\n",
    "\n",
    "\\begin{align*}\n",
    "\ty' = 100 y - 101 e^{-x}, \\qquad y(0) = 1\n",
    "\\end{align*}\n",
    "<br>\n",
    "\n",
    "has the solution $y(x) = e^{-x}$. The perturbed problem\n",
    "<br>\n",
    "\n",
    "\\begin{align*}\n",
    "\ty' = 100 y - 101 e^{-x}, \\qquad y(0) = 1 + \\epsilon\n",
    "\\end{align*}\n",
    "<br>\n",
    "\n",
    "has the solution $y(x;\\epsilon) = e^{-x} + \\epsilon e^{100x}$ which rapidly departs from the true solution. \n",
    "<br>\n",
    "\n",
    "$\\Rightarrow$ &emsp; ill-conditioned"
   ]
  },
  {
   "cell_type": "markdown",
   "metadata": {},
   "source": [
    "### Systems of First Order Differential Equations\n",
    "\n",
    "\\begin{equation*}\n",
    "\t\\begin{array}{cc}\n",
    "\t\ty_1' = f_1(x,y_1,\\cdots,y_m), & \\quad y_1(x_0) = y_{1,0} \\\\[1ex]\n",
    "\t\ty_2' = f_2(x,y_1,\\cdots,y_m), & \\quad y_2(x_0) = y_{2,0} \\\\[1ex]\n",
    "\t\t\\vdots & \\vdots \\\\[1ex]\n",
    "\t\ty_m' = f_m(x,y_1,\\cdots,y_m), & \\quad y_m(x_0) = y_{m,0}\n",
    "\t\\end{array}\n",
    "\\end{equation*}\n",
    "<br>\n",
    "\n",
    "\\begin{align*}\n",
    "\t\\Rightarrow \\qquad \\boldsymbol{y}' = \\boldsymbol{f}(x,\\boldsymbol{y}), \\quad \\boldsymbol{y} = \\boldsymbol{y}_0\n",
    "\\end{align*}"
   ]
  },
  {
   "cell_type": "markdown",
   "metadata": {},
   "source": [
    "### Higher Order Differential Equations}\n",
    "\\begin{equation*}\n",
    "\t\\left\\{\\begin{array}{l}\n",
    "\t\ty^{(m)} = f(x,y,y',y'',\\cdots,y^{(m-1)}) \\\\[2ex]\n",
    "\t\ty(x_0) = y_0,\\ y'(x_0) = y_{0,1}, \\ \\cdots, \\ y^{(m-1)}(x_0) = y_{0,m-1}\n",
    "\t\\end{array}\\right.\n",
    "\\end{equation*}\t\n",
    "<br>\n",
    "\n",
    "Let $y_1 = y,\\ y_2 = y', \\ \\cdots, \\ y_m = y^{(m-1)}$, then \n",
    "<br>\n",
    "\n",
    "\\begin{equation*}\n",
    "\t\\begin{array}{rl}\n",
    "\t\ty_1' = y_2, & \\quad y_1(x_0) = y_0 \\\\[1ex]\n",
    "\t\ty_2' = y_3, & \\quad y_2(x_0) = y_{0,1} \\\\[1ex]\n",
    "\t\t\\vdots \\hskip+1.7em & \\hskip+4.2em \\vdots \\\\[1ex]\n",
    "\t\ty_{m-1}' = y_m, & \\quad y_{m-1}(x_0) = y_{0,m-2} \\\\[1ex]\n",
    "\t\ty_m' = f(x,y_1,y_2,\\cdots,y_m), & \\quad y_m(x_0) = y_{0,m-1} \\\\\n",
    "\t\\end{array}\n",
    "\\end{equation*}"
   ]
  },
  {
   "cell_type": "markdown",
   "metadata": {},
   "source": [
    "\\begin{equation*}\n",
    "\t\\left[\\begin{array}{c}\n",
    "\t\ty_1' \\\\[1ex] y_2' \\\\[1ex] \\vdots \\\\[1ex] y_{m-1}' \\\\[1ex] y_m'\n",
    "\t\\end{array}\\right] = \\left[\\begin{array}{cccccc}\n",
    "\t\t0 & 1 & 0 & \\cdots & 0 & 0 \\\\[1ex]\n",
    "\t\t0 & 0 & 1 & \\cdots & 0 & 0 \\\\[1ex]\n",
    "\t\t\\vdots & \\vdots & \\vdots & \\ddots & \\vdots & \\vdots \\\\[1ex]\n",
    "\t\t0 & 0 & 0 & \\cdots & 0 & 1 \\\\[1ex]\n",
    "\t\tf(x,y_1,\\cdots,y_m)\n",
    "\t\\end{array}\\right]\n",
    "\t\\left[\\begin{array}{c}\n",
    "\t\ty_1 \\\\[1ex] y_2 \\\\[1ex] \\vdots \\\\[1ex] y_{m-1} \\\\[1ex] y_m\n",
    "\t\\end{array}\\right] + \\left[\\begin{array}{c}\n",
    "\t\t0 \\\\[1ex] 0 \\\\[1ex] \\vdots \\\\[1ex] 0 \\\\[1ex] g(x)\n",
    "\t\\end{array}\\right]\n",
    "\\end{equation*}\t\n",
    "<br>\n",
    "\n",
    "with\n",
    "\\begin{equation*}\n",
    "\t\\left[\\begin{array}{c}\n",
    "\t\ty_1(x_0) \\\\[1ex] y_2(x_0) \\\\[1ex] \\vdots \\\\[1ex] y_{m-1}(x_0) \\\\[1ex] y_m(x_0)\n",
    "\t\\end{array}\\right] = \\left[\\begin{array}{c}\n",
    "\t\ty_0 \\\\[1ex] y_{0,1} \\\\[1ex] \\vdots \\\\[1ex] y_{0,m-2} \\\\[1ex] y_{0,m-1}\n",
    "\t\\end{array}\\right]\n",
    "\\end{equation*}\n",
    "<br>\n",
    "\n",
    "\\begin{equation*}\n",
    "\t\\Rightarrow \\qquad \\boldsymbol{y}' = A(x)\\boldsymbol{y} + G(x)\n",
    "\\end{equation*}"
   ]
  },
  {
   "cell_type": "markdown",
   "metadata": {},
   "source": [
    "<span style=\"color:blue\">[Example]</span> &emsp; Consider\n",
    "\\begin{align*}\n",
    "\ty'' = a_1(x) y' + a_0(x) y + g(x), \\quad y(x_0) = \\alpha, \\ y'(x_0) = \\beta\n",
    "\\end{align*}\n",
    "<br>\n",
    "\n",
    "\\begin{equation*}\n",
    "\t\\Rightarrow \\quad \\left[\\begin{array}{c}\n",
    "\t\ty_1' \\\\[1ex] y_2'\n",
    "\t\\end{array}\\right] = \\left[\\begin{array}{cc}\n",
    "\t\t0 & 1 \\\\[1ex] a_0(x) & a_1(x)\n",
    "\t\\end{array}\\right] \\left[\\begin{array}{c}\n",
    "\t\ty_1 \\\\[1ex] y_2\n",
    "\t\\end{array}\\right] + \\left[\\begin{array}{c}\n",
    "\t\t0 \\\\[1ex] g(x)\n",
    "\t\\end{array}\\right]\n",
    "\\end{equation*}\n",
    "<br>\n",
    "\n",
    "\\begin{equation*}\n",
    "\t\\textrm{with} \\quad \n",
    "\t\\left[\\begin{array}{c}\n",
    "\t\ty_1(x_0) \\\\[1ex] y_2(x_0)\n",
    "\t\\end{array}\\right] = \\left[\\begin{array}{c}\n",
    "\t\t\\alpha \\\\[1ex] \\beta\n",
    "\t\\end{array}\\right]\n",
    "\\end{equation*}"
   ]
  },
  {
   "cell_type": "markdown",
   "metadata": {},
   "source": [
    "## 6.2 Euler's Method"
   ]
  },
  {
   "cell_type": "markdown",
   "metadata": {},
   "source": [
    "### Euler's Method\n",
    "\n",
    "Let $y$ be the solution of\n",
    "\n",
    "\\begin{equation*}\n",
    "\t\\left\\{\\begin{array}{l}\n",
    "\t\ty'(x) = f(x,y), \\\\[2ex] y(x_0) = y_0\n",
    "\t\\end{array}\\right.\n",
    "\\end{equation*}\n",
    "<br>\n",
    "\n",
    "Consider a set of grid points\n",
    "\n",
    "\\begin{align*}\n",
    "\tx_0 < x_1 < x_2 < \\cdots < x_n < \\cdots\n",
    "\\end{align*}\n",
    "<br>\n",
    "\n",
    "where $x_j = x_0 + j h, \\quad j = 0, 1, \\cdots$ \n",
    "<br>\n",
    "\n",
    "\\begin{align*}\n",
    "\t\\Rightarrow \\qquad y_{n+1} = y_n + hf(x_n, y_n), \\quad n = 0, 1, 2, \\cdots\n",
    "\\end{align*}"
   ]
  },
  {
   "cell_type": "markdown",
   "metadata": {},
   "source": [
    "### Geometric approach\n",
    "\n",
    "<img src=\"figures/euler_ex.png\" height=\"30\" align=\"center\">\n",
    "<br>\n",
    "\n",
    "\\begin{equation*}\n",
    "\t\\frac{\\Delta y}{h} = y'(x_0) = f(x_0,y_0)\n",
    "\\end{equation*}\n",
    "\\begin{equation*}\n",
    "\t\\Rightarrow \\quad y(x_1) - y(x_0) = \\Delta y = h y'(x_0)\n",
    "\\end{equation*}\n",
    "\\begin{equation*}\n",
    "\t\\Rightarrow \\quad y(x_1) = y(x_0) + h f(x_0,y(x_0))\n",
    "\\end{equation*}"
   ]
  },
  {
   "cell_type": "markdown",
   "metadata": {},
   "source": [
    "### Taylor Series Approach\n",
    "\n",
    "Since $x_{n+1} = x_n + h$,\n",
    "<br>\n",
    "\n",
    "\\begin{align*}\n",
    "\ty(x_{n+1}) = y(x_n) + h y'(x_n) + \\frac{h^2}{2}y''(\\xi_n)\n",
    "\\end{align*}\n",
    "<br>\n",
    "\n",
    "for some $\\xi_n \\in [x_n, x_{n+1}]$.\n",
    "<br>\n",
    "<br>\n",
    "\n",
    "\\begin{align*}\n",
    "\t\\Rightarrow \\qquad y(x_{n+1}) \\approx y(x_n) + h f(x_n, y(x_n))\n",
    "\\end{align*}"
   ]
  },
  {
   "cell_type": "markdown",
   "metadata": {},
   "source": [
    "### Numerical Differentiation Approach\n",
    "\n",
    "\\begin{equation*}\n",
    "\t\\frac{y(x_{n+1}) - y(x_n)}{h} \\approx y'(x_n) = f(x_n, y(x_n))\n",
    "\\end{equation*}\n",
    "<br>\n",
    "\n",
    "\\begin{align*}\n",
    "\t\\Rightarrow \\qquad y(x_{n+1}) \\approx y(x_n) + h f(x_n, y(x_n))\n",
    "\\end{align*}"
   ]
  },
  {
   "cell_type": "markdown",
   "metadata": {},
   "source": [
    "### Numerical Integration Approach\n",
    "\n",
    "Integrate $y'(t) = f(t, y(t))$ over $[x_n, x_{n+1}]$: \n",
    "<br>\n",
    "\n",
    "\\begin{equation*}\n",
    "\ty(x_{n+1}) = y(x_n) + \\int_{x_n}^{x_{n+1}} f(t, y(t))\\ dt\n",
    "\\end{equation*}\n",
    "<br>\n",
    "\n",
    "\\begin{align*}\n",
    "\t\\Rightarrow \\qquad y(x_{n+1}) \\approx y(x_n) + h f(x_n, y(x_n))\n",
    "\\end{align*}"
   ]
  },
  {
   "cell_type": "markdown",
   "metadata": {},
   "source": [
    "<span style=\"color:blue\">[Example]</span> &emsp; Consider the IVP\n",
    "\n",
    "\\begin{equation*}\n",
    "\t\\left\\{\\begin{array}{l}\n",
    "\t\ty'(x) = y, \\\\[2ex] y(0) = 1\n",
    "\t\\end{array}\\right.\n",
    "\\end{equation*}\n",
    "<br>\n",
    "\n",
    "\\begin{equation*}\n",
    "\t\\Rightarrow \\qquad y(x) = e^x\n",
    "\\end{equation*}"
   ]
  },
  {
   "cell_type": "markdown",
   "metadata": {},
   "source": [
    "Evaluate $y$ using Euler's method with $h = 0.2,\\ 0.1,\\ 0.05,\\ 0.025,\\ 0.0125,\\ x\\in[0,4]$"
   ]
  },
  {
   "cell_type": "code",
   "execution_count": 1,
   "metadata": {},
   "outputs": [
    {
     "data": {
      "image/png": "[encoded data removed]",
      "text/plain": [
       "<Figure size 864x2592 with 5 Axes>"
      ]
     },
     "metadata": {
      "needs_background": "light"
     },
     "output_type": "display_data"
    }
   ],
   "source": [
    "import numpy as np\n",
    "import matplotlib.pylab as plt\n",
    "%matplotlib inline\n",
    "\n",
    "y_exact = lambda x: np.exp(x)\n",
    "f = lambda y: y\n",
    "xx = np.linspace(0, 4, num=200)\n",
    "plt.figure(figsize=(12,36))\n",
    "h = [0.2, 0.1, 0.05, 0.025, 0.0125]\n",
    "error = np.zeros(5)\n",
    "for n in range(0,5):\n",
    "    num_nodes = int(4 / h[n])\n",
    "    x = np.linspace(0,4,num=num_nodes+1)\n",
    "    y = np.zeros(x.shape[0])\n",
    "    y[0] = 1\n",
    "    for j in range(0,num_nodes):\n",
    "        y[j+1] = y[j] + f(y[j]) * h[n]\n",
    "    \n",
    "    error[n] = np.max(np.abs(y_exact(x) - y))\n",
    "    \n",
    "    plt.subplot(5,1,n+1)\n",
    "    plt.plot(xx,y_exact(xx),label='$e^x$')\n",
    "    plt.plot(x,y,'ro',label='h={}'.format(h[n]))\n",
    "    plt.legend()\n",
    "    \n",
    "plt.show()"
   ]
  },
  {
   "cell_type": "code",
   "execution_count": 2,
   "metadata": {},
   "outputs": [
    {
     "data": {
      "text/plain": [
       "array([16.26055011,  9.33889446,  5.03670897,  2.62028194,  1.33704119])"
      ]
     },
     "execution_count": 2,
     "metadata": {},
     "output_type": "execute_result"
    }
   ],
   "source": [
    "error"
   ]
  },
  {
   "cell_type": "markdown",
   "metadata": {},
   "source": [
    "<span style=\"color:blue\">[Example]</span> &emsp; Consider the IVP\n",
    "<br>\n",
    "\n",
    "\\begin{equation*}\n",
    "\t\\left\\{\\begin{array}{l}\n",
    "\t\t\\displaystyle y'(x) = \\frac{1}{1+x^2} - 2 y^2 , \\\\[2ex] y(0) = 0\n",
    "\t\\end{array}\\right.\n",
    "\\end{equation*}\n",
    "<br>\n",
    "\n",
    "\\begin{equation*}\n",
    "\t\\Rightarrow \\qquad y(x) = \\frac{x}{1+x^2}\n",
    "\\end{equation*}"
   ]
  },
  {
   "cell_type": "markdown",
   "metadata": {},
   "source": [
    "Evaluate $y$ using Euler's method with $h = 0.2,\\ 0.1,\\ 0.05,\\ 0.025,\\ 0.0125,\\ x\\in[0,4]$"
   ]
  },
  {
   "cell_type": "code",
   "execution_count": 3,
   "metadata": {},
   "outputs": [
    {
     "data": {
      "image/png": "[encoded data removed]",
      "text/plain": [
       "<Figure size 864x2592 with 5 Axes>"
      ]
     },
     "metadata": {
      "needs_background": "light"
     },
     "output_type": "display_data"
    }
   ],
   "source": [
    "import numpy as np\n",
    "import matplotlib.pylab as plt\n",
    "%matplotlib inline\n",
    "\n",
    "y_exact = lambda x: x / (1 + x**2)\n",
    "f = lambda x, y: 1 / (1 + x**2) - 2 * y**2\n",
    "xx = np.linspace(0, 4, num=200)\n",
    "plt.figure(figsize=(12,36))\n",
    "h = [0.2, 0.1, 0.05, 0.025, 0.0125]\n",
    "error = np.zeros(5)\n",
    "for n in range(0,5):\n",
    "    num_nodes = int(4 / h[n])\n",
    "    x = np.linspace(0,4,num=num_nodes+1)\n",
    "    y = np.zeros(x.shape[0])\n",
    "    y[0] = 0\n",
    "    for j in range(0,num_nodes):\n",
    "        y[j+1] = y[j] + f(x[j],y[j]) * h[n]\n",
    "    \n",
    "    error[n] = np.max(np.abs(y_exact(x) - y))\n",
    "    \n",
    "    plt.subplot(5,1,n+1)\n",
    "    plt.plot(xx,y_exact(xx),label='$e^x$')\n",
    "    plt.plot(x,y,'ro',label='h={}'.format(h[n]))\n",
    "    plt.legend()\n",
    "    \n",
    "plt.show()"
   ]
  },
  {
   "cell_type": "code",
   "execution_count": 4,
   "metadata": {},
   "outputs": [
    {
     "data": {
      "text/plain": [
       "array([0.05447594, 0.02594661, 0.01276886, 0.00632036, 0.00314486])"
      ]
     },
     "execution_count": 4,
     "metadata": {},
     "output_type": "execute_result"
    }
   ],
   "source": [
    "error"
   ]
  },
  {
   "cell_type": "markdown",
   "metadata": {},
   "source": [
    "### Convergence\n",
    "\n",
    "***\n",
    "**Theorem 6.3** &emsp; Assume that $f$ is Lipschitz continuous and the solution $y(x)$ of IVP has a bounded second derivative on $[x_0,b]$.\n",
    "Let $\\{y_n\\}$ be Euler solutions.\n",
    "Suppose\n",
    "<br>\n",
    "\n",
    "\\begin{align*}\n",
    "\t|y(x_0) - y_0| \\le c_1 h, \\qquad \\textrm{for some} \\ c_1\\ge 0,\n",
    "\\end{align*}\n",
    "<br>\n",
    "\n",
    "then there is a constant $C\\ge 0$ for which\n",
    "<br>\n",
    "\n",
    "\\begin{align*}\n",
    "\t\\max_{x_0\\le x_n\\le b} |y(x_n) - y_n| \\le C h.\n",
    "\\end{align*}\n",
    "***"
   ]
  },
  {
   "cell_type": "markdown",
   "metadata": {},
   "source": [
    "## Stability Analysis\n",
    "\n",
    "Consider a perturbed problem\n",
    "\n",
    "\\begin{equation*}\n",
    "\t\\left\\{\\begin{array}{l}\n",
    "\t\tz_{n+1} = z_n + h \\{f(x_n,z_n) + \\delta(x_n)\\}, \\\\[2ex] z_0 = y_0 + \\epsilon\n",
    "\t\\end{array}\\right.\n",
    "\\end{equation*}\n",
    "<br>\n",
    "\n",
    "Let $e_n = z_n - y_n,\\ n\\ge 0$.\n",
    "<br>\n",
    "\n",
    "\\begin{equation*}\n",
    "\te_{n+1} = e_n + h\\{f(x_n,z_n) - f(x_n,y_n)\\} + h\\delta(x_n)\n",
    "\\end{equation*}\n",
    "<br>\n",
    "\n",
    "\\begin{align*}\n",
    "\t\\Rightarrow \\quad |z_n - y_n| &\\le e^{(x_n - x_0)K}|\\epsilon| + \\left(\\frac{e^{(x_n-x_0)K}-1}{K}\\right)\\|\\delta\\|_\\infty \\\\\n",
    "\t&\\le k_1|\\epsilon| + k_2\\|\\delta\\|_\\infty\n",
    "\\end{align*}"
   ]
  },
  {
   "cell_type": "markdown",
   "metadata": {},
   "source": [
    "## 6.3 Multistep Methods"
   ]
  },
  {
   "cell_type": "markdown",
   "metadata": {},
   "source": [
    "### Multistep methods\n",
    "\n",
    "Let $h > 0$ and $x_n = x_0 + n h, \\ n\\ge 0$ <br>\n",
    "\n",
    "\\begin{align*}\n",
    "\ty_{n+1} = \\sum_{j=1}^p a_j y_{n-j} + h \\sum_{j=-1}^p b_j f(x_{n-j}, y_{n-j}),\\quad n\\ge p\n",
    "\\end{align*}\n",
    "<br>\n",
    "\n",
    "where the coefficients $a_0,\\cdots,a_p,b_{-1},\\cdots,b_p$ are constants and $p \\ge 0$ <br>\n",
    "<br>\n",
    "\n",
    "- If either $a_p \\neq 0$ or $b_p \\neq 0$, then it is called $p+1$ step method <br>\n",
    "\n",
    "- The values $y_1, \\cdots, y_p$ must be obtained by other means <br>\n",
    "\n",
    "- Explicit method : $b_{-1} = 0$ <br>\n",
    "\n",
    "- Implicit method : $b_{-1} \\neq 0$"
   ]
  },
  {
   "cell_type": "markdown",
   "metadata": {},
   "source": [
    "<span style=\"color:blue\">[Example]</span> &emsp; Euler's method is defined by <br>\n",
    "\n",
    "\\begin{align*}\n",
    "\ty_{n+1} = y_n + h f(x_n, y_n), \\qquad n\\ge 0\n",
    "\\end{align*}\n",
    "<br>\n",
    "\n",
    "Here, we can easily check $p = 0, \\ a_0 = 1, \\ b_0 = 1, \\ b_{-1} = 0$ <br><br>\n",
    "\n",
    "$\\Rightarrow$ &emsp; This method is an explicit one-step method"
   ]
  },
  {
   "cell_type": "markdown",
   "metadata": {},
   "source": [
    "<span style=\"color:blue\">[Example]</span> &emsp; The midpoint method is defined by <br>\n",
    "\n",
    "\\begin{align*}\n",
    "\ty_{n+1} = y_{n-1} + 2 h f(x_n, y_n), \\quad n\\ge 1\n",
    "\\end{align*}\n",
    "<br>\n",
    "\n",
    "This is an explicit two-step method with \n",
    "\n",
    "$$p = 1,\\ a_0 = 0,\\ a_1 = 1,\\ b_1 = 0,\\ b_0 = 2,\\ b_{-1} = 0$$"
   ]
  },
  {
   "cell_type": "markdown",
   "metadata": {},
   "source": [
    "<span style=\"color:blue\">[Example]</span> &emsp; The trapezoidal method is defined by <br>\n",
    "\n",
    "\\begin{align*}\n",
    "\ty_{n+1} = y_{n} + \\frac{h}{2}[ f(x_n, y_n) + f(x_{n+1}, y_{n+1})], \\quad n\\ge 0\n",
    "\\end{align*}\n",
    "<br>\n",
    "\n",
    "This is an implicit one-step method with \n",
    "\n",
    "$$p = 0,\\ a_0 = 1,\\ b_0 = \\frac{1}{2},\\ b_{-1} = \\frac{1}{2}$$"
   ]
  },
  {
   "cell_type": "markdown",
   "metadata": {},
   "source": [
    "### Truncation Error\n",
    "\n",
    "For any differentiable function $y(x)$, define the truncation error by <br>\n",
    "\n",
    "\\begin{align*}\n",
    "\tT_n(y) = y(x_{n+1}) - \\left[\\sum_{j=1}^p a_j y_{n-j} + h \\sum_{j=-1}^p b_j y'(x_{n-j})\\right]\n",
    "\\end{align*}\n",
    "<br>\n",
    "\n",
    "Define the function $\\tau_n(y)$ by <br>\n",
    "\n",
    "\\begin{align*}\n",
    "\t\\tau_n(y) = \\frac{T_n(y)}{h}\n",
    "\\end{align*}"
   ]
  },
  {
   "cell_type": "markdown",
   "metadata": {},
   "source": [
    "### Consistency Condition\n",
    "\n",
    "We say the multistep method is consistent if <br>\n",
    "\n",
    "\\begin{align*}\n",
    "\t\\max_{x_p \\le x_n \\le b} |\\tau_n(y)| \\rightarrow 0, \\quad \\textrm{as} \\quad \\ h\\rightarrow 0\n",
    "\\end{align*}"
   ]
  },
  {
   "cell_type": "markdown",
   "metadata": {},
   "source": [
    "***\n",
    "**Theorem 6.5** &emsp; The multistep method is consistent if and only if\n",
    "\n",
    "\\begin{align*}\n",
    "\t\\sum_{j=0}^p a_j = 1 \\qquad \\textrm{and} \\qquad -\\sum_{j=0}^p j a_j + \\sum_{j=-1}^p b_j = 1.\n",
    "\\end{align*}\n",
    "\n",
    "Moreover, for $y(x) \\in C^{m+1},\\ \\tau(h) = \\mathcal{O}(h^m)$ if and only if the above equations hold and\n",
    "\n",
    "\\begin{align*}\n",
    "\t\\sum_{j=0}^p (-j)^i a_j + i\\sum_{j = -1}^p (-j)^{i-1} b_j = 1, \\quad i = 2, \\cdots, m.\n",
    "\\end{align*}\n",
    "\n",
    "Here, $m$ is called the order of convergence of the multistep method.\n",
    "***"
   ]
  },
  {
   "cell_type": "markdown",
   "metadata": {},
   "source": [
    "<span style=\"color:blue\">[Example]</span> &emsp; Euler's method is an explicit one-step method with \n",
    "\n",
    "$$p = 0, \\ a_0 = 1, \\ b_0 = 1, \\ b_{-1} = 0$$ <br> <br>\n",
    "\n",
    "$\\displaystyle i = 2 \\ : \\ \\sum_{j=0}^1 (-j)^2 a_j + 2\\sum_{j = -1}^1 (-j)^1 b_j = 0 \\neq 1$"
   ]
  },
  {
   "cell_type": "markdown",
   "metadata": {},
   "source": [
    "<span style=\"color:blue\">[Example]</span> &emsp; The midpoint method is an explicit two-step method with \n",
    "\n",
    "$$p = 1,\\ a_0 = 0,\\ a_1 = 1,\\ b_1 = 0,\\ b_0 = 2,\\ b_{-1} = 0$$ <br>\n",
    "\n",
    "$\\displaystyle i = 2 \\ : \\ \\sum_{j=0}^1 (-j)^2 a_j + 2\\sum_{j = -1}^1 (-j)^1 b_j = a_1 + 2\\cdot0 = 1$ <br>\n",
    "\n",
    "$\\displaystyle i = 3 \\ : \\ \\sum_{j=0}^1 (-j)^3 a_j + 3\\sum_{j = -1}^1 (-j)^2 b_j = (-1)^3 a_1 + 3\\cdot0 = -1 \\neq 1$ "
   ]
  },
  {
   "cell_type": "markdown",
   "metadata": {},
   "source": [
    "***\n",
    "**Theorem 6.6 (Convergence theorem)** &emsp; Consider solving the IVP $y' = (x,y),\\ y(x_0) = y_0, \\ x_0 \\le x \\le b$ using the multistep method.\n",
    "Let the initial errors satisfy\n",
    "\n",
    "\\begin{align*}\n",
    "\t\\eta(h) \\equiv \\max_{0\\le i \\le p} |y(x_i) - y_i| \\rightarrow 0 \\qquad \\textrm{as} \\ h\\rightarrow 0.\n",
    "\\end{align*}\n",
    "\n",
    "Assume the method is consistent and the coefficients $a_j, \\ j = 0,1,\\cdots,p$ are all nonnegative.\n",
    "Then, the method is convergent and\n",
    "\n",
    "\\begin{align*}\n",
    "\t\\max_{x_0 \\le x_n \\le b}|y(x_n) - y_n| \\le c_1\\eta(h) + c_2 \\tau(h)\n",
    "\\end{align*}\n",
    "\n",
    "for some constants $c_1$ and $c_2$.\n",
    "If the method is of order $m$ and if the initial errors satisfy $\\eta(h) = \\mathcal{O}(h^m)$, then the speed of convergence of the method is $\\mathcal{O}(h^m)$\n",
    "***"
   ]
  },
  {
   "cell_type": "markdown",
   "metadata": {},
   "source": [
    "## 6.4 The Midpoint Method"
   ]
  },
  {
   "cell_type": "markdown",
   "metadata": {},
   "source": [
    "### Taylor Series Approach\n",
    "\n",
    "\\begin{align*}\n",
    "\tg(a+h) &= g(a) + h g'(a) + \\frac{h^2}{2} g''(a) + \\frac{h^3}{6} g'''(a) + \\cdots \\\\\n",
    "\tg(a-h) &= g(a) - h g'(a) + \\frac{h^2}{2} g''(a) - \\frac{h^3}{6} g'''(a) + \\cdots\n",
    "\\end{align*}\n",
    "<br>\n",
    "\n",
    "\\begin{align*}\n",
    "\t\\Rightarrow \\qquad g'(a) = \\frac{g(a+h) - g(a-h)}{2h} - \\frac{h^2}{6} g'''(\\xi), \\qquad \\xi \\in [a-h, a+h]\n",
    "\\end{align*}\n",
    "<br>\n",
    "\n",
    "\\begin{align*}\n",
    "\t\\Rightarrow \\qquad f(x_n, y(x_n)) = y'(x_n) \\approx \\frac{y(x_{n+1}) - y(x_{n-1})}{2h}\n",
    "\\end{align*}"
   ]
  },
  {
   "cell_type": "markdown",
   "metadata": {},
   "source": [
    "### Numerical Integration Approach\n",
    "\n",
    "Integrate $y'(t) = f(t, y(t))$ over $[x_{n-1}, x_{n+1}]$: <br>\n",
    "\n",
    "\\begin{equation*}\n",
    "\ty(x_{n+1}) = y(x_{n-1}) + \\int_{x_{n-1}}^{x_{n+1}} f(t, y(t))\\ dt\n",
    "\\end{equation*}\n",
    "<br>\n",
    "\n",
    "Using the midpoint rule to approximate the integration,\n",
    "\n",
    "\\begin{align*}\n",
    "\t\\Rightarrow \\qquad y(x_{n+1}) \\approx y(x_{n-1}) + 2 h f(x_n, y(x_n))\n",
    "\\end{align*}"
   ]
  },
  {
   "cell_type": "markdown",
   "metadata": {},
   "source": [
    "## 6.5 The Trapezoid Method"
   ]
  },
  {
   "cell_type": "markdown",
   "metadata": {},
   "source": [
    "### Numerical Integration Approach\n",
    "\n",
    "Integrate $y'(t) = f(t, y(t))$ over $[x_{n}, x_{n+1}]$: <br>\n",
    "\n",
    "\\begin{equation*}\n",
    "\ty(x_{n+1}) = y(x_{n}) + \\int_{x_{n}}^{x_{n+1}} f(t, y(t))\\ dt\n",
    "\\end{equation*}\n",
    "<br>\n",
    "\n",
    "Using the trapezoidal rule to approximate the integration,\n",
    "\n",
    "\\begin{align*}\n",
    "\t\\Rightarrow \\ y(x_{n+1}) \\approx y(x_{n}) + \\frac{h}{2} [f(x_n, y(x_n)) + f(x_{n+1},y(x_{n+1}))]\n",
    "\\end{align*}"
   ]
  },
  {
   "cell_type": "markdown",
   "metadata": {},
   "source": [
    "### Iterative Solution\n",
    "\n",
    "Let $y^{(0)}_{n+1}$ be a good initial guess of the solution $y_{n+1}$, and define <br>\n",
    "\n",
    "\\begin{align*}\n",
    "\ty_{n+1}^{(j+1)} = y_n + \\frac{h}{2}[f(x_n, y_n) + f(x_{n+1},y_{n+1}^{(j)})], \\quad j = 0,1,\\cdots\n",
    "\\end{align*}\n",
    "<br>\n",
    "\n",
    "\\begin{align*}\n",
    "\t\\Rightarrow \\qquad |y_{n+1} - y_{n+1}^{(j+1)}| &= \\frac{h}{2}|f(x_{n+1},y_{n+1}) - f(x_{n+1},y_{n+1}^{(j)})| \\\\\n",
    "\t& \\le \\frac{h}{2}K |y_{n+1} - y_{n+1}^{(j)}|\n",
    "\\end{align*}\n",
    "<br>\n",
    "\n",
    "$\\therefore \\ \\{y_{n+1}^{(j)}\\}$ converges to $y_{n+1}$ as $j \\rightarrow \\infty$ if $\\displaystyle \\frac{h}{2}K < 1$"
   ]
  },
  {
   "cell_type": "markdown",
   "metadata": {},
   "source": [
    "### Stability\n",
    "\n",
    "Consider a model equation\n",
    "\n",
    "\\begin{align*}\n",
    "\ty' = \\lambda y, \\quad y(0) = 1 \\qquad \\Rightarrow \\qquad y(x) = e^{\\lambda x}\n",
    "\\end{align*}\n",
    "<br><br>\n",
    "\n",
    "Consider the trapezoidal method applied to the linear equation\n",
    "\\begin{align*}\n",
    "\ty' = \\lambda y + g(x), \\qquad y(0) = y_0\n",
    "\\end{align*}\n",
    "\n",
    "\n",
    "\\begin{align*}\n",
    "\t\\Rightarrow \\qquad y_{n+1} = y_n + \\frac{h}{2}[\\lambda y_n + g(x_n) + \\lambda y_{n+1} + g(x_{n+1})]\n",
    "\\end{align*}\n",
    "<br>\n",
    "\n",
    "Then, the perturbed numerical method can be written as\n",
    "\n",
    "\\begin{align*}\n",
    "\tz_{n+1} = z_n + \\frac{h}{2}[\\lambda z_n + g(x_n) + \\lambda z_{n+1} + g(x_{n+1})]\n",
    "\\end{align*}\n",
    "with $z_0 = y_0 + \\epsilon$"
   ]
  },
  {
   "cell_type": "markdown",
   "metadata": {},
   "source": [
    "Let $w_n = z_n - y_n$\n",
    "\n",
    "\\begin{align*}\n",
    "\tw_{n+1} = w_n + \\frac{h\\lambda}{2}(w_n + w_{n+1}), \\qquad n \\ge 0\n",
    "\\end{align*}\n",
    "with $w_0 = \\epsilon$ \n",
    "<br>\n",
    "\n",
    "\\begin{align*}\n",
    "\tw_{n+1} = \\left(\\frac{1+(h\\lambda/2)}{1 - (h\\lambda /2)}\\right) w_n \\quad \\Rightarrow \\quad w_{n+1} = \\left(\\frac{1+(h\\lambda/2)}{1 - (h\\lambda /2)}\\right)^n w_0\n",
    "\\end{align*}\n",
    "<br>\n",
    "\n",
    "Let $r = (1+(h\\lambda/2))(1 - (h\\lambda /2))$. Then for $real(\\lambda) < 0$, we have\n",
    "\n",
    "\\begin{align*}\n",
    "\t|r| = \\left| \\frac{1+(h\\lambda/2)}{1 - (h\\lambda /2)}\\right| < 1 \\qquad \\forall h > 0\n",
    "\\end{align*}\n",
    "\n",
    "\\begin{align*}\n",
    "\t\\Rightarrow \\qquad \\lim_{n\\rightarrow \\infty} w_n = \\lim_{n\\rightarrow\\infty} r^n \\epsilon = 0\n",
    "\\end{align*}"
   ]
  },
  {
   "cell_type": "markdown",
   "metadata": {},
   "source": [
    "## 6.6 Examples of One-step Methods"
   ]
  },
  {
   "cell_type": "markdown",
   "metadata": {},
   "source": [
    "### Forward Euler\n",
    "\n",
    "\\begin{align*}\n",
    "\tf(x_n, y_n) = y'(x_n) \\approx \\frac{y_{n+1}-y_n}{h}\n",
    "\\end{align*}\n",
    "\n",
    "\\begin{align*}\n",
    "\t\\Rightarrow \\qquad y_{n+1} = y_n + h f(x_n,y_n)\n",
    "\\end{align*}\n",
    "<br>\n",
    "\n",
    "- Explicit method <br>\n",
    "\t\n",
    "- First-order accuracy"
   ]
  },
  {
   "cell_type": "markdown",
   "metadata": {},
   "source": [
    "### Backward Euler\n",
    "\n",
    "\\begin{align*}\n",
    "\tf(x_{n+1}, y_{n+1}) = y'(x_{n+1}) \\approx \\frac{y_{n+1}-y_n}{h}\n",
    "\\end{align*}\n",
    "\n",
    "\\begin{align*}\n",
    "\t\\Rightarrow \\qquad y_{n+1} = y_n + h f(x_{n+1},y_{n+1})\n",
    "\\end{align*}\n",
    "<br>\n",
    "\n",
    "- Implicit method <br>\n",
    "\t\n",
    "- First-order accuracy"
   ]
  },
  {
   "cell_type": "markdown",
   "metadata": {},
   "source": [
    "<span style=\"color:blue\">[Example]</span> &emsp; Consider the IVP\n",
    "\n",
    "\\begin{equation*}\n",
    "\t\\left\\{\\begin{array}{l}\n",
    "\t\ty'(x) = y, \\\\[2ex] y(0) = 1\n",
    "\t\\end{array}\\right.\n",
    "\\end{equation*}\n",
    "<br>\n",
    "\n",
    "\\begin{equation*}\n",
    "\t\\Rightarrow \\qquad y(x) = e^x\n",
    "\\end{equation*}\n",
    "<br>\n",
    "\n",
    "Evaluate $y$ using the backward Euler method with $h = 0.2,\\ 0.1,\\ 0.05,\\ 0.025,\\ 0.0125,\\ x\\in[0,4]$"
   ]
  },
  {
   "cell_type": "code",
   "execution_count": null,
   "metadata": {},
   "outputs": [],
   "source": [
    "import numpy as np\n",
    "import matplotlib.pylab as plt\n",
    "%matplotlib inline\n",
    "\n",
    "y_exact = lambda x: np.exp(x)\n",
    "f = lambda y: y\n",
    "xx = np.linspace(0, 4, num=200)\n",
    "plt.figure(figsize=(12,36))\n",
    "h = [0.2, 0.1, 0.05, 0.025, 0.0125]\n",
    "error = np.zeros(5)\n",
    "for n in range(0,5):\n",
    "    num_nodes = int(4 / h[n])\n",
    "    x = np.linspace(0,4,num=num_nodes+1)\n",
    "    y = np.zeros(x.shape[0])\n",
    "    y[0] = 1\n",
    "    for j in range(0,num_nodes):\n",
    "        # write the following line\n",
    "        y[j+1] = \n",
    "    \n",
    "    error[n] = np.max(np.abs(y_exact(x) - y))\n",
    "    \n",
    "    plt.subplot(5,1,n+1)\n",
    "    plt.plot(xx,y_exact(xx),label='$e^x$')\n",
    "    plt.plot(x,y,'ro',label='h={}'.format(h[n]))\n",
    "    plt.legend()\n",
    "    \n",
    "plt.show()"
   ]
  },
  {
   "cell_type": "code",
   "execution_count": null,
   "metadata": {},
   "outputs": [],
   "source": [
    "print('error: {}'.format(error))\n",
    "\n",
    "h = np.array([0.2, 0.1, 0.05, 0.025, 0.0125])\n",
    "rate = (np.log(error[1:]) - np.log(error[:-1]))/(np.log(h[1:]) - np.log(h[:-1]))\n",
    "print(' ')\n",
    "print('convergence rate: {}'.format(rate))"
   ]
  },
  {
   "cell_type": "markdown",
   "metadata": {},
   "source": [
    "### Trapezoidal Method\n",
    "\n",
    "\\begin{align*}\n",
    "\ty(x_{n+1}) &= y_n + \\int_{x_n}^{x_{n+1}} f(t, y(t))\\ dt \\\\\n",
    "\t&\\approx y_n + \\frac{h}{2}[f(x_n,y_n) + f(x_{n+1},y_{n+1})]\n",
    "\\end{align*}\n",
    "\n",
    "\\begin{align*}\n",
    "\t\\Rightarrow \\qquad y_{n+1} =  y_n + \\frac{h}{2}[f(x_n,y_n) + f(x_{n+1},y_{n+1})]\n",
    "\\end{align*}\n",
    "<br>\n",
    "\n",
    "- Implicit method <br>\n",
    "\n",
    "- Second-order accuracy"
   ]
  },
  {
   "cell_type": "markdown",
   "metadata": {},
   "source": [
    "<span style=\"color:blue\">[Example]</span> &emsp; Consider the IVP\n",
    "\n",
    "\\begin{equation*}\n",
    "\t\\left\\{\\begin{array}{l}\n",
    "\t\ty'(x) = y, \\\\[2ex] y(0) = 1\n",
    "\t\\end{array}\\right.\n",
    "\\end{equation*}\n",
    "<br>\n",
    "\n",
    "\\begin{equation*}\n",
    "\t\\Rightarrow \\qquad y(x) = e^x\n",
    "\\end{equation*}\n",
    "<br>\n",
    "\n",
    "Evaluate $y$ using the trapezoidal method with $h = 0.2,\\ 0.1,\\ 0.05,\\ 0.025,\\ 0.0125,\\ x\\in[0,4]$"
   ]
  },
  {
   "cell_type": "code",
   "execution_count": null,
   "metadata": {},
   "outputs": [],
   "source": [
    "import numpy as np\n",
    "import matplotlib.pylab as plt\n",
    "%matplotlib inline\n",
    "\n",
    "y_exact = lambda x: np.exp(x)\n",
    "f = lambda y: y\n",
    "xx = np.linspace(0, 4, num=200)\n",
    "plt.figure(figsize=(12,36))\n",
    "h = [0.2, 0.1, 0.05, 0.025, 0.0125]\n",
    "error = np.zeros(5)\n",
    "for n in range(0,5):\n",
    "    num_nodes = int(4 / h[n])\n",
    "    x = np.linspace(0,4,num=num_nodes+1)\n",
    "    y = np.zeros(x.shape[0])\n",
    "    y[0] = 1\n",
    "    for j in range(0,num_nodes):\n",
    "        # write the following line\n",
    "        y[j+1] = \n",
    "    \n",
    "    error[n] = np.max(np.abs(y_exact(x) - y))\n",
    "    \n",
    "    plt.subplot(5,1,n+1)\n",
    "    plt.plot(xx,y_exact(xx),label='$e^x$')\n",
    "    plt.plot(x,y,'ro',label='h={}'.format(h[n]))\n",
    "    plt.legend()\n",
    "    \n",
    "plt.show()"
   ]
  },
  {
   "cell_type": "code",
   "execution_count": null,
   "metadata": {},
   "outputs": [],
   "source": [
    "print('error: {}'.format(error))\n",
    "\n",
    "h = np.array([0.2, 0.1, 0.05, 0.025, 0.0125])\n",
    "rate = (np.log(error[1:]) - np.log(error[:-1]))/(np.log(h[1:]) - np.log(h[:-1]))\n",
    "print(' ')\n",
    "print('convergence rate: {}'.format(rate))"
   ]
  },
  {
   "cell_type": "markdown",
   "metadata": {},
   "source": [
    "### Taylor Series Method\n",
    "\n",
    "\\begin{align*}\n",
    "\ty(x_{n+1}) &= y(x_n) + h y'(x_n) + \\frac{1}{2} h^2 y''(x_n) + \\cdots  \n",
    "\\end{align*}\n",
    "\n",
    "\\begin{align*}\n",
    "\t\\Rightarrow \\qquad y(x_{n+1}) &= y(x_n) + h y'(x_n) + \\frac{1}{2} h^2 y''(x_n) + \\cdots + \\frac{1}{p!} h^p y^{(p)}(x_n)\n",
    "\\end{align*}\n",
    "<br>\n",
    "\n",
    "- Explicit method <br>\n",
    "\n",
    "- High-order accuracy <br>\n",
    "\t\n",
    "- NOT PRACTICAL!!"
   ]
  },
  {
   "cell_type": "markdown",
   "metadata": {},
   "source": [
    "### Runge-Kutta Methods\n",
    "\n",
    "1) Second order two-stage Runge-Kutta method:\n",
    "\n",
    "\\begin{align*}\n",
    "\t\t\\text{first stage : } & y^* = y_n + \\frac{h}{2}f(x_n,y_n) \\\\[3ex]\n",
    "\t\t\\text{second stage : } & y_{n+1} = y_n + h f(x_{n+\\frac{1}{2}}, y^*)\n",
    "\\end{align*}\n",
    "<br>\n",
    "\n",
    "\\begin{align*}\n",
    "\t\\Rightarrow \\qquad y_{n+1} = y_n + h f\\left(x_{n+\\frac{1}{2}}, y_n + \\frac{h}{2}f(x_n, y_n)\\right)\n",
    "\\end{align*}"
   ]
  },
  {
   "cell_type": "markdown",
   "metadata": {},
   "source": [
    "<span style=\"color:blue\">[Example]</span> &emsp; Consider the IVP\n",
    "\n",
    "\\begin{equation*}\n",
    "\t\\left\\{\\begin{array}{l}\n",
    "\t\ty'(x) = y, \\\\[2ex] y(0) = 1\n",
    "\t\\end{array}\\right.\n",
    "\\end{equation*}\n",
    "<br>\n",
    "\n",
    "\\begin{equation*}\n",
    "\t\\Rightarrow \\qquad y(x) = e^x\n",
    "\\end{equation*}\n",
    "<br>\n",
    "\n",
    "Evaluate $y$ using RK2 with $h = 0.2,\\ 0.1,\\ 0.05,\\ 0.025,\\ 0.0125,\\ x\\in[0,4]$"
   ]
  },
  {
   "cell_type": "code",
   "execution_count": null,
   "metadata": {},
   "outputs": [],
   "source": [
    "import numpy as np\n",
    "import matplotlib.pylab as plt\n",
    "%matplotlib inline\n",
    "\n",
    "y_exact = lambda x: np.exp(x)\n",
    "f = lambda y: y\n",
    "xx = np.linspace(0, 4, num=200)\n",
    "plt.figure(figsize=(12,36))\n",
    "h = [0.2, 0.1, 0.05, 0.025, 0.0125]\n",
    "error = np.zeros(5)\n",
    "for n in range(0,5):\n",
    "    num_nodes = int(4 / h[n])\n",
    "    x = np.linspace(0,4,num=num_nodes+1)\n",
    "    y = np.zeros(x.shape[0])\n",
    "    y[0] = 1\n",
    "    for j in range(0,num_nodes):\n",
    "        # write the following lines\n",
    "        y_star = \n",
    "        y[j+1] = \n",
    "    \n",
    "    error[n] = np.max(np.abs(y_exact(x) - y))\n",
    "    \n",
    "    plt.subplot(5,1,n+1)\n",
    "    plt.plot(xx,y_exact(xx),label='$e^x$')\n",
    "    plt.plot(x,y,'ro',label='h={}'.format(h[n]))\n",
    "    plt.legend()\n",
    "    \n",
    "plt.show()"
   ]
  },
  {
   "cell_type": "code",
   "execution_count": null,
   "metadata": {},
   "outputs": [],
   "source": [
    "print('error: {}'.format(error))\n",
    "\n",
    "h = np.array([0.2, 0.1, 0.05, 0.025, 0.0125])\n",
    "rate = (np.log(error[1:]) - np.log(error[:-1]))/(np.log(h[1:]) - np.log(h[:-1]))\n",
    "print(' ')\n",
    "print('convergence rate: {}'.format(rate))"
   ]
  },
  {
   "cell_type": "markdown",
   "metadata": {},
   "source": [
    "<span style=\"color:blue\">[Example]</span> &emsp; Consider the IVP\n",
    "<br>\n",
    "\n",
    "\\begin{equation*}\n",
    "\t\\left\\{\\begin{array}{l}\n",
    "\t\t\\displaystyle y'(x) = \\frac{1}{1+x^2} - 2 y^2 , \\\\[2ex] y(0) = 0\n",
    "\t\\end{array}\\right.\n",
    "\\end{equation*}\n",
    "<br>\n",
    "\n",
    "\\begin{equation*}\n",
    "\t\\Rightarrow \\qquad y(x) = \\frac{x}{1+x^2}\n",
    "\\end{equation*}\n",
    "<br>\n",
    "\n",
    "Evaluate $y$ using RK2 with $h = 0.2,\\ 0.1,\\ 0.05,\\ 0.025,\\ 0.0125,\\ x\\in[0,4]$"
   ]
  },
  {
   "cell_type": "code",
   "execution_count": null,
   "metadata": {},
   "outputs": [],
   "source": [
    "import numpy as np\n",
    "import matplotlib.pylab as plt\n",
    "%matplotlib inline\n",
    "\n",
    "y_exact = lambda x: x / (1 + x**2)\n",
    "f = lambda x, y: 1 / (1 + x**2) - 2 * y**2\n",
    "xx = np.linspace(0, 4, num=200)\n",
    "plt.figure(figsize=(12,36))\n",
    "h = [0.2, 0.1, 0.05, 0.025, 0.0125]\n",
    "error = np.zeros(5)\n",
    "for n in range(0,5):\n",
    "    num_nodes = int(4 / h[n])\n",
    "    x = np.linspace(0,4,num=num_nodes+1)\n",
    "    y = np.zeros(x.shape[0])\n",
    "    y[0] = 0\n",
    "    for j in range(0,num_nodes):\n",
    "        # write the following lines\n",
    "        y_star = \n",
    "        y[j+1] = \n",
    "    \n",
    "    error[n] = np.max(np.abs(y_exact(x) - y))\n",
    "    \n",
    "    plt.subplot(5,1,n+1)\n",
    "    plt.plot(xx,y_exact(xx),label='$e^x$')\n",
    "    plt.plot(x,y,'ro',label='h={}'.format(h[n]))\n",
    "    plt.legend()\n",
    "    \n",
    "plt.show()"
   ]
  },
  {
   "cell_type": "code",
   "execution_count": null,
   "metadata": {},
   "outputs": [],
   "source": [
    "print('error: {}'.format(error))\n",
    "\n",
    "h = np.array([0.2, 0.1, 0.05, 0.025, 0.0125])\n",
    "rate = (np.log(error[1:]) - np.log(error[:-1]))/(np.log(h[1:]) - np.log(h[:-1]))\n",
    "print(' ')\n",
    "print('convergence rate: {}'.format(rate))"
   ]
  },
  {
   "cell_type": "markdown",
   "metadata": {},
   "source": [
    "2) Fourth order four-stage Runge-Kutta method:\n",
    "\n",
    "\\begin{align*}\n",
    "\t\\text{first stage : } & Y_1 = y_n \\\\[3ex]\n",
    "\t\\text{second stage : } & Y_2 = y_n + \\frac{h}{2} f(x_{n}, Y_1) \\\\[3ex]\n",
    "\t\\text{third stage : } & Y_3 = y_n + \\frac{h}{2} f(x_{n+\\frac{1}{2}}, Y_2) \\\\[3ex]\n",
    "\t\\text{fourth stage : } & Y_4 = y_n + h f(x_{n+\\frac{1}{2}}, Y_3) \\\\[3ex]\n",
    "\\end{align*}\n",
    "<br>\n",
    "\n",
    "\\begin{align*}\n",
    "\t\\Rightarrow \\qquad y_{n+1} &= y_n + \\frac{h}{6}\\Big[f(x_{n}, Y_1) + 2 f(x_{n+\\frac{1}{2}}, Y_2) \\\\\n",
    "\t& \\hskip+3cm  + 2 f(x_{n+\\frac{1}{2}}, Y_3) + f(x_{n+1}, Y_4)\\Big]\n",
    "\\end{align*}"
   ]
  },
  {
   "cell_type": "markdown",
   "metadata": {},
   "source": [
    "<span style=\"color:blue\">[Example]</span> &emsp; Consider the IVP\n",
    "\n",
    "\\begin{equation*}\n",
    "\t\\left\\{\\begin{array}{l}\n",
    "\t\ty'(x) = y, \\\\[2ex] y(0) = 1\n",
    "\t\\end{array}\\right.\n",
    "\\end{equation*}\n",
    "<br>\n",
    "\n",
    "\\begin{equation*}\n",
    "\t\\Rightarrow \\qquad y(x) = e^x\n",
    "\\end{equation*}\n",
    "<br>\n",
    "\n",
    "Evaluate $y$ using RK4 with $h = 0.2,\\ 0.1,\\ 0.05,\\ 0.025,\\ 0.0125,\\ x\\in[0,4]$"
   ]
  },
  {
   "cell_type": "code",
   "execution_count": null,
   "metadata": {},
   "outputs": [],
   "source": [
    "import numpy as np\n",
    "import matplotlib.pylab as plt\n",
    "%matplotlib inline\n",
    "\n",
    "y_exact = lambda x: np.exp(x)\n",
    "f = lambda y: y\n",
    "xx = np.linspace(0, 4, num=200)\n",
    "plt.figure(figsize=(12,36))\n",
    "h = [0.2, 0.1, 0.05, 0.025, 0.0125]\n",
    "error = np.zeros(5)\n",
    "for n in range(0,5):\n",
    "    num_nodes = int(4 / h[n])\n",
    "    x = np.linspace(0,4,num=num_nodes+1)\n",
    "    y = np.zeros(x.shape[0])\n",
    "    y[0] = 1\n",
    "    for j in range(0,num_nodes):\n",
    "        # write the following lines\n",
    "        Y_1 = \n",
    "        Y_2 = \n",
    "        Y_3 = \n",
    "        Y_4 = \n",
    "        y[j+1] = \n",
    "    \n",
    "    error[n] = np.max(np.abs(y_exact(x) - y))\n",
    "    \n",
    "    plt.subplot(5,1,n+1)\n",
    "    plt.plot(xx,y_exact(xx),label='$e^x$')\n",
    "    plt.plot(x,y,'ro',label='h={}'.format(h[n]))\n",
    "    plt.legend()\n",
    "    \n",
    "plt.show()"
   ]
  },
  {
   "cell_type": "code",
   "execution_count": null,
   "metadata": {},
   "outputs": [],
   "source": [
    "print('error: {}'.format(error))\n",
    "\n",
    "h = np.array([0.2, 0.1, 0.05, 0.025, 0.0125])\n",
    "rate = (np.log(error[1:]) - np.log(error[:-1]))/(np.log(h[1:]) - np.log(h[:-1]))\n",
    "print(' ')\n",
    "print('convergence rate: {}'.format(rate))"
   ]
  },
  {
   "cell_type": "markdown",
   "metadata": {},
   "source": [
    "<span style=\"color:blue\">[Example]</span> &emsp; Consider the IVP\n",
    "<br>\n",
    "\n",
    "\\begin{equation*}\n",
    "\t\\left\\{\\begin{array}{l}\n",
    "\t\t\\displaystyle y'(x) = \\frac{1}{1+x^2} - 2 y^2 , \\\\[2ex] y(0) = 0\n",
    "\t\\end{array}\\right.\n",
    "\\end{equation*}\n",
    "<br>\n",
    "\n",
    "\\begin{equation*}\n",
    "\t\\Rightarrow \\qquad y(x) = \\frac{x}{1+x^2}\n",
    "\\end{equation*}\n",
    "<br>\n",
    "\n",
    "Evaluate $y$ using RK2 with $h = 0.2,\\ 0.1,\\ 0.05,\\ 0.025,\\ 0.0125,\\ x\\in[0,4]$"
   ]
  },
  {
   "cell_type": "code",
   "execution_count": null,
   "metadata": {},
   "outputs": [],
   "source": [
    "import numpy as np\n",
    "import matplotlib.pylab as plt\n",
    "%matplotlib inline\n",
    "\n",
    "y_exact = lambda x: x / (1 + x**2)\n",
    "f = lambda x, y: 1 / (1 + x**2) - 2 * y**2\n",
    "xx = np.linspace(0, 4, num=200)\n",
    "plt.figure(figsize=(12,36))\n",
    "h = [0.2, 0.1, 0.05, 0.025, 0.0125]\n",
    "error = np.zeros(5)\n",
    "for n in range(0,5):\n",
    "    num_nodes = int(4 / h[n])\n",
    "    x = np.linspace(0,4,num=num_nodes+1)\n",
    "    y = np.zeros(x.shape[0])\n",
    "    y[0] = 0\n",
    "    for j in range(0,num_nodes):\n",
    "        # write the following lines\n",
    "        Y_1 = \n",
    "        Y_2 = \n",
    "        Y_3 = \n",
    "        Y_4 = \n",
    "        y[j+1] = \n",
    "    \n",
    "    error[n] = np.max(np.abs(y_exact(x) - y))\n",
    "    \n",
    "    plt.subplot(5,1,n+1)\n",
    "    plt.plot(xx,y_exact(xx),label='$e^x$')\n",
    "    plt.plot(x,y,'ro',label='h={}'.format(h[n]))\n",
    "    plt.legend()\n",
    "    \n",
    "plt.show()"
   ]
  },
  {
   "cell_type": "code",
   "execution_count": null,
   "metadata": {},
   "outputs": [],
   "source": [
    "print('error: {}'.format(error))\n",
    "\n",
    "h = np.array([0.2, 0.1, 0.05, 0.025, 0.0125])\n",
    "rate = (np.log(error[1:]) - np.log(error[:-1]))/(np.log(h[1:]) - np.log(h[:-1]))\n",
    "print(' ')\n",
    "print('convergence rate: {}'.format(rate))"
   ]
  },
  {
   "cell_type": "markdown",
   "metadata": {},
   "source": [
    "## 6.7 Examples of Multistep Methods"
   ]
  },
  {
   "cell_type": "markdown",
   "metadata": {},
   "source": [
    "### Multistep Methods\n",
    "\n",
    "Recall $p+1$ step method :\n",
    "\n",
    "\\begin{align*}\n",
    "\ty_{n+1} = \\sum_{j=1}^p a_j y_{n-j} + h \\sum_{j=-1}^p b_j f(x_{n-j}, y_{n-j}),\\quad n\\ge p\n",
    "\\end{align*}"
   ]
  },
  {
   "cell_type": "markdown",
   "metadata": {},
   "source": [
    "### Derivations\n",
    "\n",
    "The method of undetermined coefficients :\n",
    "\n",
    "\\begin{align*}\n",
    "\t\\sum_{j=0}^p a_j = 1\n",
    "\\end{align*}\n",
    "\n",
    "and\n",
    "\n",
    "\\begin{align*}\n",
    "\t\\sum_{j=0}^p (-j)^i a_j + i\\sum_{j=-1}^p (-j)^{i-1} b_j = 1, \\qquad i = 1, 2, \\cdots, m\n",
    "\\end{align*}\n",
    "<br>\n",
    "<br>\n",
    "\n",
    "Numerical integration :\n",
    "\n",
    "\\begin{align*}\n",
    "\tY(x_{n+1}) = Y(x_{n-r}) + \\int_{x_{n-r}}^{x_{n+1}} f(t, Y(t))\\ dt\n",
    "\\end{align*}\n",
    "\n",
    "for some $r\\ge 0$ and for all $n \\ge r$"
   ]
  },
  {
   "cell_type": "markdown",
   "metadata": {},
   "source": [
    "### Milne's Method\n",
    "\n",
    "\\begin{align*}\n",
    "\tY(x_{n+1}) = Y(x_{n-1}) + \\int_{x_{n-1}}^{x_{n+1}} f(t, Y(t))\\ dt\n",
    "\\end{align*}\n",
    "\n",
    "Simpson's rule yields that\n",
    "\n",
    "\\begin{align*}\n",
    "\tY_{n+1} = Y_{n-1} + \\frac{h}{3}[Y'_{n-1} + 4Y'_n + Y'_{n+1}] - \\frac{h^5}{90}Y^{(5)}(\\xi_n)\n",
    "\\end{align*}\n",
    "<br>\n",
    "\n",
    "\\begin{align*}\n",
    "\ty_{n+1} = y_{n-1} + \\frac{h}{3}[f(x_{n-1},y_{n-1}) + 4f(x_n,y_n) + f(x_{n+1},y_{n+1})]\n",
    "\\end{align*}"
   ]
  },
  {
   "cell_type": "markdown",
   "metadata": {},
   "source": [
    "### Adams-Bashforth Methods\n",
    "\n",
    "\\begin{align*}\n",
    "\tp = 0 : & \\ Y_{n+1} = Y_n + h Y'_n + \\frac{1}{2} h^2 Y''(\\xi_n) \\\\\n",
    "\t\\\\\n",
    "\tp = 1 : & \\ Y_{n+1} = Y_n + \\frac{h}{2}[3Y'_n - Y'_{n-1}] + \\frac{5}{12}h^3 Y^{(3)}(\\xi_n) \\\\\n",
    "\t\\\\\n",
    "\tp = 2 : & \\ Y_{n+1} = Y_n + \\frac{h}{12}[23Y'_n - 16Y'_{n-1} + 5Y'_{n-2}] + \\frac{3}{8}h^4 Y^{(4)}(\\xi_n) \\\\\n",
    "\t\\\\\n",
    "\tp = 3 : & \\ Y_{n+1} = Y_n + \\frac{h}{24}[55Y'_n - 59Y'_{n-1} + 37Y'_{n-2} - 9Y'_{n-3}] \\\\\n",
    "\t&\\hskip+1.9cm + \\frac{251}{720}h^5 Y^{(5)}(\\xi_n)\n",
    "\\end{align*}"
   ]
  },
  {
   "cell_type": "markdown",
   "metadata": {},
   "source": [
    "<span style=\"color:blue\">[Example]</span> &emsp; Consider the IVP\n",
    "<br>\n",
    "\n",
    "\\begin{equation*}\n",
    "\t\\left\\{\\begin{array}{l}\n",
    "\t\t\\displaystyle y'(x) = \\frac{1}{1+x^2} - 2 y^2 , \\\\[2ex] y(0) = 0\n",
    "\t\\end{array}\\right.\n",
    "\\end{equation*}\n",
    "<br>\n",
    "\n",
    "\\begin{equation*}\n",
    "\t\\Rightarrow \\qquad y(x) = \\frac{x}{1+x^2}\n",
    "\\end{equation*}\n",
    "<br>\n",
    "\n",
    "Evaluate $y$ using AB2($p=1$) with $h = 0.2,\\ 0.1,\\ 0.05,\\ 0.025,\\ 0.0125,\\ x\\in[0,4]$"
   ]
  },
  {
   "cell_type": "code",
   "execution_count": null,
   "metadata": {},
   "outputs": [],
   "source": [
    "import numpy as np\n",
    "import matplotlib.pylab as plt\n",
    "%matplotlib inline\n",
    "\n",
    "y_exact = lambda x: x / (1 + x**2)\n",
    "f = lambda x, y: 1 / (1 + x**2) - 2 * y**2\n",
    "xx = np.linspace(0, 4, num=200)\n",
    "plt.figure(figsize=(12,36))\n",
    "h = [0.2, 0.1, 0.05, 0.025, 0.0125]\n",
    "error = np.zeros(5)\n",
    "for n in range(0,5):\n",
    "    num_nodes = int(4 / h[n])\n",
    "    x = np.linspace(0,4,num=num_nodes+1)\n",
    "    y = np.zeros(x.shape[0])\n",
    "    y[0] = 0\n",
    "    y[1] = y_exact(x[1])\n",
    "    dy_old = f(x[0],y[0])\n",
    "    for j in range(1,num_nodes):\n",
    "        # write the following lines\n",
    "        dy = f(x[j],y[j])\n",
    "        y[j+1] = y[j] + h[n] / 2 * (3 * dy - dy_old)\n",
    "        dy_old = dy\n",
    "    \n",
    "    error[n] = np.max(np.abs(y_exact(x) - y))\n",
    "    \n",
    "    plt.subplot(5,1,n+1)\n",
    "    plt.plot(xx,y_exact(xx),label='$e^x$')\n",
    "    plt.plot(x,y,'ro',label='h={}'.format(h[n]))\n",
    "    plt.legend()\n",
    "    \n",
    "plt.show()"
   ]
  },
  {
   "cell_type": "code",
   "execution_count": null,
   "metadata": {},
   "outputs": [],
   "source": [
    "print('error: {}'.format(error))\n",
    "\n",
    "h = np.array([0.2, 0.1, 0.05, 0.025, 0.0125])\n",
    "rate = (np.log(error[1:]) - np.log(error[:-1]))/(np.log(h[1:]) - np.log(h[:-1]))\n",
    "print(' ')\n",
    "print('convergence rate: {}'.format(rate))"
   ]
  },
  {
   "cell_type": "markdown",
   "metadata": {},
   "source": [
    "<span style=\"color:blue\">[Example]</span> &emsp; Consider the IVP\n",
    "<br>\n",
    "\n",
    "\\begin{equation*}\n",
    "\t\\left\\{\\begin{array}{l}\n",
    "\t\t\\displaystyle y'(x) = \\frac{1}{1+x^2} - 2 y^2 , \\\\[2ex] y(0) = 0\n",
    "\t\\end{array}\\right.\n",
    "\\end{equation*}\n",
    "<br>\n",
    "\n",
    "\\begin{equation*}\n",
    "\t\\Rightarrow \\qquad y(x) = \\frac{x}{1+x^2}\n",
    "\\end{equation*}\n",
    "<br>\n",
    "\n",
    "Evaluate $y$ using AB4($p=3$) with $h = 0.2,\\ 0.1,\\ 0.05,\\ 0.025,\\ 0.0125,\\ x\\in[0,4]$"
   ]
  },
  {
   "cell_type": "code",
   "execution_count": null,
   "metadata": {},
   "outputs": [],
   "source": [
    "import numpy as np\n",
    "import matplotlib.pylab as plt\n",
    "%matplotlib inline\n",
    "\n",
    "y_exact = lambda x: x / (1 + x**2)\n",
    "f = lambda x, y: 1 / (1 + x**2) - 2 * y**2\n",
    "xx = np.linspace(0, 4, num=200)\n",
    "plt.figure(figsize=(12,36))\n",
    "h = [0.2, 0.1, 0.05, 0.025, 0.0125]\n",
    "error = np.zeros(5)\n",
    "for n in range(0,5):\n",
    "    num_nodes = int(4 / h[n])\n",
    "    x = np.linspace(0,4,num=num_nodes+1)\n",
    "    y = np.zeros(x.shape[0])\n",
    "    y[0] = 0\n",
    "    y[1] = y_exact(x[1])\n",
    "    y[2] = y_exact(x[2])\n",
    "    y[3] = y_exact(x[3])\n",
    "    dy_3 = f(x[0],y[0])\n",
    "    dy_2 = f(x[1],y[1])\n",
    "    dy_1 = f(x[2],y[2])\n",
    "    for j in range(3,num_nodes):\n",
    "        # write the following lines\n",
    "        dy = \n",
    "        y[j+1] = \n",
    "        dy_3 = \n",
    "        dy_2 = \n",
    "        dy_1 = \n",
    "    \n",
    "    error[n] = np.max(np.abs(y_exact(x) - y))\n",
    "    \n",
    "    plt.subplot(5,1,n+1)\n",
    "    plt.plot(xx,y_exact(xx),label='$e^x$')\n",
    "    plt.plot(x,y,'ro',label='h={}'.format(h[n]))\n",
    "    plt.legend()\n",
    "    \n",
    "plt.show()"
   ]
  },
  {
   "cell_type": "code",
   "execution_count": null,
   "metadata": {},
   "outputs": [],
   "source": [
    "print('error: {}'.format(error))\n",
    "\n",
    "h = np.array([0.2, 0.1, 0.05, 0.025, 0.0125])\n",
    "rate = (np.log(error[1:]) - np.log(error[:-1]))/(np.log(h[1:]) - np.log(h[:-1]))\n",
    "print(' ')\n",
    "print('convergence rate: {}'.format(rate))"
   ]
  },
  {
   "cell_type": "markdown",
   "metadata": {},
   "source": [
    "### Adams-Molton Methods\n",
    "\n",
    "\\begin{align*}\n",
    "\tp = 0 : & \\ Y_{n+1} = Y_n + h Y'_{n+1} - \\frac{1}{2} h^2 Y''(\\eta_n) \\\\\n",
    "\t\\\\\n",
    "\tp = 1 : & \\ Y_{n+1} = Y_n + \\frac{h}{2}[Y'_{n+1} + Y'_{n}] - \\frac{1}{12}h^3 Y^{(3)}(\\eta_n) \\\\\n",
    "\t\\\\\n",
    "\tp = 2 : & \\ Y_{n+1} = Y_n + \\frac{h}{12}[5Y'_{n+1} + 8Y'_{n} - Y'_{n-1}] - \\frac{1}{24}h^4 Y^{(4)}(\\eta_n) \\\\\n",
    "\t\\\\\n",
    "\tp = 3 : & \\ Y_{n+1} = Y_n + \\frac{h}{24}[9Y'_{n+1} + 19Y'_{n} - 5Y'_{n-1} + Y'_{n-2}] \\\\\n",
    "\t&\\hskip+1.9cm - \\frac{19}{720}h^5 Y^{(5)}(\\eta_n)\n",
    "\\end{align*}"
   ]
  },
  {
   "cell_type": "markdown",
   "metadata": {},
   "source": [
    "### Remarks\n",
    "\n",
    "- Truncation error of Adams-Moulton formula is significantly smaller than that of Adams-Bashforth formulas. (This is one of the principle reason for using the implicit formula) <br><br>\n",
    "\t\n",
    "- Truncation error of fourth-order Adams-Moulton method is larger than that of Simpson's method.\n",
    "\tHowever, people still use Adams-Moulton method since it gives much better stability properties."
   ]
  },
  {
   "cell_type": "markdown",
   "metadata": {},
   "source": [
    "## 6.8 Convergence and Stability Theory for Multistep Methods"
   ]
  },
  {
   "cell_type": "markdown",
   "metadata": {},
   "source": [
    "### Stability\n",
    "For each $h\\le h_0$, perturb the initial values $y_0,\\cdots,y_p$ to $z_0,\\cdots,z_p$ with\n",
    "\n",
    "\\begin{equation*}\n",
    "\t\\max_{0\\le n\\le p} |y_n - z_n| \\le \\epsilon, \\qquad 0 < h \\le h_0.\n",
    "\\end{equation*}\t\n",
    "\n",
    "Note that these initial data are likely to depend on $h$. We say the family of solutions $\\{y_n \\ | \\ 0\\le n\\le N(h)\\}$ is stable if there is a constant $c$, independent of $h\\le h_0$ and valid for all sufficiently small $\\epsilon$, for which\n",
    "\n",
    "\\begin{equation*}\n",
    "\t\\max_{0\\le n\\le N(h)} |y_n - z_n| \\le c \\epsilon, \\qquad 0 < h \\le h_0.\n",
    "\\end{equation*}"
   ]
  },
  {
   "cell_type": "markdown",
   "metadata": {},
   "source": [
    "### Convergence\n",
    "\n",
    "Suppose the initial values $y_0,\\cdots, y_p$ satisfy\n",
    "\n",
    "\\begin{equation*}\n",
    "\t\\max_{0\\le n\\le p} |Y(x_n) - y_n| \\rightarrow 0, \\qquad \\textrm{as} \\ h\\rightarrow 0.\n",
    "\\end{equation*}\t\n",
    "\n",
    "Then the solution $\\{y_n\\}$ is said to converge to $Y(x)$ if\n",
    "\n",
    "\\begin{equation*}\n",
    "\t\\max_{x_0\\le x_n\\le b} |Y(x_n) - y_n| \\rightarrow 0, \\qquad \\textrm{as} \\ h\\rightarrow 0.\n",
    "\\end{equation*}\t"
   ]
  },
  {
   "cell_type": "markdown",
   "metadata": {},
   "source": [
    "### Consistency\n",
    "\n",
    "The multistep method is consistent if and only if\n",
    "\n",
    "\\begin{equation*}\n",
    "\t\\sum_{j=0}^p a_j = 1 \\qquad \\textrm{and} \\qquad -\\sum_{j=0}^p j a_j + \\sum_{j = -1}^p b_j = 1.\n",
    "\\end{equation*}"
   ]
  },
  {
   "cell_type": "markdown",
   "metadata": {},
   "source": [
    "### Root Condition\n",
    "\n",
    "The convergence and stability are linked to the roots of the polynomial\n",
    "\n",
    "\\begin{equation*}\n",
    "\t\\rho(r) = r^{p+1} - \\sum_{j=0}^p a_j r^{p-j}.\n",
    "\\end{equation*}\n",
    "\n",
    "Note that we have $\\rho(1) = 0$ from consistency condition. Let $r_0,r_1,\\cdots,r_p$ denote the roots of $\\rho(r)$, repeated according to their multiplicity, and let $r_0 = 1$. The multistep method satisfies the root condition if\n",
    "\n",
    "- $|r_j|\\le 1, \\ j=0,1,\\cdots,p$ <br>\n",
    "\n",
    "- $|r_j| = 1\\quad \\Rightarrow \\quad \\rho'(r_j) \\neq 0$"
   ]
  },
  {
   "cell_type": "markdown",
   "metadata": {},
   "source": [
    "***\n",
    "**Theorem 6.7** &emsp; Assume the consistency condition. Then the multistep method is stable if and only if the root condition is satisfied.\n",
    "***"
   ]
  },
  {
   "cell_type": "markdown",
   "metadata": {},
   "source": [
    "***\n",
    "**Theorem 6.8** &emsp; Assume the consistency condition. Then the multistep method is convergent if and only if the root condition is satisfied.\t\n",
    "***"
   ]
  },
  {
   "cell_type": "markdown",
   "metadata": {},
   "source": [
    "***\n",
    "**Corollary** &emsp; Let the multistep method is consistent. Then it is convergent if and only if it is stable.\t\n",
    "***"
   ]
  },
  {
   "cell_type": "markdown",
   "metadata": {},
   "source": [
    "### Main Theorem\n",
    "\n",
    "$$\\text{Convergence} \\quad \\Longleftrightarrow \\quad \\text{Root Condition} \\quad \\Longleftrightarrow \\quad \\text{Stability}$$"
   ]
  },
  {
   "cell_type": "markdown",
   "metadata": {},
   "source": [
    "### Absolute Stability\n",
    "\n",
    "Consider the simplest case:\n",
    "\n",
    "\\begin{equation*}\n",
    "\ty'(x) = \\lambda y(x)\n",
    "\\end{equation*}\n",
    "<br>\n",
    "\n",
    "Let\n",
    "\\begin{align*}\n",
    "\ty' &= \\lambda y + g(x), \\qquad y(0) = y_0 \\quad \\rightarrow \\quad y_n \\\\\n",
    "\ty' &= \\lambda y + g(x), \\qquad y(0) = y_0 + \\epsilon \\quad \\rightarrow \\quad z_n\n",
    "\\end{align*}"
   ]
  },
  {
   "cell_type": "markdown",
   "metadata": {},
   "source": [
    "### Stability Regions\n",
    "\n",
    "<img src=\"https://github.com/dw-shin/NA_notes/blob/master/chapter6/figures/stability_regions.png?raw=true\" height=\"20\" align=\"center\">"
   ]
  },
  {
   "cell_type": "markdown",
   "metadata": {},
   "source": [
    "### Stability Regions for Linear Multistep Methods\n",
    "\n",
    "Let $z\\equiv h \\lambda$\n",
    "\n",
    "\\begin{align*}\n",
    "\t\\pi(r) := (1-z b_{-1})r^{p+1} - \\sum_{j=0}^p(a_j + z b_j)r^{p-j} := \\rho(r) - z\\sigma(r)\n",
    "\\end{align*}\n",
    "\n",
    "and let $r_0,r_1,\\cdots,r_p$ are the characteristic roots. Then the method is stable if and only if the root condition is satisfied."
   ]
  },
  {
   "cell_type": "markdown",
   "metadata": {},
   "source": [
    "### Region of absolute stability\n",
    "\n",
    "The region of absolute stability for the multistep method is the set of points $z$ in the complex plane for which the polynomial $\\pi(r)$ satisfies the root condition:\n",
    "\n",
    "\\begin{align*}\n",
    "\t&|r_i| \\le 1 \\quad \\textrm{for} \\ i = 0,1,\\cdots,p. \\\\\n",
    "\t&\\textrm{If} \\ r_i \\ \\textrm{is a repeated root, then}\\ |r_i| < 1.\n",
    "\\end{align*}"
   ]
  },
  {
   "cell_type": "markdown",
   "metadata": {},
   "source": [
    "<span style=\"color:blue\">[Example]</span> \n",
    "\n",
    "- Forward Euler:\n",
    "\n",
    "\\begin{align*}\n",
    "\t\\pi(r) = r - (1+z) \\qquad \\Rightarrow \\qquad |1+z| \\le 1\n",
    "\\end{align*}\n",
    "<br>\n",
    "\t\n",
    "- Backward Euler:\n",
    "\n",
    "\\begin{align*}\n",
    "\t\t\\pi(r) = (1-z)\\eta - 1 \\qquad \\Rightarrow \\qquad |1-z| \\ge 1\n",
    "\\end{align*}"
   ]
  },
  {
   "cell_type": "markdown",
   "metadata": {},
   "source": [
    "### Boundary Locus Method\n",
    "\n",
    "Let $z\\in \\mathbb{C}$ be in the stability region, that is\n",
    "\n",
    "\\begin{align*}\n",
    "\t|r|\\le 1\n",
    "\\end{align*}\n",
    "<br>\n",
    "\n",
    "If $z$ is on the boundary of the stability region, then $\\pi(r)$ must have at least one root $r_j$ with $|r_j| = 1$ thus\n",
    "\n",
    "\\begin{align*}\n",
    "\tr_j = e^{i\\theta}, \\quad \\textrm{for} \\ \\theta \\in [0,2\\pi]\n",
    "\\end{align*}\n",
    "<br>\n",
    "\n",
    "\\begin{align*}\n",
    "\t\\therefore \\pi(e^{i\\theta}) = 0 \\quad \\Rightarrow \\quad \\rho(e^{i\\theta}) - z\\sigma(e^{i\\theta}) = 0 \\quad \\Rightarrow \\quad z = \\frac{\\rho(e^{i\\theta})}{\\sigma(e^{i\\theta})}\n",
    "\\end{align*}"
   ]
  },
  {
   "cell_type": "markdown",
   "metadata": {},
   "source": [
    "<span style=\"color:blue\">[Example]</span> Draw the regions of absolute stability for Taylor series methods of order $n=1,2,3,4$"
   ]
  },
  {
   "cell_type": "code",
   "execution_count": null,
   "metadata": {},
   "outputs": [],
   "source": [
    "import numpy as np\n",
    "import matplotlib.pyplot as plt\n",
    "\n",
    "x = np.linspace(-5,5,num=1000)\n",
    "y = np.linspace(-5,5,num=1000)\n",
    "a, b = np.meshgrid(x,y)\n",
    "z0=a+b*1j;\n",
    "\n",
    "p1 = np.abs(1+z0)\n",
    "p2 = np.abs(1+z0+0.5*(z0**2))\n",
    "p3 = np.abs(1+z0+0.5*z0**2+1/6*z0**3)\n",
    "p4 = np.abs(1+z0+0.5*z0**2+1/6*z0**3+1/24*z0**4)\n",
    "\n",
    "fig=plt.figure(figsize=(10,10))\n",
    "plt.contour(a,b,p1,[0, 1])\n",
    "plt.contour(a,b,p2,[0, 1],colors = 'blue')\n",
    "plt.contour(a,b,p3,[0, 1],colors = 'red')\n",
    "plt.contour(a,b,p4,[0, 1],colors = 'black')\n",
    "plt.title('Stability region for Taylor series method of order n',fontsize=20);\n",
    "plt.grid()\n",
    "plt.axis('equal')\n",
    "plt.show()"
   ]
  }
 ],
 "metadata": {
  "celltoolbar": "Slideshow",
  "kernelspec": {
   "display_name": "Python 3",
   "language": "python",
   "name": "python3"
  },
  "language_info": {
   "codemirror_mode": {
    "name": "ipython",
    "version": 3
   },
   "file_extension": ".py",
   "mimetype": "text/x-python",
   "name": "python",
   "nbconvert_exporter": "python",
   "pygments_lexer": "ipython3",
   "version": "3.8.2"
  }
 },
 "nbformat": 4,
 "nbformat_minor": 4
}
