{
 "cells": [
  {
   "cell_type": "markdown",
   "metadata": {
    "slideshow": {
     "slide_type": "slide"
    }
   },
   "source": [
    "This lecture note is based on \"An Introduction to NUMERICAL ANALYSIS\" (2nd Edition) <br> by Kendall E. Atkinson\n",
    "\n",
    "\n",
    "# Chapter 1. ERROR: ITS SOURCES, PROPAGATION, AND ANALYSIS"
   ]
  },
  {
   "cell_type": "markdown",
   "metadata": {
    "slideshow": {
     "slide_type": "slide"
    }
   },
   "source": [
    "## 1.1 Mathematical Preliminaries"
   ]
  },
  {
   "cell_type": "markdown",
   "metadata": {
    "slideshow": {
     "slide_type": "slide"
    }
   },
   "source": [
    "***\n",
    "**Theorem 1.1** (Intermediate Value) &emsp;  Let $f(x)$ be continuous on the finite interval $a\\le x\\le b$, and define\n",
    "\n",
    "$$m = \\inf_{a\\le x \\le b} f(x), \\qquad M = \\sup_{a\\le x \\le b} f(x) $$\n",
    "\n",
    "Then for any number $\\zeta$ in the interval $[m, M]$, there is at least one point $\\xi$ in $[a,b]$ for which\n",
    "\n",
    "$$f(\\xi) = \\zeta$$\n",
    "\n",
    "In particular, there are points $\\underline{x}$ and $\\overline{x}$ in $[a,b]$ for which\n",
    "\n",
    "$$m = f(\\underline{x}), \\qquad M = f(\\overline{x})$$\n",
    "***"
   ]
  },
  {
   "cell_type": "markdown",
   "metadata": {
    "slideshow": {
     "slide_type": "slide"
    }
   },
   "source": [
    "***\n",
    "**Theorem 1.2** (Mean Value) &emsp; Let $f(x)$ be continuous for $a\\le x\\le b$, and let it be differentiable for $a<x<b$.\n",
    "Then there is at least one point $\\xi$ in $(a,b)$ for which\n",
    "\n",
    "$$f(b)-f(a) = f'(\\xi)(b-a)$$\n",
    "***"
   ]
  },
  {
   "cell_type": "markdown",
   "metadata": {
    "slideshow": {
     "slide_type": "slide"
    }
   },
   "source": [
    "***\n",
    "**Theorem 1.3** (Integral Mean Value) &emsp; Let $\\omega(x)$ be nonnegative and integrable on $[a,b]$, and let $f(x)$ be continuous on $[a,b]$. Then\n",
    "\n",
    "$$\\int_a^b \\omega(x) f(x)\\ dx = f(\\xi)\\int_a^b \\omega(x)\\ dx$$\n",
    "\n",
    "for some $\\xi \\in [a,b]$.\n",
    "***"
   ]
  },
  {
   "cell_type": "markdown",
   "metadata": {
    "slideshow": {
     "slide_type": "slide"
    }
   },
   "source": [
    "***\n",
    "**Theorem 1.4** (Taylor's Theorem) &emsp; Let $f(x)$ have $n+1$ continuous derivatives on $[a,b]$ for some $n\\ge 0$, and let $x,\\ x_0 \\in [a,b]$. Then\n",
    "\n",
    "\\begin{align}\n",
    "\tf(x) &= p_n(x) + R_{n+1}(x) \\\\[2ex]\n",
    "\tp_n(x)&= f(x_0) + \\frac{(x-x_0)}{1!}f'(x_0) + \\cdots + \\frac{(x-x_0)^n}{n!}f^{(n)}(x_0) \\\\[2ex]\n",
    "\tR_{n+1}(x)&= \\frac{1}{n!}\\int_{x_0}^x (x-t)^n f^{(n+1)}(t)\\ dt = \\frac{(x-x_0)^{n+1}}{(n+1)!} f^{(n+1)}(\\xi)\n",
    "\\end{align}\n",
    "\n",
    "for some $\\xi$ between $x_0$ and $x$.\n",
    "***"
   ]
  },
  {
   "cell_type": "markdown",
   "metadata": {
    "slideshow": {
     "slide_type": "slide"
    }
   },
   "source": [
    "<span style=\"color:blue\">[Example]</span> Derive the following standard formulas using Taylor's theorem\n",
    "\n",
    "(a) $\\displaystyle e^x = 1 + x + \\frac{x^2}{2} + \\cdots + \\frac{x^n}{n!} + \\frac{x^{n+1}}{(n+1)!} e^{\\xi_x}$\n",
    "<br>\n",
    "\n",
    "(b) $\\displaystyle \\cos(x) = 1 - \\frac{x^2}{2!} + \\frac{x^4}{4!} - \\cdots + (-1)^n\\frac{x^{2n}}{(2n)!} + (-1)^{n+1}\\frac{x^{2n+2}}{(2n+2)!}\\cos(\\xi_x)$\n",
    "<br>\n",
    "\n",
    "(c) $\\displaystyle \\sin(x) = x - \\frac{x^3}{3!} + \\frac{x^5}{5!} - \\cdots  + (-1)^{n-1}\\frac{x^{2n-1}}{(2n-1)!} + (-1)^{n}\\frac{x^{2n+1}}{(2n+1)!}\\cos(\\xi_x)$\n",
    "<br>\n",
    "\n",
    "(d) $\\displaystyle (1+x)^\\alpha = 1 + \\binom{\\alpha}{1}x + \\binom{\\alpha}{2} x^2 \\cdots + \\binom{\\alpha}{n}x^n + \\binom{\\alpha}{n+1}\\frac{x^{n+1}}{(1+\\xi_x)^{n+1-\\alpha}}$\n",
    "<br>\n",
    "<br>\n",
    "\n",
    "&emsp; <span style=\"color:gray\">where $\\displaystyle \\binom{\\alpha}{k} = \\frac{\\alpha(\\alpha-1)\\cdots(\\alpha-k+1)}{k!} \\qquad k = 1,2,3,...$ </span>"
   ]
  },
  {
   "cell_type": "markdown",
   "metadata": {
    "slideshow": {
     "slide_type": "slide"
    }
   },
   "source": [
    "***\n",
    "**Theorem 1.5** (Taylor's Theorem in two dimensions) &emsp; Let $(x_0, y_0)$ and $(x_0+\\xi,\\ y_0 + \\eta)$ be given points, and assume $f(x,y)$ is $n+1$ times continuously differentiable for all $(x,y)$ in some neighborhood of $L(x_0,y_0; x_0 + \\xi, y_0+\\eta)$.\n",
    "Then\n",
    "\n",
    "\\begin{align}\n",
    "\tf(x_0 + \\xi, y_0 + \\eta) &= f(x_0, y_0) + \\sum_{j=1}^n \\frac{1}{j!}\\left[\\xi\\frac{\\partial}{\\partial x} + \\eta\\frac{\\partial}{\\partial y}\\right]^j f(x_0, y_0)  \\nonumber \\\\ \n",
    "&\\quad + \\frac{1}{(n+1)!}\\left[\\xi\\frac{\\partial}{\\partial x} + \\eta\\frac{\\partial}{\\partial y}\\right]^{j+1}f(x_0+\\theta\\xi, y_0+\\theta\\eta)\n",
    "\\end{align}\n",
    "\n",
    "for some $0\\le\\theta\\le 1$. The point $(x_0+\\theta\\xi, y_0+\\theta\\eta)$ is an unknown point on the line $L(x_0,y_0; x_0 + \\xi, y_0+\\eta)$.\n",
    "***"
   ]
  },
  {
   "cell_type": "markdown",
   "metadata": {
    "slideshow": {
     "slide_type": "slide"
    }
   },
   "source": [
    "### Characteristic properties of norms\n",
    "<br>\n",
    "\n",
    "1. $\\|\\boldsymbol{v}\\|\\ge 0;\\ \\|\\boldsymbol{v}\\| = \\boldsymbol{0}$ if and only if $\\boldsymbol{v} = \\boldsymbol{0}$, the zero vector\n",
    "<br>\n",
    "\n",
    "2. $\\|\\alpha \\boldsymbol{v}\\| = |\\alpha| |\\boldsymbol{v}|$, for all vectors $\\boldsymbol{v}$ and real numbers $\\alpha$\n",
    "<br>\n",
    "\n",
    "3. $\\|\\boldsymbol{v} + \\boldsymbol{w}\\| \\le \\|\\boldsymbol{v}\\| + \\|\\boldsymbol{w}\\|$, for all vectors $\\boldsymbol{v}$ and $\\boldsymbol{w}$"
   ]
  },
  {
   "cell_type": "markdown",
   "metadata": {
    "slideshow": {
     "slide_type": "slide"
    }
   },
   "source": [
    "<span style=\"color:blue\">[Example]</span> Norms\n",
    "<br>\n",
    "\n",
    "(a) vectors:\n",
    "\n",
    "- $\\displaystyle \\|\\boldsymbol{x}\\|_\\infty = \\max_{1\\le i\\le n} |x_i|, \\qquad \\boldsymbol{x}\\in\\mathbb{R}^n$\n",
    "\n",
    "- $\\displaystyle \\|\\boldsymbol{x}\\|_{2} = \\sqrt{x_1^2 + \\cdots + x_n^2}, \\qquad \\boldsymbol{x}\\in\\mathbb{R}^n$\n",
    "\n",
    "(b) functions:\n",
    "\n",
    "- $\\displaystyle \\| f \\|_\\infty = \\max_{a\\le t\\le b} |f(t)|, \\qquad f\\in\\mathcal{C}[a,b]$\n",
    "\n",
    "- $\\displaystyle \\| f \\|_{2} = \\sqrt{\\int_\\Omega |f|^2\\ dx}, \\qquad f\\in L^2(\\Omega)$"
   ]
  },
  {
   "cell_type": "markdown",
   "metadata": {
    "slideshow": {
     "slide_type": "slide"
    }
   },
   "source": [
    "This section is based on \"Numerical Mathemtics and Computing - 7th edition\"<br>\n",
    "by Ward Cheney and David Kincaid\n",
    "\n",
    "## 1.2 Computer Representation of Numbers"
   ]
  },
  {
   "cell_type": "markdown",
   "metadata": {
    "slideshow": {
     "slide_type": "slide"
    }
   },
   "source": [
    "### Floating-Point Representation\n",
    "\n",
    "Standard representation | |Normalized scientific notation\n",
    ":----------| |:------------\n",
    "$37.21829$ | | $0.3721829 \\times 10^2$\n",
    "$0.0049812468$ | | $0.49812468 \\times 10^{-2}$ \n",
    "$3000527.11059$ | | $0.300052711059 \\times 10^7$ "
   ]
  },
  {
   "cell_type": "markdown",
   "metadata": {
    "slideshow": {
     "slide_type": "slide"
    }
   },
   "source": [
    "### Normalized Floating-Point Representation\n",
    "\n",
    "- If $x\\in\\mathbb{R}\\setminus\\{0\\}$, then $x$ can be represented in normalized floating-point decimal form as\n",
    "\n",
    "$$x = \\pm r \\times 10^n \\qquad \\Big(\\frac{1}{10} \\le r < 1\\Big)$$\n",
    "<br>\n",
    "<br>\n",
    "\n",
    "- Binary system\n",
    "\n",
    "&emsp; &emsp;If $x\\in\\mathbb{R}\\setminus\\{0\\}$,\n",
    "$$x = \\pm q \\times 2^m \\qquad \\Big(\\frac{1}{2} \\le q < 1\\Big)$$"
   ]
  },
  {
   "cell_type": "markdown",
   "metadata": {
    "slideshow": {
     "slide_type": "slide"
    }
   },
   "source": [
    "### Floating-Point number system within a computer\n",
    "\n",
    "- Every computer has <br>\n",
    "\n",
    "    - a finite word length <br>\n",
    "    \n",
    "    - a finite total capacity <br>\n",
    "    \n",
    "&emsp; <span style=\"color:red\"> $\\Rightarrow$ Only numbers with a finite number of digits can be represented </span>"
   ]
  },
  {
   "cell_type": "markdown",
   "metadata": {
    "slideshow": {
     "slide_type": "slide"
    }
   },
   "source": [
    "### Floating-Point number system within a computer\n",
    "\n",
    "- A number is allocated <br>\n",
    "\n",
    "    - only one word of storage in single-precision mode <br>\n",
    "    \n",
    "    - two or more words in double or long-double precision <br>\n",
    "    \n",
    "&emsp; <span style=\"color:red\"> $\\Rightarrow$ The degree of precision is strictly limited </span>"
   ]
  },
  {
   "cell_type": "markdown",
   "metadata": {
    "slideshow": {
     "slide_type": "slide"
    }
   },
   "source": [
    "### Floating-Point number system within a computer\n",
    "\n",
    "- The most real numbers cannot be represented exactly in a computer <br>\n",
    "\n",
    "&emsp;&emsp;&emsp; (irrational numbers, rational numbers, too large or too small numbers, $\\cdots$)<br>\n",
    "    \n",
    "$$\\text{e.g.}\\  \\displaystyle \\frac{1}{10} = (0.1)_{10} = (0.00011001100110011\\cdots)_2$$"
   ]
  },
  {
   "cell_type": "markdown",
   "metadata": {
    "slideshow": {
     "slide_type": "slide"
    }
   },
   "source": [
    "<span style=\"color:blue\">[Example]</span> List all the floating-point numbers that can be expressed in the form\n",
    "\n",
    "$$x = \\pm(0.b_1 b_2 b_3)_2 \\times 2^{\\pm k}$$\n",
    "\n",
    "where $b_1,\\ b_2,\\ b_3$ and $k$ are allowed to have only the value $0$ or $1$."
   ]
  },
  {
   "cell_type": "markdown",
   "metadata": {
    "slideshow": {
     "slide_type": "slide"
    }
   },
   "source": [
    "<img src=\"./figures/ex1_1.png\" align=\"center\">"
   ]
  },
  {
   "cell_type": "markdown",
   "metadata": {
    "slideshow": {
     "slide_type": "slide"
    }
   },
   "source": [
    "<img src=\"./figures/ex1_2.png\" align=\"center\">"
   ]
  },
  {
   "cell_type": "markdown",
   "metadata": {
    "slideshow": {
     "slide_type": "slide"
    }
   },
   "source": [
    "### Floating-Point Representation\n",
    "<br>\n",
    "\n",
    "|Precision | Bits | Sign | Exponent | Mentissa |\n",
    "|----------|------|------|----------|----------|\n",
    "|Single | 32 | 1 | 8 | 23 |\n",
    "|Double | 64 | 1 | 11 | 52 |\n",
    "|Long Double | 80 | 1 | 15 | 64|"
   ]
  },
  {
   "cell_type": "markdown",
   "metadata": {
    "slideshow": {
     "slide_type": "slide"
    }
   },
   "source": [
    "### Single-Precision Floating-Point Form\n",
    "\n",
    "- Standard single-precision floating-point representation\n",
    "\n",
    "$$(-1)^s \\times 2^{c-127}\\times (1.\\textrm{f})_2$$\n",
    "\n",
    "<img src=\"./figures/single.png\" height=\"30\" align=\"center\">"
   ]
  },
  {
   "cell_type": "markdown",
   "metadata": {
    "slideshow": {
     "slide_type": "slide"
    }
   },
   "source": [
    "### Single-Precision Floating-Point Form\n",
    "\n",
    "- Actual exponent : $-126 \\le c-127 \\le 127$ <br>\n",
    "\n",
    "- Mantissa : $1 \\le (1.\\textrm{f})_2 \\le 2 - 2^{-23}$<br>\n",
    "\n",
    "- The largest number $\\approx 3.4 \\times 10^{38}$ <br>\n",
    "\n",
    "- The smallest number $\\approx 1.2 \\times 10^{-38}$<br>\n",
    "\n",
    "- Machine epsilon $\\approx 5.96\\times 10^{-8}$ <br>\n",
    "        \n",
    "&emsp; <span style=\"color:red\"> $\\Rightarrow$  7 significant decimal digits of accuracy </span>"
   ]
  },
  {
   "cell_type": "markdown",
   "metadata": {
    "slideshow": {
     "slide_type": "slide"
    }
   },
   "source": [
    "### Single-Precision Floating-Point Form\n",
    "\n",
    "- Standard single-precision floating-point representation\n",
    "\n",
    "$$(-1)^s \\times 2^{c-1023}\\times (1.\\textrm{f})_2\t$$\n",
    "\n",
    "<img src=\"./figures/double.png\" height=\"30\" align=\"center\">"
   ]
  },
  {
   "cell_type": "markdown",
   "metadata": {
    "slideshow": {
     "slide_type": "slide"
    }
   },
   "source": [
    "### Single-Precision Floating-Point Form\n",
    "\n",
    "- Actual exponent : $-1022 \\le c-1023 \\le 1023$ <br>\n",
    "\n",
    "- Mantissa : $1 \\le (1.\\textrm{f})_2 \\le 2 - 2^{-52}$<br>\n",
    "\n",
    "- The largest number $\\approx 1.8 \\times 10^{308}$ <br>\n",
    "\n",
    "- The smallest number $\\approx 2.2 \\times 10^{-308}$<br>\n",
    "\n",
    "- Machine epsilon $\\approx 1.11\\times 10^{-16}$ <br>\n",
    "        \n",
    "&emsp; <span style=\"color:red\"> $\\Rightarrow$  15 significant decimal digits of accuracy </span>"
   ]
  },
  {
   "cell_type": "markdown",
   "metadata": {
    "slideshow": {
     "slide_type": "slide"
    }
   },
   "source": [
    "### Significant digits\n",
    "\n",
    "<img src=\"./figures/significant_digit.png\" height=\"50\" align=\"center\">"
   ]
  },
  {
   "cell_type": "markdown",
   "metadata": {
    "slideshow": {
     "slide_type": "slide"
    }
   },
   "source": [
    "### Exact quantities\n",
    "\n",
    "$\\bullet$ <span style=\"color:red\">Mathematically exact</span> real number $x$\n",
    "\n",
    "Its approximate decimal form can be given with as many significant digits as we wish\n",
    "\n",
    "$$ \\text{e.g.}\\quad \\frac{\\pi}{10} \\approx 0.314159265358979 $$\n",
    "\n",
    "$\\Rightarrow$ All digits given are correct"
   ]
  },
  {
   "cell_type": "markdown",
   "metadata": {
    "slideshow": {
     "slide_type": "slide"
    }
   },
   "source": [
    "### Computer-Caused Loss of Significance\n",
    "\n",
    "One of the most common causes for a deterioration in precision is the subtraction of one quantity from another nearly equal quantity\n",
    "\n",
    "e.g. Floating-point numbers with $10$ decimal digits\n",
    "\n",
    "\\begin{align*}\n",
    "\t\\frac{1}{15} & \\approx 0.6666666667 \\times 10^{-1} \\\\ \n",
    "\t\\sin \\frac{1}{15} & \\approx 0.6661729492 \\times 10^{-1}\\\\\n",
    "\t\\frac{1}{15} - \\sin \\frac{1}{15} & \\approx 0.0004937175 \\times 10^{-1}\\\\\t\n",
    "\t\\frac{1}{15} - \\sin \\frac{1}{15} & \\approx 0.4937175000 \\times 10^{-4}\n",
    "\\end{align*}\n",
    "\n",
    "$$\\left(\\textrm{c.f.}\\quad \\frac{1}{15} - \\sin \\frac{1}{15} \\approx 0.4937174327 \\times 10^{-4}\\right)$$"
   ]
  },
  {
   "cell_type": "markdown",
   "metadata": {
    "slideshow": {
     "slide_type": "slide"
    }
   },
   "source": [
    "***\n",
    "**Theorem** (Loss of Precision Theorem) &emsp; Let $x$ and $y$ be normalized floating-point machine numbers, where $x>y>0$.\n",
    "If $2^{-p}\\le 1-(y/x)\\le 2^{-q}$ for some $p, q > 0$, then at most $p$ and at least $q$ significant binary bits are lost in the subtraction $x-y$.\n",
    "***"
   ]
  },
  {
   "cell_type": "markdown",
   "metadata": {
    "slideshow": {
     "slide_type": "slide"
    }
   },
   "source": [
    "### Avoiding Loss of Significance in Subtraction\n",
    "\n",
    "- Rationalization\n",
    "\n",
    "- Taylor series\n",
    "\t\n",
    "- Trigonometric identities\n",
    "\n",
    "- Logarithmic properties\n",
    "\n",
    "-  Double precision\n",
    "\n",
    "- Range reduction"
   ]
  },
  {
   "cell_type": "markdown",
   "metadata": {
    "slideshow": {
     "slide_type": "slide"
    }
   },
   "source": [
    "<span style=\"color:blue\">[Example]</span> Explore the function\n",
    "\n",
    "$$f(x) = \\sqrt{x^2 + 1} - 1$$\n",
    "\n",
    "whose values may be required for $x$ near nonzero."
   ]
  },
  {
   "cell_type": "code",
   "execution_count": 2,
   "metadata": {
    "slideshow": {
     "slide_type": "subslide"
    }
   },
   "outputs": [
    {
     "name": "stdout",
     "output_type": "stream",
     "text": [
      "x = 1.0  f(x) = 0.41421356237309515\n",
      "x = 0.1  f(x) = 0.00498756211208895\n",
      "x = 0.01  f(x) = 4.9998750062396624e-05\n",
      "x = 0.001  f(x) = 4.999998750587764e-07\n",
      "x = 0.0001  f(x) = 4.999999969612645e-09\n",
      "x = 1e-05  f(x) = 5.000000413701855e-11\n",
      "x = 1e-06  f(x) = 5.000444502911705e-13\n",
      "x = 1e-07  f(x) = 4.884981308350689e-15\n",
      "x = 1e-08  f(x) = 0.0\n",
      "x = 1e-09  f(x) = 0.0\n",
      "x = 1e-10  f(x) = 0.0\n",
      "x = 1e-11  f(x) = 0.0\n"
     ]
    }
   ],
   "source": [
    "import numpy as np\n",
    "\n",
    "f = lambda x: np.sqrt(x**2 + 1) - 1\n",
    "\n",
    "x = np.array([10**(-j) for j in range(0,12)])\n",
    "\n",
    "val = f(x)\n",
    "\n",
    "text = 'x = {0}  f(x) = {1}'\n",
    "\n",
    "for j in range(0,len(val)):\n",
    "    print(text.format(x[j],val[j]))"
   ]
  },
  {
   "cell_type": "markdown",
   "metadata": {
    "slideshow": {
     "slide_type": "subslide"
    }
   },
   "source": [
    "$$f(x) = \\sqrt{x^2 + 1} - 1 = \\sqrt{x^2 + 1} - 1 \\frac{\\sqrt{x^2 + 1} + 1}{\\sqrt{x^2 + 1} + 1} = \\frac{x^2}{\\sqrt{x^2 + 1} + 1}$$"
   ]
  },
  {
   "cell_type": "code",
   "execution_count": 3,
   "metadata": {
    "slideshow": {
     "slide_type": "-"
    }
   },
   "outputs": [
    {
     "name": "stdout",
     "output_type": "stream",
     "text": [
      "x = 1.0  f(x) = 0.4142135623730951\n",
      "x = 0.1  f(x) = 0.04987562112089027\n",
      "x = 0.01  f(x) = 0.00499987500624961\n",
      "x = 0.001  f(x) = 0.0004999998750000624\n",
      "x = 0.0001  f(x) = 4.9999999875e-05\n",
      "x = 1e-05  f(x) = 4.999999999875e-06\n",
      "x = 1e-06  f(x) = 4.999999999998749e-07\n",
      "x = 1e-07  f(x) = 4.999999999999988e-08\n",
      "x = 1e-08  f(x) = 5e-09\n",
      "x = 1e-09  f(x) = 5e-10\n",
      "x = 1e-10  f(x) = 5e-11\n",
      "x = 1e-11  f(x) = 5e-12\n"
     ]
    }
   ],
   "source": [
    "f = lambda x: np.sqrt(x**2)/(np.sqrt(x**2+1)+1)\n",
    "\n",
    "x = np.array([10**(-j) for j in range(0,12)])\n",
    "\n",
    "val = f(x)\n",
    "\n",
    "text = 'x = {0}  f(x) = {1}'\n",
    "for j in range(0,len(val)):\n",
    "    print(text.format(x[j],val[j]))"
   ]
  },
  {
   "cell_type": "markdown",
   "metadata": {
    "slideshow": {
     "slide_type": "slide"
    }
   },
   "source": [
    "## 1.3 Definitions and Sources of Error"
   ]
  },
  {
   "cell_type": "markdown",
   "metadata": {
    "slideshow": {
     "slide_type": "slide"
    }
   },
   "source": [
    "### Error and Relative Error\n",
    "\n",
    "1. $\\textrm{Error}(x_A) \\equiv \\textrm{Error in } x_A = x_T - x_A$\n",
    "<br>\n",
    "\n",
    "2. $\\displaystyle \\textrm{Rel}(x_A) \\equiv \\textrm{relative error in } x_A = \\frac{x_T - x_A}{x_T}$ \n",
    "\n",
    "&emsp; ($x_T$: exact or true solution, \\qquad $x_A$: approximate solution)"
   ]
  },
  {
   "cell_type": "markdown",
   "metadata": {
    "slideshow": {
     "slide_type": "slide"
    }
   },
   "source": [
    "### Sources of Error\n",
    "\n",
    "- Mathematical modeling of a physical problem: simplification, assumptions, ... <br>\n",
    "\n",
    "- Blunders: arithmetic errors($\\downarrow$), programming errors($\\uparrow$), ... <br>\n",
    "\n",
    "- Uncertainty in physical data <br>\n",
    "\n",
    "- Machine errors: floating-point representation (round-/chopping, over-/underflow, ...) <br>\n",
    "\n",
    "- Mathematical truncation error"
   ]
  }
 ],
 "metadata": {
  "celltoolbar": "Slideshow",
  "kernelspec": {
   "display_name": "Python 3",
   "language": "python",
   "name": "python3"
  },
  "language_info": {
   "codemirror_mode": {
    "name": "ipython",
    "version": 3
   },
   "file_extension": ".py",
   "mimetype": "text/x-python",
   "name": "python",
   "nbconvert_exporter": "python",
   "pygments_lexer": "ipython3",
   "version": "3.8.1"
  }
 },
 "nbformat": 4,
 "nbformat_minor": 4
}
