{
 "cells": [
  {
   "cell_type": "markdown",
   "metadata": {
    "slideshow": {
     "slide_type": "slide"
    }
   },
   "source": [
    "This lecture note is based on \"An Introduction to NUMERICAL ANALYSIS\" (2nd Edition) <br> by Kendall E. Atkinson\n",
    "\n",
    "\n",
    "# Chapter 3. INTERPOLATION THEORY"
   ]
  },
  {
   "cell_type": "markdown",
   "metadata": {
    "slideshow": {
     "slide_type": "slide"
    }
   },
   "source": [
    "## 3.1 Polynomial Interpolation Theory"
   ]
  },
  {
   "cell_type": "markdown",
   "metadata": {
    "slideshow": {
     "slide_type": "slide"
    }
   },
   "source": [
    "Let $x_0,\\ x_1,\\ \\cdots,\\ x_n$ be distinct real or complex numbers, and let $y_0,\\ y_1,\\ \\cdots,\\ y_n$ be associated function values.\n",
    "<br>\n",
    "<br>\n",
    "\n",
    "**Goal**: finding a polynomial $p(x)$ that interpolates the given data:\n",
    "<br>\n",
    "\n",
    "$$p(x_i) = y_i,\\quad i = 0,\\ 1,\\ \\cdots,\\ n.$$"
   ]
  },
  {
   "cell_type": "markdown",
   "metadata": {
    "slideshow": {
     "slide_type": "slide"
    }
   },
   "source": [
    "Consider a general polynomial of degree $n$\n",
    "\n",
    "$$p(x) = a_0 + a_1 x + \\cdots + a_n x^n$$\n",
    "<br>\n",
    "<br>\n",
    "\n",
    "- $n+1$ data: $p(x_i) = y_i, \\quad i = 0,\\ 1,\\ \\cdots,\\ n$\n",
    "<br>\n",
    "\n",
    "- $n+1$ unknowns: $a_0,\\ a_1,\\ \\cdots, a_n$"
   ]
  },
  {
   "cell_type": "markdown",
   "metadata": {
    "slideshow": {
     "slide_type": "slide"
    }
   },
   "source": [
    "Find $a_0,\\ a_1,\\ \\cdots,\\ a_n$ such that\n",
    "\n",
    "$$\\begin{array}{c l} a_0 + a_1 x_0 + a_2 x_0^2 + \\cdots + a_n x_0^n &= y_0 \\\\\n",
    "a_0 + a_1 x_1 + a_2 x_1^2 + \\cdots + a_n x_1^n &= y_1 \\\\\n",
    "\\vdots & \\\\\n",
    "a_0 + a_1 x_n + a_2 x_n^2 + \\cdots + a_n x_n^n &= y_n\n",
    "\\end{array}$$"
   ]
  },
  {
   "cell_type": "markdown",
   "metadata": {
    "slideshow": {
     "slide_type": "slide"
    }
   },
   "source": [
    "In vector and matrix notation, the system is\n",
    "\n",
    "$$\\Large X\\boldsymbol{a} = \\boldsymbol{y}$$\n",
    "<br>\n",
    "\n",
    "- $X = [x_i^j] \\qquad i,\\ j = 0,\\ 1,\\ \\cdots,\\ n$\n",
    "<br>\n",
    "\n",
    "- $\\boldsymbol{a} = [a_0,\\ a_1,\\ \\cdots,\\ a_n]^T$\n",
    "<br>\n",
    "\n",
    "- $\\boldsymbol{y} = [y_0,\\ y_1,\\ \\cdots,\\ y_n]^T$\n",
    "<br>\n",
    "\n",
    "The matrix $X$ is called a *Vandermonde matrix*."
   ]
  },
  {
   "cell_type": "markdown",
   "metadata": {
    "slideshow": {
     "slide_type": "slide"
    }
   },
   "source": [
    "### Existence and uniqueness\n",
    "\n",
    "***\n",
    "**Theorem 3.1** &emsp; Given $n+1$ distinct points $x_0,\\ \\cdots,\\ x_n$ and $n+1$ ordinates $y_0,\\ \\cdots,\\ y_n$, there is a polynomial $p(x)$ of degree$\\le n$ that interpolates $y_i$ at $x_i,\\ i=0,\\ \\cdots,\\ n$. This polynomial $p(x)$ is unique among the set of all polynomials of degree at most $n$.\n",
    "***"
   ]
  },
  {
   "cell_type": "markdown",
   "metadata": {
    "slideshow": {
     "slide_type": "slide"
    }
   },
   "source": [
    "### Lagrange's formula\n",
    "\n",
    "For the interpolation polynomial\n",
    "\n",
    "$$p_n(x) = \\sum_{i=0}^n y_i \\ell_i(x)$$\n",
    "<br>\n",
    "\n",
    "where\n",
    "$$\\ell_i(x) = \\prod_{\\substack{j=0 \\\\ (j\\neq i)}}^n \\frac{x - x_j}{x_i - x_j}$$"
   ]
  },
  {
   "cell_type": "markdown",
   "metadata": {
    "slideshow": {
     "slide_type": "slide"
    }
   },
   "source": [
    "### Lagrange error formula\n",
    "<br>\n",
    "\n",
    "***\n",
    "**Theorem 3.2** &emsp; Let $x_0,\\ \\cdots,\\ x_n$ be distinct real numbers, and let $f$ be a given real valued function with $n+1$ continuous derivatives on the interval $I_t = \\mathcal{H}\\{t,x_0,\\cdots,x_n\\}$, with $t$ some given real number.\n",
    "Then there exists $\\xi \\in I_t$ with\n",
    "$$f(t) - \\sum_{j=0}^n f(x_j)\\ell_j(t) = \\frac{(t-x_0)\\cdots(t-x_n)}{(n+1)!}f^{(n+1)}(\\xi)$$\n",
    "***\n",
    "<br>\n",
    "\n",
    "($\\mathcal{H}\\{a,b,c,\\cdots\\}$ denotes the smallest interval containing all of the real numbers $a,\\ b,\\ c,\\ \\cdots$.)"
   ]
  },
  {
   "cell_type": "markdown",
   "metadata": {
    "slideshow": {
     "slide_type": "slide"
    }
   },
   "source": [
    "<span style=\"color:blue\">[Example]</span> &emsp; For $f(x) = \\log_{10} x$, apply $n=1$ to find the error bound"
   ]
  },
  {
   "cell_type": "markdown",
   "metadata": {
    "slideshow": {
     "slide_type": "-"
    }
   },
   "source": [
    "(sol) $\\displaystyle f''(x) = -\\frac{\\log_{10} e}{x^2}$ with $\\log_{10} e \\approx 0.434$.\n",
    "Let $x_0<x<x_1$, then we have\n",
    "$$E(x) = \\frac{(x-x_0)(x_1-x)}{2}\\cdot\\frac{\\log_{10} e}{\\xi^2},\\quad x_0\\le \\xi \\le x_1$$\n",
    "which yields\n",
    "$$\\frac{(x-x_0)(x_1-x)}{2}\\cdot\\frac{\\log_{10} e}{x_1^2} \\le E(x) \\le \\frac{(x-x_0)(x_1-x)}{2}\\cdot\\frac{\\log_{10} e}{x_0^2}$$\n",
    "\n",
    "Let $h = x_1 - x_0$ and assume $x_0 > 1$, then\n",
    "$$|E(x)| \\le \\frac{h^2}{8}\\cdot\\frac{0.434}{x_0^2} \\le 0.0542 h^2$$"
   ]
  },
  {
   "cell_type": "markdown",
   "metadata": {
    "slideshow": {
     "slide_type": "slide"
    }
   },
   "source": [
    "Wite the following code to evaluate Lagrange polynomial $\\ell_i(t),\\ i = 1,...n$ for given $x_i$ and $f(x_i)$"
   ]
  },
  {
   "cell_type": "code",
   "execution_count": null,
   "metadata": {
    "slideshow": {
     "slide_type": "-"
    }
   },
   "outputs": [],
   "source": [
    "import numpy as np\n",
    "def Lagrange_polynomial(t,x,fx):\n",
    "\n",
    "    return val         "
   ]
  },
  {
   "cell_type": "markdown",
   "metadata": {
    "slideshow": {
     "slide_type": "slide"
    }
   },
   "source": [
    "<span style=\"color:blue\">[Example]</span> &emsp; Draw interpolation function for $f(x) = \\sin x$ on $[0,2\\pi]$ with uniform nodes $0 = x_0 < x_1 < \\cdots < x_n = 2\\pi$ for $n = 1,2,...,6$"
   ]
  },
  {
   "cell_type": "code",
   "execution_count": null,
   "metadata": {
    "slideshow": {
     "slide_type": "-"
    }
   },
   "outputs": [],
   "source": [
    "import matplotlib.pylab as plt\n",
    "%matplotlib inline\n",
    "\n"
   ]
  },
  {
   "cell_type": "markdown",
   "metadata": {
    "slideshow": {
     "slide_type": "slide"
    }
   },
   "source": [
    "## 3.2 Newton Divided Differences"
   ]
  },
  {
   "cell_type": "markdown",
   "metadata": {
    "slideshow": {
     "slide_type": "slide"
    }
   },
   "source": [
    "With the Lagrange form, it is incovenient to pass from one interpolation polynomial to another of degree one greater.\n",
    "<br>\n",
    "\n",
    "Write\n",
    "$$p_n(x) = p_{n-1}(x) + C(x), \\qquad C(x) = \\text{correction term},$$\n",
    "\n",
    "where $C(x)$ is a polynomial of degree $n$."
   ]
  },
  {
   "cell_type": "markdown",
   "metadata": {
    "slideshow": {
     "slide_type": "slide"
    }
   },
   "source": [
    "Since $p_n(x)$ and $p_{n-1}(x)$ are interpolation polynomials,\n",
    "\n",
    "$$C(x_i) = p_n(x_i) - p_{n-1}(x_i) = f(x_i) - f(x_i) = 0, \\quad i = 0,\\ 1,\\ \\cdots,\\ n$$\n",
    "\n",
    "Thus, $C(x) = a_n(x-x_0)\\cdots(x-x_{n-1})$."
   ]
  },
  {
   "cell_type": "markdown",
   "metadata": {
    "slideshow": {
     "slide_type": "slide"
    }
   },
   "source": [
    "### Newton divided difference\n",
    "\n",
    "Since $p_n(x_n) = f(x_n)$, we have\n",
    "\n",
    "$$a_n = \\frac{f(x_n) - p_{n-1}(x_n)}{(x_n - x_0)\\cdots(x_n - x_{n-1})}$$\n",
    "<br>\n",
    "<br>\n",
    "\n",
    "Here $a_n$ is called the *$n$-th order Newton divided difference* of $f$ and denoted by\n",
    "\n",
    "$$a_n \\equiv f[x_0,x_1,\\cdots,x_n]$$"
   ]
  },
  {
   "cell_type": "markdown",
   "metadata": {
    "slideshow": {
     "slide_type": "slide"
    }
   },
   "source": [
    "### Properties of Newton divided difference\n",
    "\n",
    "- $f[x_0,x_1,\\cdots,x_n] = f[x_{i_0}, x_{i_1},\\cdots,x_{i_n}]$ for any permutation $(i_0,i_1,\\cdots,i_n)$ of $(0,1,\\cdots,n)$\n",
    "<br>\n",
    "<br>\n",
    "\n",
    "- $\\displaystyle f[x_0,x_1,\\cdots,x_n] = \\frac{[x_1,x_2,\\cdots,x_n] - [x_0,x_1,\\cdots,x_{n-1}]}{x_n - x_0}$"
   ]
  },
  {
   "cell_type": "markdown",
   "metadata": {
    "slideshow": {
     "slide_type": "slide"
    }
   },
   "source": [
    "<img src=\"https://github.com/dw-shin/NA_notes/blob/master/chapter3/figures/newton_divided_difference.png?raw=true\" height=\"30\" align=\"center\">"
   ]
  },
  {
   "cell_type": "markdown",
   "metadata": {
    "slideshow": {
     "slide_type": "slide"
    }
   },
   "source": [
    "### Newton divided difference formula\n",
    "\n",
    "\\begin{align}\n",
    "p_0(x) &= f(x_0) \\\\[2ex]\n",
    "p_1(x) &= f(x_0) + (x-x_0)f[x_0,x_1] \\\\[2ex]\n",
    "&\\quad \\vdots \\\\[2ex]\n",
    "p_n(x) &= f(x_0) + (x-x_0)f[x_0,x_1] + (x-x_0)(x-x_1)f[x_0,x_1,x_2] \\\\\n",
    "&\\qquad +\\cdots +(x-x_0)(x-x_1)\\cdots(x-x_{n-1})f[x_0,x_1,\\cdots,x_n]\n",
    "\\end{align}"
   ]
  },
  {
   "cell_type": "markdown",
   "metadata": {
    "slideshow": {
     "slide_type": "slide"
    }
   },
   "source": [
    "***\n",
    "**Algorithm** &emsp; Divdif($d,x,n$)\n",
    "\n",
    "1. Remark: $d$ and $x$ are vectors with entries $f(x_i)$ and $x_i,\\ i=0,1,\\cdots,n$, respectively. On exit, $d_i$ will contain $f[x_0,\\cdots,x_i]$.\n",
    "\n",
    "2. Do through step 4 for $i=1,2,\\cdots,n$.\n",
    "\n",
    "3. Do through step 4 for $j=n,n-1,\\cdots,i$.\n",
    "\n",
    "4. $d_j = (d_j - d_j-1)/(x_j - x_{j-i})$.\n",
    "\n",
    "5. Exit from the algorithm.\n",
    "***"
   ]
  },
  {
   "cell_type": "code",
   "execution_count": null,
   "metadata": {
    "slideshow": {
     "slide_type": "slide"
    }
   },
   "outputs": [],
   "source": [
    "# code divdif"
   ]
  },
  {
   "cell_type": "markdown",
   "metadata": {
    "slideshow": {
     "slide_type": "slide"
    }
   },
   "source": [
    "***\n",
    "**Algorithm** &emsp; Interp($d,x,n,t,p$)\n",
    "\n",
    "1. Remark: On entrance, $d$ and $x$ are vectors containing $f[x_0,\\cdots,x_n]$ and $x_i,\\ i=0,1,\\cdots,n$, respectively. On exit, $p$ will contain the value $p_n(t)$ of the $n$th-degree polynomial interpolating $f$ on $x$.\n",
    "\n",
    "2. $p:= d_n$\n",
    "\n",
    "3. Do through step 4 for $i = n-1, n-2, \\cdots, 0$.\n",
    "\n",
    "4. $p:= d_i + (t-x_i)p$\n",
    "\n",
    "5. Exit the algorithm\n",
    "***"
   ]
  },
  {
   "cell_type": "markdown",
   "metadata": {
    "slideshow": {
     "slide_type": "slide"
    }
   },
   "source": [
    "Wite the following code to evaluate interpolation $p_n(t)$ using Newton divided difference formula."
   ]
  },
  {
   "cell_type": "code",
   "execution_count": null,
   "metadata": {
    "slideshow": {
     "slide_type": "-"
    }
   },
   "outputs": [],
   "source": [
    "# code interp"
   ]
  },
  {
   "cell_type": "markdown",
   "metadata": {},
   "source": [
    "<span style=\"color:blue\">[Example]</span> &emsp; Draw interpolation function using Newton divided difference formula for $f(x) = \\sin x$ on $[0,2\\pi]$ with uniform nodes $0 = x_0 < x_1 < \\cdots < x_n = 2\\pi$ for $n = 1,2,...,6$"
   ]
  },
  {
   "cell_type": "code",
   "execution_count": null,
   "metadata": {},
   "outputs": [],
   "source": [
    "import matplotlib.pylab as plt\n",
    "%matplotlib inline\n",
    "\n"
   ]
  },
  {
   "cell_type": "markdown",
   "metadata": {
    "slideshow": {
     "slide_type": "slide"
    }
   },
   "source": [
    "### An interpolation error formula using divided differences\n",
    "\n",
    "Let $t$ be a real number, distinct from the node points $x_0,x_1,\\cdots,x_n$. Construct the polynomial interpolation to $f(x)$ at $x_0,\\cdots,x_n$ and $t$:\n",
    "\n",
    "$$p_{n+1}(x) = p_n(x) + (x-x_0)\\cdots(x-x_n)f[x_0,\\cdots,x_n,t]$$"
   ]
  },
  {
   "cell_type": "markdown",
   "metadata": {
    "slideshow": {
     "slide_type": "slide"
    }
   },
   "source": [
    "### An interpolation error formula using divided differences\n",
    "\n",
    "Since $f(t) = p_{n+1}(t)$, let $x=t$ to obtain\n",
    "\n",
    "$$f(t) - p_n(t) = (t-x_0)\\cdots(t-x_n)f[x_0,\\cdots,x_n,t]$$\n",
    "<br>\n",
    "\n",
    "Combining the above with Lagrange error formula implies\n",
    "\n",
    "$$f[x_0,\\cdots,x_n,t] = \\frac{f^{(n+1)}(\\xi)}{(n+1)!}$$\n",
    "\n",
    "for some $\\xi \\in \\mathcal{H}\\{x_0,x_1,\\cdots,x_n,t\\}$."
   ]
  },
  {
   "cell_type": "markdown",
   "metadata": {
    "slideshow": {
     "slide_type": "slide"
    }
   },
   "source": [
    "### An interpolation error formula using divided differences\n",
    "\n",
    "Without loss of generality, we let $t = x_{n+1},\\ n = m-1$ to obtain\n",
    "\n",
    "$$f[x_0,x_1,\\cdots,x_m] = \\frac{f^{(m)}(\\xi)}{m!} \\qquad \\text{some} \\ \\xi \\in \\mathcal{H}\\{x_0,x_1,\\cdots,x_n,t\\}$$\n",
    "\n",
    ": it looks like a truncated Taylor series for $f(x)$, expanded about $x_0$, provided the size $x_n - x_0$ is not too large."
   ]
  },
  {
   "cell_type": "markdown",
   "metadata": {
    "slideshow": {
     "slide_type": "slide"
    }
   },
   "source": [
    "### The approximation problem\n",
    "\n",
    "Consider approximating a given function $f(x)$ on a given interval $[a,b]$ by using interpolating polynomials. In particular, consider the polynomial $p_n(x)$ produced by interpolating $f(x)$ on an evenly spaced subdivision of $[a,b]$. Then we ask whether\n",
    "$$\\max_{a\\le x\\le b} |f(x) - p_n(x)|$$\n",
    "tend to zero as $n\\rightarrow \\infty$?: <span style=\"color:red\"> Not necessarily!!!</span>"
   ]
  },
  {
   "cell_type": "markdown",
   "metadata": {
    "slideshow": {
     "slide_type": "slide"
    }
   },
   "source": [
    "### Runge phenomenon\n",
    "\n",
    "Let\n",
    "$$f(x) = \\frac{1}{1+x^2},\\qquad -5\\le x\\le 5$$\n",
    "\n",
    "For this example, it is shown that for any $3.64<|x|<5$,\n",
    "$$\\sup_{n\\ge k} |f(x) - p_n(x)| = \\infty, \\quad \\text{and}\\ k\\ge 0$$"
   ]
  },
  {
   "cell_type": "markdown",
   "metadata": {
    "slideshow": {
     "slide_type": "slide"
    }
   },
   "source": [
    "### Runge phenominan\n",
    "\n",
    "<img src=\"https://github.com/dw-shin/NA_notes/blob/master/chapter3/figures/runge.png?raw=true\" height=\"30\" align=\"center\">\n",
    "\n",
    "This happens near the end points! $\\Longrightarrow$ there are suitable sets of grid points $\\{x_j\\}$ that do result in good approximations for all continuously differentiable functions."
   ]
  },
  {
   "cell_type": "markdown",
   "metadata": {
    "slideshow": {
     "slide_type": "slide"
    }
   },
   "source": [
    "## 3.6 Hermite Interpolation"
   ]
  },
  {
   "cell_type": "markdown",
   "metadata": {
    "slideshow": {
     "slide_type": "slide"
    }
   },
   "source": [
    "Construct a polynomial that satisfies\n",
    "\n",
    "$$p(x_i) = y_i,\\quad p'(x_i) = y'_i, \\quad i = 1,\\cdots,n$$\n",
    "\n",
    "where $x_1,\\cdots,x_n$ are distinct nodes.\n",
    "<br>\n",
    "\n",
    "$\\Longrightarrow \\ 2n$ conditions $\\Longrightarrow$ at most $2n-1$ degree polynomial."
   ]
  },
  {
   "cell_type": "markdown",
   "metadata": {
    "slideshow": {
     "slide_type": "slide"
    }
   },
   "source": [
    "### <span style='color:blue'> [Existence] </span> \n",
    "\n",
    "Let $\\Psi_n(x) = (x-x_1)\\cdots(x-x_n)$\n",
    "\n",
    "$$\\ell_i(x) = \\frac{(x-x_1)\\cdots(x-x_{i-1})(x-x_{i+1})\\cdots(x-x_n)}{(x_i-x_1)\\cdots(x_i-x_{i-1})(x_i-x_{i+1})\\cdots(x_i-x_n)} = \\frac{\\Psi_n(x)}{(x-x_i)\\Psi'_n(x_i)}$$\n",
    "\n",
    "Let\n",
    "\\begin{align}\n",
    "\\widetilde{h}_i(x) &= (x-x_i)[\\ell_i(x)]^2 \\\\\n",
    "h_i(x) &= (1 - 2\\ell'_i(x_i)(x-x_i))[\\ell_i(x)]^2\n",
    "\\end{align}\n",
    "\n",
    "Then\n",
    "$$H_n(x) = \\sum_{i=1}^n y_i h_i(x) + \\sum_{i=1}^n y'_i \\widetilde{h}_i(x)$$"
   ]
  },
  {
   "cell_type": "markdown",
   "metadata": {
    "slideshow": {
     "slide_type": "slide"
    }
   },
   "source": [
    "### <span style='color:blue'> [Uniqueness] </span> \n",
    "\n",
    "Suppose $G(x)$ satisfies $G(x_i) = y_i,\\ G'(x_i) = y'_i,\\ i=1,\\cdots,n$ with degree$\\le 2n-1$. Define $R = H - G$. Since $R(x_i) = R'(x_i) = 0,\\ i=1,\\cdots,n$, $R$ has $n$ double roots, $x_1,\\cdots,x_n$. That is, $R$ can be represented by\n",
    "\n",
    "$$R(x) = q(x)(x-x_1)^2\\cdots(x-x_n)^2, \\ \\text{for some polynomial } q(x).$$\n",
    "\n",
    "If $q(x)\\neq 0$, then $deg(R) \\ge 2n$ which contradicts the fact $deg(R) \\le 2n - 1$"
   ]
  },
  {
   "cell_type": "markdown",
   "metadata": {
    "slideshow": {
     "slide_type": "slide"
    }
   },
   "source": [
    "### Newton divided difference form\n",
    "\n",
    "\\begin{align}\n",
    "H(x) &= f(x_1) + (x-x_1)f[x_1,x_1] + (x-x_1)^2 f[x_1,x_1,x_2] + \\cdots \\\\\n",
    "&\\quad + (x-x_1)^2\\cdots(x-x_{n-1})^2(x-x_n)f[x_1,x_1,x_2,x_2,\\cdots,x_n,x_n]\n",
    "\\end{align}"
   ]
  },
  {
   "cell_type": "markdown",
   "metadata": {
    "slideshow": {
     "slide_type": "slide"
    }
   },
   "source": [
    "<span style='color:blue'> [Example] Cubic Hermite polynomial</span> \n",
    "\n",
    "$p(a)=f(a),\\ p(b) = f(b),\\ p'(a) = f'(a),\\ p'(b) = f'(b)$"
   ]
  },
  {
   "cell_type": "markdown",
   "metadata": {
    "slideshow": {
     "slide_type": "-"
    }
   },
   "source": [
    "(sol)\n",
    "\n",
    "\\begin{align}\n",
    "H_2(x) &= \\left[1 + 2\\frac{x-a}{b-a}\\right]\\left[\\frac{b-x}{b-a}\\right]^2 \\cdot f(a) + \\left[1 + 2\\frac{b-x}{b-a}\\right]\\left[\\frac{x-a}{b-a}\\right]^2 \\cdot f(b) \\\\[2ex]\n",
    "&\\qquad + \\frac{(x-a)(b-x)^2}{(b-a)^2}\\cdot f'(a) - \\frac{(x-a)^2(b-x)}{(b-a)^2}\\cdot f'(b)\n",
    "\\end{align}"
   ]
  },
  {
   "cell_type": "markdown",
   "metadata": {
    "slideshow": {
     "slide_type": "slide"
    }
   },
   "source": [
    "## 3.7 Piecewise Polynomial Interpolation"
   ]
  },
  {
   "cell_type": "markdown",
   "metadata": {
    "slideshow": {
     "slide_type": "slide"
    }
   },
   "source": [
    "For a piecewise polynomial function $p(x)$, there is an associated grid:\n",
    "\n",
    "$$-\\infty < x_0 < x_1 < \\cdots < x_n < \\infty$$\n",
    "\n",
    "where the points $x_j$ are somtimes called *knots, breakpoints,* or *nodes*.\n",
    "<br>\n",
    "<br>\n",
    "\n",
    "The function is a polynomial on each of subintervals\n",
    "\n",
    "$$(-\\infty,x_0],\\ [x_0,x_1],\\ \\cdots,\\ [x_n,\\infty)$$\n",
    "\n",
    "although often the intervals $(-\\infty,x_0]$ and $[x_n,\\infty)$ are not included.\n",
    "<br>\n",
    "\n",
    "We say $p(x)$ is a *piecewise polynomial of order* $r$ if the degree of $p(x)$ is less than $r$ on each of the subintervals."
   ]
  },
  {
   "cell_type": "markdown",
   "metadata": {
    "slideshow": {
     "slide_type": "slide"
    }
   },
   "source": [
    " ### Local interpolation problems\n",
    " \n",
    " For a given interval $[a,b]$, we begin by choosing a grid\n",
    " \n",
    " $$a = x_0 < x_1 < \\cdots < x_n = b$$\n",
    " \n",
    " Our first case of a piecewise polynomial function is based on using ordinary polynomial interpolation on each subinterval $[x_{i-1},x_i]$.\n",
    " <br>\n",
    " \n",
    " Let four interpolation nodes be given on each subinterval $[x_{i-1},x_i]$,\n",
    " \n",
    " $$x_{i-1}\\le z_{i,1} < z_{i,2} < z_{i,3} < z_{i,4} \\le x_i \\qquad i = 1,\\cdots,n$$\n",
    " \n",
    " Define $p(x)$ on $x_{i-1}<x<x_i$ by letting it be the polynomial of degree $\\le 3$ that interpolates $f(x)$ at $z_{i,1},\\cdots,z_{i,4}$.\n",
    " <br>\n",
    " \n",
    " If $z_{i,1} = x_{i-1},\\ z_{i,4} = x_i,\\ i = 1,2,\\cdots,n$ then $p(x)$ is continuous on $[a,b]$"
   ]
  },
  {
   "cell_type": "markdown",
   "metadata": {
    "slideshow": {
     "slide_type": "slide"
    }
   },
   "source": [
    "### Lagrange piecewise polynomial function\n",
    "\n",
    "For the nodes in\n",
    "\n",
    "$$x_{i-1}\\le z_{i,1} < z_{i,2} < z_{i,3} < z_{i,4} \\le x_i \\qquad i = 1,\\cdots,n$$\n",
    "\n",
    "we call the interpolating function $p(z_{i,j}) = f(z_{i,j}), i = 1,\\cdots,n,\\ j = 1,\\cdots, 4$ the *Lagrange piecewise polynomial function*, and it will be denoted by $L_n(x)$.\n",
    "<br>\n",
    "<br>\n",
    "\n",
    "$$|f(x) - L_n(x)| \\le \\frac{\\delta_i^4}{24}\\max_{x_{i-1}\\le t\\le x_i} |f^{(4)}(t)| \\qquad x_{i-1}<x<x_i$$\n",
    "\n",
    "where $\\displaystyle \\delta_i = \\frac{(x_i - x_{i-1})}{3}, \\ z_{i,j} = x_{i-1} + (j-1)\\delta_i,\\ j=1,2,3,4$ for $i = 1,2,\\cdots,n$"
   ]
  },
  {
   "cell_type": "markdown",
   "metadata": {
    "slideshow": {
     "slide_type": "slide"
    }
   },
   "source": [
    "### Cubic Hermite interpolation polynomial\n",
    "\n",
    "On each subinterval $[x_{i-1},x_i]$, let $Q_n(x)$ be the cubic Hermite polynomial interpolating $f(x)$ at $x_{i-1}$ and $x_i$.\n",
    "\n",
    "The function $Q_n(x)$ is piecewise cubic on the grid, and because of the interpolation condition, both $Q_n(x)$ and $Q'_n(x)$ are continuous on $[a,b]$\n",
    "\n",
    "Thus $Q_n(x)$ will generally be smoother than $L_n(x)$\n",
    "\n",
    "$$|f(x) - Q_n(x)| \\le \\frac{h^4_i}{384} \\max_{x_{i-1}\\le t\\le x_i} |f^{(4)}(t)| \\qquad x_{i-1}<x<x_i$$\n",
    "\n",
    "with $h_i = x_i - x_{i-1},\\ 1\\le i \\le n$"
   ]
  }
 ],
 "metadata": {
  "celltoolbar": "Slideshow",
  "kernelspec": {
   "display_name": "Python 3",
   "language": "python",
   "name": "python3"
  },
  "language_info": {
   "codemirror_mode": {
    "name": "ipython",
    "version": 3
   },
   "file_extension": ".py",
   "mimetype": "text/x-python",
   "name": "python",
   "nbconvert_exporter": "python",
   "pygments_lexer": "ipython3",
   "version": "3.8.2"
  }
 },
 "nbformat": 4,
 "nbformat_minor": 4
}
