{
 "cells": [
  {
   "cell_type": "markdown",
   "metadata": {
    "slideshow": {
     "slide_type": "slide"
    }
   },
   "source": [
    "This lecture note is based on \"An Introduction to NUMERICAL ANALYSIS\" (2nd Edition) <br> by Kendall E. Atkinson\n",
    "\n",
    "\n",
    "# Chapter 2. ROOTFINDING FOR NONLINEAR EQUATIONS"
   ]
  },
  {
   "cell_type": "markdown",
   "metadata": {
    "slideshow": {
     "slide_type": "slide"
    }
   },
   "source": [
    "***\n",
    "**Definition** &emsp; A sequence of iterates $\\{x_n\\ |\\ n \\ge 0\\}$ is said to converge with *order* $p\\ge 1$ to a point $\\alpha$ if\n",
    "\n",
    "$$|\\alpha - x_{n+1}| \\le c|\\alpha - x_n|^p \\qquad n\\ge 0$$\n",
    "\n",
    "for some $c>0$.\n",
    "If $p=1$, the sequence is said to *converge linearly* to $\\alpha$.\n",
    "In that case, we require $c<1$; the constant $c$ is called the *rate of linear convergence* of $x_n$ to $\\alpha$."
   ]
  },
  {
   "cell_type": "markdown",
   "metadata": {
    "slideshow": {
     "slide_type": "slide"
    }
   },
   "source": [
    "## 2.1 The Bisection Method"
   ]
  },
  {
   "cell_type": "markdown",
   "metadata": {
    "slideshow": {
     "slide_type": "slide"
    }
   },
   "source": [
    "Assume that $f(x)$ is continuous on $[a,b]$ and that it also satisfies\n",
    "\n",
    "$$f(a) f(b) < 0.$$\n",
    "\n",
    "Using `Theorem 1.1 (Intermidiate Value)`, the function $f(x)$ must have at least one root in $[a,b]$."
   ]
  },
  {
   "cell_type": "markdown",
   "metadata": {
    "slideshow": {
     "slide_type": "slide"
    }
   },
   "source": [
    "***\n",
    "**Algorithm** &emsp; Bisect ($f,\\ a,\\ b,\\ \\text{root}, \\epsilon$) \n",
    "\n",
    "1. Define $c:= (a+b)/2$. <br>\n",
    "\n",
    "2. If $b-c\\le \\epsilon$, then accept root$:= c$, and exit. <br>\n",
    "\n",
    "3. If sign$(f(b))\\cdot$ sign$(f(c))\\le 0$, then $a:= c$; otherwise, $b:= c$. <br>\n",
    "\n",
    "4. Return to step 1.\n",
    "***"
   ]
  },
  {
   "cell_type": "markdown",
   "metadata": {
    "slideshow": {
     "slide_type": "slide"
    }
   },
   "source": [
    "Implement Bisect($f,a,b,\\text{root},\\epsilon$)"
   ]
  },
  {
   "cell_type": "code",
   "execution_count": 1,
   "metadata": {
    "slideshow": {
     "slide_type": "-"
    }
   },
   "outputs": [],
   "source": [
    "import numpy as np\n",
    "def bisect(f,a,b,epsilon):\n",
    "    root = []\n",
    "    while 1:\n",
    "        c = (a + b) / 2\n",
    "        root.append(c)\n",
    "        \n",
    "        if b-c<=epsilon: return root\n",
    "        \n",
    "        if f(b)*f(c) <= 0:\n",
    "            a = c\n",
    "        else:\n",
    "            b = c"
   ]
  },
  {
   "cell_type": "code",
   "execution_count": 2,
   "metadata": {
    "slideshow": {
     "slide_type": "slide"
    }
   },
   "outputs": [
    {
     "name": "stdout",
     "output_type": "stream",
     "text": [
      "[1.5, 1.25, 1.375, 1.4375, 1.40625, 1.421875, 1.4140625, 1.41796875, 1.416015625, 1.4150390625, 1.41455078125, 1.414306640625, 1.4141845703125, 1.41424560546875, 1.414215087890625, 1.4141998291015625, 1.4142074584960938, 1.4142112731933594, 1.4142131805419922, 1.4142141342163086, 1.4142136573791504, 1.4142134189605713, 1.4142135381698608, 1.4142135977745056, 1.4142135679721832, 1.414213553071022, 1.4142135605216026, 1.414213564246893, 1.4142135623842478, 1.4142135614529252, 1.4142135619185865, 1.4142135621514171, 1.4142135622678325, 1.4142135623260401]\n"
     ]
    }
   ],
   "source": [
    "f = lambda x: x**2 - 2\n",
    "root = bisect(f,1,2,1e-10)\n",
    "print(root)"
   ]
  },
  {
   "cell_type": "code",
   "execution_count": 3,
   "metadata": {
    "slideshow": {
     "slide_type": "slide"
    }
   },
   "outputs": [
    {
     "data": {
      "text/plain": [
       "array([8.57864376e-02, 1.64213562e-01, 3.92135624e-02, 2.32864376e-02,\n",
       "       7.96356237e-03, 7.66143763e-03, 1.51062373e-04, 3.75518763e-03,\n",
       "       1.80206263e-03, 8.25500127e-04, 3.37218877e-04, 9.30782519e-05,\n",
       "       2.89920606e-05, 3.20430957e-05, 1.52551753e-06, 1.37332715e-05,\n",
       "       6.10387700e-06, 2.28917974e-06, 3.81831103e-07, 5.71843213e-07,\n",
       "       9.50060552e-08, 1.43412524e-07, 2.42032343e-08, 3.54014105e-08,\n",
       "       5.59908808e-09, 9.30207311e-09, 1.85149251e-09, 1.87379778e-09,\n",
       "       1.11526344e-11, 9.20169940e-10, 4.54508653e-10, 2.21678009e-10,\n",
       "       1.05262687e-10, 4.70550265e-11])"
      ]
     },
     "execution_count": 3,
     "metadata": {},
     "output_type": "execute_result"
    }
   ],
   "source": [
    "np.abs(root - np.sqrt(2))"
   ]
  },
  {
   "cell_type": "markdown",
   "metadata": {
    "slideshow": {
     "slide_type": "slide"
    }
   },
   "source": [
    "<span style=\"color:blue\">[Speed of convergence]</span> Let $c_n$ denote the $n$th value of $c$ in the algorithm.\n",
    "Then\n",
    "\n",
    "$$\\alpha = \\lim_{n\\rightarrow \\infty} c_n, $$\n",
    "\n",
    "$$|\\alpha - c_n| \\le \\left[\\frac{1}{2}\\right]^n (b-a).$$"
   ]
  },
  {
   "cell_type": "code",
   "execution_count": 11,
   "metadata": {
    "slideshow": {
     "slide_type": "slide"
    }
   },
   "outputs": [
    {
     "data": {
      "image/png": "[encoded data removed]",
      "text/plain": [
       "<Figure size 432x288 with 1 Axes>"
      ]
     },
     "metadata": {
      "needs_background": "light"
     },
     "output_type": "display_data"
    }
   ],
   "source": [
    "import matplotlib.pylab as plt\n",
    "%matplotlib inline\n",
    "\n",
    "xx = np.arange(1,(len(root)+1))\n",
    "plt.semilogy(xx,np.abs(root-np.sqrt(2)), label=r'|$\\alpha$ - c_n|')\n",
    "plt.semilogy(xx, (1/2)**(xx), label=r'$\\left[\\frac{1}{2}\\right]^n (b-a)$')\n",
    "plt.legend()\n",
    "plt.show()"
   ]
  },
  {
   "cell_type": "markdown",
   "metadata": {
    "slideshow": {
     "slide_type": "slide"
    }
   },
   "source": [
    "### Major problem\n",
    "\n",
    "- Bisect converges very slowly when compared with other methods.\n",
    "<br>\n",
    "\n",
    "### Major advantages\n",
    "\n",
    "- it is guaranteed to converge.<br>\n",
    "\n",
    "- at each step, upper and lower bounds of the root $\\alpha$ are available: *enclosure method*"
   ]
  },
  {
   "cell_type": "markdown",
   "metadata": {
    "slideshow": {
     "slide_type": "slide"
    }
   },
   "source": [
    "## 2.2 Newton's Method"
   ]
  },
  {
   "cell_type": "markdown",
   "metadata": {
    "slideshow": {
     "slide_type": "slide"
    }
   },
   "source": [
    "### Geometric approach\n",
    "\n",
    "1. Assume an initial estimate $x_0$ is close to the desired root $\\alpha$. <br>\n",
    "\n",
    "2. Approximate the graph of $y = f(x)$ in the vicinity of its root $\\alpha$ by constructing its tangent line at $(x_0, f(x_0))$. <br>\n",
    "\n",
    "3. Use the root of this tangent line to approximate $\\alpha$; call this new approximation $x_1$. <br>\n",
    "\n",
    "4. Repeat this process to obtain a sequence of iterates $x_n$. <br>\n",
    "\n",
    "$$x_{n+1} = x_n - \\frac{f(x_n)}{f'(x_n)} \\qquad n\\ge 0$$"
   ]
  },
  {
   "cell_type": "markdown",
   "metadata": {
    "slideshow": {
     "slide_type": "slide"
    }
   },
   "source": [
    "### Taylor's expansion\n",
    "\n",
    "Assume $f\\in \\mathcal{C}^2([a,b])$. Consider the Taylor's expansion of $f$:\n",
    "\n",
    "$$f(x) = f(x_n) + (x-x_n) f'(x_n) + \\frac{(x-x_n)^2}{2!}f''(\\xi),$$\n",
    "\n",
    "where $\\xi$ is in between $x$ and $x_n$.\n",
    "Letting $x=\\alpha$ and using $f(\\alpha) = 0$,\n",
    "\n",
    "$$0 = f(\\alpha) = f(x_n) + (\\alpha - x_n)f'(x_n) + \\frac{(\\alpha - x_n)^2}{2!}f''(\\xi)$$\n",
    "\n",
    "$$\\Rightarrow \\quad \\alpha = x_n - \\frac{f(x_n)}{f'(x_n)} -  \\frac{(\\alpha - x_n)^2}{2!}\\frac{f''(\\xi)}{f'(x_n)}.$$"
   ]
  },
  {
   "cell_type": "markdown",
   "metadata": {
    "slideshow": {
     "slide_type": "slide"
    }
   },
   "source": [
    "### Taylor's expansion\n",
    "\n",
    "Assume $f'(\\alpha) \\neq 0$. Let\n",
    "\n",
    "<span style=\"color:red\">$$x_{n+1} = x_n - \\frac{f(x_n)}{f'(x_n)}, \\qquad n\\ge 1 \\ : \\ \\text{Newton's method}$$</span>\n",
    "\n",
    "then\n",
    "\n",
    "$$\\alpha - x_{n+1} = -(\\alpha - x_n)^2 \\frac{f''(\\xi)}{2f'(x_n)}, \\quad x\\ge 1.$$"
   ]
  },
  {
   "cell_type": "markdown",
   "metadata": {
    "slideshow": {
     "slide_type": "slide"
    }
   },
   "source": [
    "***\n",
    "**Theorem 2.1** &emsp; Assume $f(x),\\ f'(x),$ and $f''(x)$ are continuous for all $x$ in some neighborhood of $\\alpha$, and assume $f(\\alpha) = 0,\\ f'(\\alpha) \\neq 0$. \n",
    "Then if $x_0$ is chosen sufficiently close to $\\alpha$, the iterates $x_n,\\ n\\ge 0$, of <span style=\"color:red\">Newton's method</span> will converge to $\\alpha$. \n",
    "Moreover,\n",
    "\n",
    "$$\\lim_{n\\rightarrow \\infty} \\frac{\\alpha - x_{n+1}}{(\\alpha - x_n)^2} = -\\frac{f''(\\alpha)}{2f'(\\alpha)}$$\n",
    "\n",
    "proving that the iterates have an order of convergence $p = 2$.\n",
    "***"
   ]
  },
  {
   "cell_type": "markdown",
   "metadata": {
    "slideshow": {
     "slide_type": "slide"
    }
   },
   "source": [
    "<span style=color:blue> [Speed of convergence] </span> If $x_0$ is close enough to $\\alpha$ (and $f'\\neq 0$ on $[a,b]$) then we have\n",
    "\n",
    "$$|\\alpha - x_{n+1}| \\le c|\\alpha - x_n|^2 \\ : \\ \\text{quadratic convergence}$$"
   ]
  },
  {
   "cell_type": "markdown",
   "metadata": {
    "slideshow": {
     "slide_type": "slide"
    }
   },
   "source": [
    "### Major advantage\n",
    "\n",
    "- if it converges, it generally does so quite rapidly <br>\n",
    "\n",
    "### Major disadvantage\n",
    "\n",
    "- it may not converge (choosing correct initial guess, ...) <br>\n",
    "\n",
    "- the necessity of knowing $f'(x)$ explicitly, which may not always possible"
   ]
  },
  {
   "cell_type": "markdown",
   "metadata": {
    "slideshow": {
     "slide_type": "slide"
    }
   },
   "source": [
    "***\n",
    "**Algorithm** &emsp; Newton ($f,\\ df,\\ x_0,\\ \\epsilon, \\ \\text{root}, \\ \\text{itmax},\\ \\text{ier}$) \n",
    "\n",
    "1. Remark: $df$ is the derivative function $f'(x)$, itmax is the maximum number of iterates to be computed, and ier is an error flag to the user. <br>\n",
    "\n",
    "2. itnum$:= 1$ <br>\n",
    "\n",
    "3. denom$:= df(x_0)$ <br>\n",
    "\n",
    "4. If denom$=0$, then ier$:=2$ and exit. <br>\n",
    "\n",
    "5. $x_1 := x_0 - f(x_0)/$denom <br>\n",
    "\n",
    "6. If $|x_1 - x_0| \\le \\epsilon$, then set ier$:=0$, root$:= x_1$, and exit. <br>\n",
    "\n",
    "7. If itnum$=$itmax, set ier$:=1$ and exit. <br>\n",
    "\n",
    "8. Otherwise, itnum$:=$itnum +1, $x_0 := x_1$, and go to step 3.\n",
    "***"
   ]
  },
  {
   "cell_type": "markdown",
   "metadata": {
    "slideshow": {
     "slide_type": "slide"
    }
   },
   "source": [
    "Implement Newton($f,df,x_0,\\epsilon,\\text{root,itmax,ier}$)"
   ]
  },
  {
   "cell_type": "code",
   "execution_count": null,
   "metadata": {
    "slideshow": {
     "slide_type": "slide"
    }
   },
   "outputs": [],
   "source": [
    "def newton(f,df,x0,epsilon,itmax):\n",
    "    return(root, ier)"
   ]
  },
  {
   "cell_type": "code",
   "execution_count": null,
   "metadata": {
    "slideshow": {
     "slide_type": "slide"
    }
   },
   "outputs": [],
   "source": [
    "f = lambda x: x**2 - 2\n",
    "df = lambda x: 2*x\n",
    "root, ier = newton(f,df,2,1e-10,10)\n",
    "print(root, ier)"
   ]
  },
  {
   "cell_type": "code",
   "execution_count": null,
   "metadata": {
    "slideshow": {
     "slide_type": "slide"
    }
   },
   "outputs": [],
   "source": [
    "np.abs(root - np.sqrt(2))"
   ]
  },
  {
   "cell_type": "code",
   "execution_count": null,
   "metadata": {
    "slideshow": {
     "slide_type": "slide"
    }
   },
   "outputs": [],
   "source": [
    "import matplotlib.pylab as plt\n",
    "%matplotlib inline\n",
    "\n",
    "xx = np.arange(1,(len(root)+1))\n",
    "plt.semilogy(xx,np.abs(root-np.sqrt(2)), label=r'|$\\alpha$ - c_n|')\n",
    "plt.legend()\n",
    "plt.show()"
   ]
  },
  {
   "cell_type": "code",
   "execution_count": null,
   "metadata": {
    "slideshow": {
     "slide_type": "slide"
    }
   },
   "outputs": [],
   "source": [
    "np.log(np.abs(np.sqrt(2)- root[1:-1]))/np.log(np.abs(np.sqrt(2)-root[0:-2]))"
   ]
  },
  {
   "cell_type": "markdown",
   "metadata": {
    "slideshow": {
     "slide_type": "slide"
    }
   },
   "source": [
    "## 2.3 The Secant Method"
   ]
  },
  {
   "cell_type": "markdown",
   "metadata": {
    "slideshow": {
     "slide_type": "slide"
    }
   },
   "source": [
    "Using the slope formula with the secant line,\n",
    "\n",
    "$$\\frac{f(x_1)-f(x_0)}{x_1 - x_0} = \\frac{f(x_1) - 0}{x_1 - x_2}$$\n",
    "<br>\n",
    "\n",
    "Solving for $x_2$\n",
    "\n",
    "$$x_2 = x_1 - f(x_1)\\cdot\\frac{x_1 - x_0}{f(x_1) - f(x_0)}$$"
   ]
  },
  {
   "cell_type": "markdown",
   "metadata": {
    "slideshow": {
     "slide_type": "slide"
    }
   },
   "source": [
    "### Secant method\n",
    "\n",
    "<span style=\"color:red\">$$x_{n+1} = x_n - f(x_n)\\cdot\\frac{x_n - x_{n-1}}{f(x_n) - f(x_{n-1})} \\qquad n\\ge 1$$</span>"
   ]
  },
  {
   "cell_type": "markdown",
   "metadata": {
    "slideshow": {
     "slide_type": "slide"
    }
   },
   "source": [
    "### Error analysis\n",
    "\n",
    "From the secant method\n",
    "\n",
    "\\begin{align}\n",
    "\\alpha - x_{n+1} &= \\alpha - x_n + f(x_n)\\cdot\\frac{x_n - x_{n-1}}{f(x_n) - f(x_{n-1})} \\\\\n",
    "&= -(\\alpha - x_{n-1})(\\alpha - x_n)\\frac{f[x_{n-1},x_n,\\alpha]}{f[x_{n-1},x_n]} \\\\\n",
    "&= -(\\alpha - x_{n-1})(\\alpha - x_n)\\frac{f''(\\zeta_n)}{2f'(\\xi_n)}\n",
    "\\end{align}\n",
    "\n",
    "with $\\xi_n$ between $x_{n-1}$ and $x_n$, and $\\zeta_n$ between $x_{n-1},\\ x_n,$ and $\\alpha$."
   ]
  },
  {
   "cell_type": "markdown",
   "metadata": {
    "slideshow": {
     "slide_type": "slide"
    }
   },
   "source": [
    "***\n",
    "**Theorem 2.3** &emsp; Assume $f(x),\\ f'(x),$ and $f''(x)$ are continuous for all values of $x$ in some interval containing $\\alpha$, and assume $f'(\\alpha)\\neq 0$. Then if the initial guesses $x_0$ and $x_1$ are chosen sufficiently close to $\\alpha$, the iterates $x_n$ of <span style=\"color:red\">the secant method</span> will converge to $\\alpha$. The order of convergence will be $p = (1 + \\sqrt{5})/2 \\approx 1.62$.\n",
    "***"
   ]
  },
  {
   "cell_type": "markdown",
   "metadata": {
    "slideshow": {
     "slide_type": "slide"
    }
   },
   "source": [
    "### Major advantage\n",
    "\n",
    "- if it converges, it is faster than the bisection method <br>\n",
    "\n",
    "- it does not require a kowledge of $f'(x)$\n",
    "\n",
    "### Major disadvantage\n",
    "\n",
    "- it may not converge (choosing correct initial guess, ...) <br>\n",
    "\n",
    "- it is slower than Newton's method"
   ]
  },
  {
   "cell_type": "markdown",
   "metadata": {
    "slideshow": {
     "slide_type": "slide"
    }
   },
   "source": [
    "### Comparison of Newton's method and the secant method\n",
    "\n",
    "- Newton's method requires two function evaluations per iterate, that of $f(x+n)$ and $f'(x_n)$ whereas the secant method requires only one function evaluation per iterate, that of $f(x_n)$ ($f(x_{n=1})$ is retained from the previous iteration): <span style='color:red'> Newton's method is generally more expensive per iteration.</span> <br>\n",
    "\n",
    "- Newton's method converges more rapidly"
   ]
  },
  {
   "cell_type": "markdown",
   "metadata": {
    "slideshow": {
     "slide_type": "slide"
    }
   },
   "source": [
    "***\n",
    "**Algorithm** &emsp; Secant ($f,\\ x_0,\\ x_1, \\ \\epsilon, \\ \\text{root}, \\ \\text{itmax},\\ \\text{ier}$) \n",
    "\n",
    "1. Remark: itmax is the maximum number of iterates to be computed, and ier is an error flag to the user. <br>\n",
    "\n",
    "2. itnum$:= 1$ <br>\n",
    "\n",
    "3. slope$:= (f(x_1) - f(x_0))/(x_1 - x_0)$ <br>\n",
    "\n",
    "4. If slope$=0$, then ier$:=2$ and exit. <br>\n",
    "\n",
    "5. $x_2 := x_1 - f(x_1)/$slope <br>\n",
    "\n",
    "6. If $|x_2 - x_1| \\le \\epsilon$, then set ier$:=0$, root$:= x_2$, and exit. <br>\n",
    "\n",
    "7. If itnum$=$itmax, set ier$:=1$ and exit. <br>\n",
    "\n",
    "8. Otherwise, itnum$:=$itnum +1, $x_0 := x_1$, $x_1 = x_2$ and go to step 3.\n",
    "***"
   ]
  },
  {
   "cell_type": "markdown",
   "metadata": {
    "slideshow": {
     "slide_type": "slide"
    }
   },
   "source": [
    "Implement secant($f,x_0,x_1,\\epsilon,\\text{root,itmax,ier}$)"
   ]
  },
  {
   "cell_type": "code",
   "execution_count": null,
   "metadata": {
    "slideshow": {
     "slide_type": "-"
    }
   },
   "outputs": [],
   "source": [
    "def secant(f,x0,x1,epsilon,itmax):\n",
    "    return(root, ier)"
   ]
  },
  {
   "cell_type": "code",
   "execution_count": null,
   "metadata": {
    "slideshow": {
     "slide_type": "slide"
    }
   },
   "outputs": [],
   "source": [
    "import numpy as np\n",
    "f = lambda x: x**2 - 2\n",
    "root, ier = secant(f,2,1,1e-10,10)\n",
    "print(root, ier)"
   ]
  },
  {
   "cell_type": "code",
   "execution_count": null,
   "metadata": {
    "slideshow": {
     "slide_type": "slide"
    }
   },
   "outputs": [],
   "source": [
    "np.abs(root - np.sqrt(2))"
   ]
  },
  {
   "cell_type": "code",
   "execution_count": null,
   "metadata": {
    "slideshow": {
     "slide_type": "slide"
    }
   },
   "outputs": [],
   "source": [
    "import matplotlib.pylab as plt\n",
    "%matplotlib inline\n",
    "\n",
    "xx = np.arange(1,(len(root)+1))\n",
    "plt.semilogy(xx,np.abs(root-np.sqrt(2)), label=r'|$\\alpha$ - c_n|')\n",
    "plt.legend()\n",
    "plt.show()"
   ]
  },
  {
   "cell_type": "code",
   "execution_count": null,
   "metadata": {
    "slideshow": {
     "slide_type": "slide"
    }
   },
   "outputs": [],
   "source": [
    "np.log(np.abs(np.sqrt(2)- root[1:-1]))/np.log(np.abs(np.sqrt(2)-root[0:-2]))"
   ]
  },
  {
   "cell_type": "markdown",
   "metadata": {
    "slideshow": {
     "slide_type": "slide"
    }
   },
   "source": [
    "## 2.5 A General Theory for One-Point Iteration Methods"
   ]
  },
  {
   "cell_type": "markdown",
   "metadata": {
    "slideshow": {
     "slide_type": "slide"
    }
   },
   "source": [
    "Consider solving an equation $x = g(x)$ for a root $\\alpha$ by the iteration\n",
    "\n",
    "$$x_{n+1} = g(x_n),\\qquad n\\ge 0$$\n",
    "\n",
    "with $x_0$ an initial guess to $\\alpha$. <br><br>\n",
    "\n",
    "Each solution of $x = g(x)$ is called a *fixed point* of $g$."
   ]
  },
  {
   "cell_type": "markdown",
   "metadata": {
    "slideshow": {
     "slide_type": "slide"
    }
   },
   "source": [
    "***\n",
    "**Lemma 2.5** &emsp; Let $g(x)$ be continuous on $[a,b]$, and assume $g([a,b])\\subset[a,b]$.\n",
    "Furthermore, assume there is a constant $0<\\lambda<1$, with\n",
    "\n",
    "$$|g(x) - g(y)| < \\lambda|x-y| \\qquad \\text{for all} \\quad x,\\ y \\in [a,b]$$\n",
    "\n",
    "Then $x = g(x)$ has a unique solution $\\alpha$ in $[a,b]$. Also, the iterates\n",
    "\n",
    "$$x_n = g(x_{n-1}) \\qquad n\\ge 1$$\n",
    "\n",
    "will converge to $\\alpha$ for any choice of $x_0$ in $[a,b]$, and\n",
    "\n",
    "$$|\\alpha - x_n| \\le \\frac{\\lambda^n}{1 -\\lambda}|x_1-x_0|$$\n",
    "***"
   ]
  },
  {
   "cell_type": "markdown",
   "metadata": {
    "slideshow": {
     "slide_type": "slide"
    }
   },
   "source": [
    "***\n",
    "**Theorem 2.6** &emsp; Assume that $g(x)$ is continuously differentiable on $[a,b]$, that $g([a,b]) \\subset [a,b]$, and that\n",
    "\n",
    "$$ \\lambda = \\max_{a\\le x\\le b} |g'(x)| < 1$$\n",
    "\n",
    "Then\n",
    "\n",
    "(i) $x=g(x)$ has a unique solution $\\alpha$ in $[a,b]$ \n",
    "\n",
    "(ii) For any choice of $x_0$ in $[a,b]$, with $x_{n+1} = g(x_n),\\ n\\ge 0,$\n",
    "\n",
    "$$ \\lim_{n\\rightarrow\\infty} x_n = \\alpha$$\n",
    "\n",
    "(iii)\n",
    "$$|\\alpha - x_n| \\le \\lambda^n |\\alpha - x_0| \\le \\frac{\\lambda^n}{1-\\lambda}|x_1 - x_0|$$\n",
    "$$\\lim_{n\\rightarrow\\infty}\\frac{\\alpha- x_{n+1}}{\\alpha- x_n} = g'(\\alpha)$$"
   ]
  }
 ],
 "metadata": {
  "celltoolbar": "Slideshow",
  "kernelspec": {
   "display_name": "Python 3",
   "language": "python",
   "name": "python3"
  },
  "language_info": {
   "codemirror_mode": {
    "name": "ipython",
    "version": 3
   },
   "file_extension": ".py",
   "mimetype": "text/x-python",
   "name": "python",
   "nbconvert_exporter": "python",
   "pygments_lexer": "ipython3",
   "version": "3.8.2"
  }
 },
 "nbformat": 4,
 "nbformat_minor": 4
}
