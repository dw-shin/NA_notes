{
 "cells": [
  {
   "cell_type": "markdown",
   "metadata": {},
   "source": [
    "### Multistep Methods\n",
    "\n",
    "Recall $p+1$ step method :\n",
    "\n",
    "\\begin{align*}\n",
    "\ty_{n+1} = \\sum_{j=1}^p a_j y_{n-j} + h \\sum_{j=-1}^p b_j f(x_{n-j}, y_{n-j}),\\quad n\\ge p\n",
    "\\end{align*}\n",
    "\n",
    "\\begin{align*}\n",
    "\t\\Rightarrow \\quad y_{n+1} &= \\sum_{j=1}^p a_j y_{n-j} + h \\sum_{j=-1}^p b_j \\lambda y_{n-j},\\quad n\\ge p \\\\\n",
    "    &= \\sum_{j=1}^p a_j y_{n-j} + h\\lambda \\sum_{j=-1}^p b_j y_{n-j}\n",
    "\\end{align*}\n",
    "\n",
    "\\begin{align*}\n",
    "\t\\Rightarrow \\quad (1 - h\\lambda b_{-1})y_{n+1} - \\sum_{j=1}^p (a_j + h\\lambda b_j) y_{n-j} = 0\n",
    "\\end{align*}"
   ]
  },
  {
   "cell_type": "markdown",
   "metadata": {},
   "source": [
    "Substituting $y_n = r^n$ and canceling $r^{n-p}$, we obtain\n",
    "\n",
    "\\begin{align*}\n",
    "\t(1 - h\\lambda b_{-1})r^{n+1} - \\sum_{j=1}^p (a_j + h\\lambda b_j) r^{n-j} = 0\n",
    "\\end{align*}\n",
    "\n",
    "\\begin{align*}\n",
    "\t\\Rightarrow \\quad (1 - h\\lambda b_{-1})r^{p+1} - \\sum_{j=1}^p (a_j + h\\lambda b_j) r^{p-j} = 0\n",
    "\\end{align*}\n",
    "\n",
    "\\begin{align*}\n",
    "\t\\Rightarrow \\quad \\underbrace{(r^{p+1} - \\sum_{j=1}^p a_j r^{p-j})}_{\\rho(r)} - \\underbrace{h\\lambda}_{z} \\underbrace{(b_{-1} r^{p+1} - \\sum_{j=1}^p b_j r^{p-j})}_{\\sigma(r)} = 0\n",
    "\\end{align*}\n",
    "\n",
    "\\begin{align*}\n",
    "\tz = \\frac{\\rho(r)}{\\sigma(r)} = \\frac{\\rho(e^{i\\theta})}{\\sigma(e^{i\\theta})}\n",
    "\\end{align*}"
   ]
  },
  {
   "cell_type": "markdown",
   "metadata": {},
   "source": [
    "For example, the Adams-Bashforth Method (p=2) is given by\n",
    "\n",
    "$$Y_{n+1} = Y_n + \\frac{h}{12}[23Y'_n - 16Y'_{n-1} + 5Y'_{n-2}]$$\n",
    "\n",
    "$$\\Rightarrow \\quad r^{3} = r^2 + \\frac{h\\lambda}{12}(23 r^2 - 16 r + 5)$$\n",
    "\n",
    "$$\\Rightarrow \\quad \\underbrace{r^{3} - r^2}_{\\rho(r)} - z \\underbrace{\\frac{23 r^2 - 16 r + 5}{12}}_{\\sigma(r)} = 0$$"
   ]
  },
  {
   "cell_type": "code",
   "execution_count": null,
   "metadata": {},
   "outputs": [],
   "source": [
    "import numpy as np\n",
    "import matplotlib.pyplot as plt"
   ]
  },
  {
   "cell_type": "code",
   "execution_count": 10,
   "metadata": {},
   "outputs": [
    {
     "data": {
      "image/png": "[encoded data removed]",
      "text/plain": [
       "<Figure size 432x288 with 1 Axes>"
      ]
     },
     "metadata": {
      "needs_background": "light"
     },
     "output_type": "display_data"
    }
   ],
   "source": [
    "t = np.linspace(0,2*np.pi,num=500)\n",
    "rho = np.exp(3*1j*t) - np.exp(2*1j*t)\n",
    "sigma = (23*np.exp(2*1j*t) - 16*np.exp(1j*t) + 5)/12\n",
    "z = rho/sigma\n",
    "plt.plot(z.real, z.imag)\n",
    "plt.grid()\n",
    "plt.axis('equal')\n",
    "plt.show()"
   ]
  },
  {
   "cell_type": "markdown",
   "metadata": {},
   "source": [
    "For example, the Adams-Moulton Method (p=2) is given by\n",
    "\n",
    "$$Y_{n+1} = Y_n + \\frac{h}{24}[9Y'_{n+1} + 19Y'_{n} - 5Y'_{n-1} + Y'_{n-2}]$$\n",
    "\n",
    "$$\\Rightarrow \\quad r^3 = r^2 + \\frac{h\\lambda}{24}(9r^3 + 19r^2 - 5r + 1)$$\n",
    "\n",
    "$$\\Rightarrow \\quad \\underbrace{r^3 - r^2}_{\\rho(r)} - z\\frac{9r^3 + 19r^2 - 5r + 1}{24} = 0$$"
   ]
  },
  {
   "cell_type": "code",
   "execution_count": 11,
   "metadata": {},
   "outputs": [
    {
     "data": {
      "image/png": "[encoded data removed]",
      "text/plain": [
       "<Figure size 432x288 with 1 Axes>"
      ]
     },
     "metadata": {
      "needs_background": "light"
     },
     "output_type": "display_data"
    }
   ],
   "source": [
    "t = np.linspace(0,2*np.pi,num=500)\n",
    "rho = np.exp(3*1j*t) - np.exp(2*1j*t)\n",
    "sigma = (9*np.exp(3*1j*t) + 19*np.exp(2*1j*t) - 5*np.exp(1j*t) + 1)/24\n",
    "z = rho/sigma\n",
    "plt.plot(z.real, z.imag)\n",
    "plt.grid()\n",
    "plt.axis('equal')\n",
    "plt.show()"
   ]
  },
  {
   "cell_type": "code",
   "execution_count": null,
   "metadata": {},
   "outputs": [],
   "source": []
  }
 ],
 "metadata": {
  "kernelspec": {
   "display_name": "Python 3",
   "language": "python",
   "name": "python3"
  },
  "language_info": {
   "codemirror_mode": {
    "name": "ipython",
    "version": 3
   },
   "file_extension": ".py",
   "mimetype": "text/x-python",
   "name": "python",
   "nbconvert_exporter": "python",
   "pygments_lexer": "ipython3",
   "version": "3.5.6"
  }
 },
 "nbformat": 4,
 "nbformat_minor": 4
}
