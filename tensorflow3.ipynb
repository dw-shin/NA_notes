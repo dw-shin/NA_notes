{
 "cells": [
  {
   "cell_type": "code",
   "execution_count": 1,
   "metadata": {},
   "outputs": [],
   "source": [
    "import numpy as np\n",
    "import tensorflow as tf\n",
    "import matplotlib.pyplot as plt\n",
    "%matplotlib inline\n",
    "%config inlineBackend.figure_format = 'retina'"
   ]
  },
  {
   "cell_type": "code",
   "execution_count": 2,
   "metadata": {},
   "outputs": [],
   "source": [
    "np.random.seed(320)\n",
    "x_train = np.linspace(-1,1,50)\n",
    "f = lambda x: 0.5 * x + 1.0\n",
    "y_train = f(x_train) + 0.4 * np.random.rand(len(x_train))\n",
    "x_train = x_train.reshape(-1,1)\n",
    "y_train = y_train.reshape(-1,1)"
   ]
  },
  {
   "cell_type": "code",
   "execution_count": 3,
   "metadata": {},
   "outputs": [
    {
     "data": {
      "image/png": "[encoded data removed]",
      "text/plain": [
       "<Figure size 432x288 with 1 Axes>"
      ]
     },
     "metadata": {
      "needs_background": "light"
     },
     "output_type": "display_data"
    }
   ],
   "source": [
    "plt.plot(x_train,y_train,'.k',\n",
    "         markerfacecolor='none')\n",
    "plt.grid()\n",
    "plt.xlabel('x')\n",
    "plt.ylabel('y')\n",
    "plt.show()"
   ]
  },
  {
   "cell_type": "code",
   "execution_count": 4,
   "metadata": {},
   "outputs": [],
   "source": [
    "w = tf.Variable(tf.ones([1,1]), dtype=tf.float32)\n",
    "b = tf.Variable(tf.ones([1]), dtype=tf.float32)\n",
    "\n",
    "x = tf.placeholder(tf.float32, [None,1])\n",
    "\n",
    "yhat = tf.matmul(x,w)+b"
   ]
  },
  {
   "cell_type": "code",
   "execution_count": 5,
   "metadata": {},
   "outputs": [],
   "source": [
    "y = tf.placeholder(tf.float32, [None,1])\n",
    "\n",
    "loss = tf.reduce_mean(tf.square(yhat-y))"
   ]
  },
  {
   "cell_type": "code",
   "execution_count": 6,
   "metadata": {},
   "outputs": [],
   "source": [
    "MaxEpoch = 25\n",
    "lr = 0.25\n",
    "optimizer = tf.train.GradientDescentOptimizer(lr)\n",
    "train = optimizer.minimize(loss)"
   ]
  },
  {
   "cell_type": "code",
   "execution_count": 7,
   "metadata": {},
   "outputs": [
    {
     "name": "stdout",
     "output_type": "stream",
     "text": [
      "[[1.]] [1.] 0.1524815\n",
      "[[0.66522515]] [1.1854535] 0.028151726\n",
      "[[0.53608906]] [1.1912489] 0.015063959\n",
      "[[0.4862761]] [1.19143] 0.013121848\n",
      "[[0.46706128]] [1.1914357] 0.012832876\n"
     ]
    }
   ],
   "source": [
    "init = tf.global_variables_initializer()\n",
    "with tf.Session() as sess:\n",
    "    sess.run(init)\n",
    "    for epoch in range(MaxEpoch):\n",
    "        if epoch % 5 == 0:\n",
    "            curr_w, curr_b, curr_loss = sess.run([w,b,loss],feed_dict={x:x_train,y:y_train})\n",
    "            print(curr_w, curr_b, curr_loss)\n",
    "        sess.run(train, feed_dict={x:x_train,\n",
    "                                   y:y_train})\n",
    "    w_tf_gd, b_tf_gd = sess.run([w,b])"
   ]
  },
  {
   "cell_type": "code",
   "execution_count": 8,
   "metadata": {},
   "outputs": [],
   "source": [
    "init = tf.global_variables_initializer()\n",
    "with tf.Session() as sess:\n",
    "    sess.run(init)\n",
    "    for epoch in range(MaxEpoch):\n",
    "        sess.run(train, feed_dict={x:x_train,\n",
    "                                   y:y_train})\n",
    "    w_tf_gd, b_tf_gd = sess.run([w,b])"
   ]
  },
  {
   "cell_type": "code",
   "execution_count": 10,
   "metadata": {},
   "outputs": [],
   "source": [
    "np.random.seed(320)\n",
    "shuffled_id = np.arange(0,len(x_train))\n",
    "np.random.shuffle(shuffled_id)\n",
    "shuffled_x_train = x_train[shuffled_id]\n",
    "shuffled_y_train = y_train[shuffled_id]"
   ]
  },
  {
   "cell_type": "code",
   "execution_count": 11,
   "metadata": {},
   "outputs": [
    {
     "name": "stdout",
     "output_type": "stream",
     "text": [
      "[[1.]] [1.] 0.1524815\n",
      "[[0.4240258]] [1.1663983] 0.013741984\n",
      "[[0.42400673]] [1.166396] 0.0137425065\n",
      "[[0.42400673]] [1.166396] 0.0137425065\n",
      "[[0.42400673]] [1.166396] 0.0137425065\n"
     ]
    }
   ],
   "source": [
    "from helper import generate_batches\n",
    "batch_size = 5\n",
    "init = tf.global_variables_initializer()\n",
    "with tf.Session() as sess:\n",
    "    sess.run(init)\n",
    "    for epoch in range(MaxEpoch):\n",
    "        if epoch % 5 == 0:\n",
    "            curr_w, curr_b, curr_loss = sess.run([w,b,loss],feed_dict={x:x_train,y:y_train})\n",
    "            print(curr_w, curr_b, curr_loss)\n",
    "        for x_batch, y_batch in generate_batches(batch_size, shuffled_x_train, shuffled_y_train):\n",
    "            sess.run(train, feed_dict={x:x_batch,\n",
    "                                      y:y_batch})\n",
    "                            \n",
    "    w_tf_gd, b_tf_gd = sess.run([w,b])\n",
    "    "
   ]
  },
  {
   "cell_type": "markdown",
   "metadata": {},
   "source": [
    "# 비선형회귀 모델\n",
    "\n",
    "### 이차 곡선 데이터"
   ]
  },
  {
   "cell_type": "code",
   "execution_count": 12,
   "metadata": {},
   "outputs": [],
   "source": [
    "np.random.seed(327)\n",
    "x_train = np.linspace(-1,1,50)\n",
    "y_train = x_train**2+.25*x_train+1.0+.5 * np.random.rand(len(x_train))"
   ]
  },
  {
   "cell_type": "code",
   "execution_count": 13,
   "metadata": {},
   "outputs": [
    {
     "data": {
      "image/png": "[encoded data removed]",
      "text/plain": [
       "<Figure size 432x288 with 1 Axes>"
      ]
     },
     "metadata": {
      "needs_background": "light"
     },
     "output_type": "display_data"
    }
   ],
   "source": [
    "plt.plot(x_train,y_train,'.k')\n",
    "plt.grid()\n",
    "plt.xlabel('x')\n",
    "plt.ylabel('y')\n",
    "plt.show()"
   ]
  },
  {
   "cell_type": "code",
   "execution_count": 14,
   "metadata": {},
   "outputs": [],
   "source": [
    "features = np.array([[xval**2, xval] for xval in x_train])\n",
    "labels = y_train.reshape(-1,1)"
   ]
  },
  {
   "cell_type": "code",
   "execution_count": 15,
   "metadata": {},
   "outputs": [],
   "source": [
    "w = tf.Variable(tf.ones([2,1]))\n",
    "b = tf.Variable(tf.ones([1]))\n",
    "\n",
    "x = tf.placeholder(tf.float32, [None, 2])\n",
    "y = tf.placeholder(tf.float32, [None, 1])\n",
    "yhat = tf.matmul(x,w) + b\n",
    "loss = tf.reduce_mean(tf.square(yhat - y))"
   ]
  },
  {
   "cell_type": "code",
   "execution_count": 16,
   "metadata": {},
   "outputs": [],
   "source": [
    "MaxEpoch = 25\n",
    "batch_size = 10\n",
    "lr = 0.25\n",
    "optimizer = tf.train.GradientDescentOptimizer(lr)\n",
    "train = optimizer.minimize(loss)"
   ]
  },
  {
   "cell_type": "code",
   "execution_count": 22,
   "metadata": {},
   "outputs": [
    {
     "name": "stdout",
     "output_type": "stream",
     "text": [
      "[[1.]\n",
      " [1.]] [1.] 0.27033687\n",
      "[[1.076062  ]\n",
      " [0.23619145]] [1.1704177] 0.01800622\n",
      "[[1.0612648 ]\n",
      " [0.23138306]] [1.1769375] 0.017824525\n",
      "[[1.0563606 ]\n",
      " [0.23150262]] [1.1790168] 0.017778212\n",
      "[[1.0547773 ]\n",
      " [0.23155315]] [1.1796876] 0.01776432\n"
     ]
    }
   ],
   "source": [
    "np.random.seed(320)\n",
    "shuffled_id = np.arange(0,len(x_train))\n",
    "np.random.shuffle(shuffled_id)\n",
    "shuffled_x_train = features[shuffled_id]\n",
    "shuffled_y_train = labels[shuffled_id]\n",
    "\n",
    "init = tf.global_variables_initializer()\n",
    "with tf.Session() as sess:\n",
    "    sess.run(init)\n",
    "    for epoch in range(MaxEpoch):\n",
    "        if epoch % 5 == 0:\n",
    "            curr_w, curr_b, curr_loss = sess.run([w,b,loss],feed_dict={x:features,y:labels})\n",
    "            print(curr_w, curr_b, curr_loss)\n",
    "        for x_batch, y_batch in generate_batches(batch_size, shuffled_x_train, shuffled_y_train):\n",
    "            sess.run(train, feed_dict={x:x_batch,\n",
    "                                      y:y_batch})\n",
    "                            \n",
    "    w_tf_sgd, b_tf_sgd = sess.run([w,b])\n",
    "    prediction_values = sess.run(yhat, feed_dict={x:features})"
   ]
  },
  {
   "cell_type": "code",
   "execution_count": 25,
   "metadata": {},
   "outputs": [
    {
     "data": {
      "image/png": "[encoded data removed]",
      "text/plain": [
       "<Figure size 432x288 with 1 Axes>"
      ]
     },
     "metadata": {
      "needs_background": "light"
     },
     "output_type": "display_data"
    }
   ],
   "source": [
    "from matplotlib.patches import Rectangle\n",
    "def visualize_l2(w,b,features,x_train,y_train):\n",
    "    plt.plot(x_train,y_train,'.k')\n",
    "    plt.plot(x_train,np.matmul(features,w)+b, '--k')\n",
    "    currentAxis = plt.gca()\n",
    "    for ff,xx,yy in zip(features,x_train,y_train):\n",
    "        error = np.matmul(ff,w) + b - yy\n",
    "        currentAxis.add_patch(Rectangle((xx,yy),error,error, \n",
    "                                        alpha=0.1,facecolor='gray',\n",
    "                                        edgecolor='k'))\n",
    "    plt.grid()\n",
    "    plt.axis('equal')\n",
    "    plt.xlabel('x')\n",
    "    plt.ylabel('y')\n",
    "\n",
    "visualize_l2(w_tf_sgd, b_tf_sgd, features, x_train, y_train)"
   ]
  },
  {
   "cell_type": "markdown",
   "metadata": {},
   "source": [
    "### 삼차곡선"
   ]
  },
  {
   "cell_type": "code",
   "execution_count": 26,
   "metadata": {},
   "outputs": [
    {
     "data": {
      "image/png": "[encoded data removed]",
      "text/plain": [
       "<Figure size 432x288 with 1 Axes>"
      ]
     },
     "metadata": {
      "needs_background": "light"
     },
     "output_type": "display_data"
    }
   ],
   "source": [
    "np.random.seed(327)\n",
    "x_train = np.linspace(-1,1,50)\n",
    "y_train = x_train**3+0.1*x_train**2-.15*x_train+1.0+.5 * np.random.rand(len(x_train))\n",
    "\n",
    "plt.plot(x_train,y_train,'.k')\n",
    "plt.grid()\n",
    "plt.xlabel('x')\n",
    "plt.ylabel('y')\n",
    "plt.show()"
   ]
  },
  {
   "cell_type": "code",
   "execution_count": 27,
   "metadata": {},
   "outputs": [],
   "source": [
    "features = np.array([[xval**3, xval**2, xval] for xval in x_train])\n",
    "labels = y_train.reshape(-1,1)"
   ]
  },
  {
   "cell_type": "code",
   "execution_count": 28,
   "metadata": {},
   "outputs": [],
   "source": [
    "w = tf.Variable(tf.ones([3,1]))\n",
    "b = tf.Variable(tf.ones([1]))\n",
    "\n",
    "x = tf.placeholder(tf.float32, [None, 3])\n",
    "y = tf.placeholder(tf.float32, [None, 1])\n",
    "yhat = tf.matmul(x,w) + b\n",
    "loss = tf.reduce_mean(tf.square(yhat - y))"
   ]
  },
  {
   "cell_type": "code",
   "execution_count": 29,
   "metadata": {},
   "outputs": [],
   "source": [
    "MaxEpoch = 25\n",
    "batch_size = 10\n",
    "lr = 0.25\n",
    "optimizer = tf.train.GradientDescentOptimizer(lr)\n",
    "train = optimizer.minimize(loss)"
   ]
  },
  {
   "cell_type": "code",
   "execution_count": 30,
   "metadata": {},
   "outputs": [
    {
     "name": "stdout",
     "output_type": "stream",
     "text": [
      "[[1.]\n",
      " [1.]\n",
      " [1.]] [1.] 0.57014674\n",
      "[[0.57525814]\n",
      " [0.42941985]\n",
      " [0.10803682]] [1.0714246] 0.03189389\n",
      "[[0.6731134 ]\n",
      " [0.24562356]\n",
      " [0.04974759]] [1.1476407] 0.021883728\n",
      "[[0.7469721 ]\n",
      " [0.18626072]\n",
      " [0.00303175]] [1.1714399] 0.019629695\n",
      "[[ 0.8040568 ]\n",
      " [ 0.16686103]\n",
      " [-0.03414325]] [1.1785893] 0.018755484\n"
     ]
    }
   ],
   "source": [
    "np.random.seed(320)\n",
    "shuffled_id = np.arange(0,len(x_train))\n",
    "np.random.shuffle(shuffled_id)\n",
    "shuffled_x_train = features[shuffled_id]\n",
    "shuffled_y_train = labels[shuffled_id]\n",
    "\n",
    "init = tf.global_variables_initializer()\n",
    "with tf.Session() as sess:\n",
    "    sess.run(init)\n",
    "    for epoch in range(MaxEpoch):\n",
    "        if epoch % 5 == 0:\n",
    "            curr_w, curr_b, curr_loss = sess.run([w,b,loss],feed_dict={x:features,y:labels})\n",
    "            print(curr_w, curr_b, curr_loss)\n",
    "        for x_batch, y_batch in generate_batches(batch_size, shuffled_x_train, shuffled_y_train):\n",
    "            sess.run(train, feed_dict={x:x_batch,\n",
    "                                      y:y_batch})\n",
    "                            \n",
    "    w_tf_sgd, b_tf_sgd = sess.run([w,b])\n",
    "    prediction_values = sess.run(yhat, feed_dict={x:features})"
   ]
  },
  {
   "cell_type": "code",
   "execution_count": 31,
   "metadata": {},
   "outputs": [
    {
     "data": {
      "image/png": "[encoded data removed]",
      "text/plain": [
       "<Figure size 432x288 with 1 Axes>"
      ]
     },
     "metadata": {
      "needs_background": "light"
     },
     "output_type": "display_data"
    }
   ],
   "source": [
    "visualize_l2(w_tf_sgd, b_tf_sgd, features, x_train, y_train)"
   ]
  },
  {
   "cell_type": "markdown",
   "metadata": {},
   "source": [
    "### 삼각함수"
   ]
  },
  {
   "cell_type": "code",
   "execution_count": 32,
   "metadata": {},
   "outputs": [
    {
     "data": {
      "image/png": "[encoded data removed]",
      "text/plain": [
       "<Figure size 432x288 with 1 Axes>"
      ]
     },
     "metadata": {
      "needs_background": "light"
     },
     "output_type": "display_data"
    }
   ],
   "source": [
    "np.random.seed(327)\n",
    "x_train = np.linspace(-1,1,50)\n",
    "y_train = .25*np.cos(np.pi*x_train)+.3*np.sin(np.pi*x_train)+.2*(2*np.random.rand(len(x_train))-1)\n",
    "\n",
    "plt.plot(x_train,y_train,'.k')\n",
    "plt.grid()\n",
    "plt.xlabel('x')\n",
    "plt.ylabel('y')\n",
    "plt.show()"
   ]
  },
  {
   "cell_type": "code",
   "execution_count": 33,
   "metadata": {},
   "outputs": [],
   "source": [
    "features = np.array([[np.cos(np.pi*xval), np.sin(np.pi*xval)] for xval in x_train])\n",
    "labels = y_train.reshape(-1,1)"
   ]
  },
  {
   "cell_type": "code",
   "execution_count": 34,
   "metadata": {},
   "outputs": [],
   "source": [
    "w = tf.Variable(tf.ones([2,1]))\n",
    "b = tf.Variable(tf.ones([1]))\n",
    "\n",
    "x = tf.placeholder(tf.float32, [None, 2])\n",
    "y = tf.placeholder(tf.float32, [None, 1])\n",
    "yhat = tf.matmul(x,w) + b\n",
    "loss = tf.reduce_mean(tf.square(yhat - y))"
   ]
  },
  {
   "cell_type": "code",
   "execution_count": 35,
   "metadata": {},
   "outputs": [],
   "source": [
    "MaxEpoch = 25\n",
    "batch_size = 10\n",
    "lr = 0.25\n",
    "optimizer = tf.train.GradientDescentOptimizer(lr)\n",
    "train = optimizer.minimize(loss)"
   ]
  },
  {
   "cell_type": "code",
   "execution_count": 36,
   "metadata": {},
   "outputs": [
    {
     "name": "stdout",
     "output_type": "stream",
     "text": [
      "[[1.]\n",
      " [1.]] [1.] 1.5639328\n",
      "[[0.23110393]\n",
      " [0.2858727 ]] [-0.0394818] 0.0113843335\n",
      "[[0.23096298]\n",
      " [0.28525737]] [-0.0394916] 0.011390009\n",
      "[[0.23096305]\n",
      " [0.28525692]] [-0.03949159] 0.011390012\n",
      "[[0.23096305]\n",
      " [0.28525692]] [-0.03949159] 0.011390012\n"
     ]
    }
   ],
   "source": [
    "np.random.seed(320)\n",
    "shuffled_id = np.arange(0,len(x_train))\n",
    "np.random.shuffle(shuffled_id)\n",
    "shuffled_x_train = features[shuffled_id]\n",
    "shuffled_y_train = labels[shuffled_id]\n",
    "\n",
    "init = tf.global_variables_initializer()\n",
    "with tf.Session() as sess:\n",
    "    sess.run(init)\n",
    "    for epoch in range(MaxEpoch):\n",
    "        if epoch % 5 == 0:\n",
    "            curr_w, curr_b, curr_loss = sess.run([w,b,loss],feed_dict={x:features,y:labels})\n",
    "            print(curr_w, curr_b, curr_loss)\n",
    "        for x_batch, y_batch in generate_batches(batch_size, shuffled_x_train, shuffled_y_train):\n",
    "            sess.run(train, feed_dict={x:x_batch,\n",
    "                                      y:y_batch})\n",
    "                            \n",
    "    w_tf_sgd, b_tf_sgd = sess.run([w,b])\n",
    "    prediction_values = sess.run(yhat, feed_dict={x:features})"
   ]
  },
  {
   "cell_type": "code",
   "execution_count": 37,
   "metadata": {},
   "outputs": [
    {
     "data": {
      "image/png": "[encoded data removed]",
      "text/plain": [
       "<Figure size 432x288 with 1 Axes>"
      ]
     },
     "metadata": {
      "needs_background": "light"
     },
     "output_type": "display_data"
    }
   ],
   "source": [
    "visualize_l2(w_tf_sgd, b_tf_sgd, features, x_train, y_train)"
   ]
  },
  {
   "cell_type": "code",
   "execution_count": 44,
   "metadata": {
    "scrolled": false
   },
   "outputs": [
    {
     "name": "stdout",
     "output_type": "stream",
     "text": [
      "[[1.]\n",
      " [1.]\n",
      " [1.]] [1.] 2.8640282\n",
      "[[ 0.09819868]\n",
      " [-0.19075064]\n",
      " [ 0.15132168]] [-0.02276271] 0.05297072\n",
      "[[-0.09345467]\n",
      " [-0.40672165]\n",
      " [ 0.2864888 ]] [0.07265393] 0.032625314\n",
      "[[-0.24828935]\n",
      " [-0.47479624]\n",
      " [ 0.39219296]] [0.10451153] 0.025367083\n",
      "[[-0.37164122]\n",
      " [-0.49572507]\n",
      " [ 0.47506005]] [0.11574969] 0.021494066\n",
      "[[-0.46927497]\n",
      " [-0.5017427 ]\n",
      " [ 0.540224  ]] [0.12016594] 0.019168818\n",
      "[[-0.54635084]\n",
      " [-0.5031309 ]\n",
      " [ 0.5915313 ]] [0.12222457] 0.01772838\n",
      "[[-0.6071333 ]\n",
      " [-0.50315106]\n",
      " [ 0.6319491 ]] [0.1233917] 0.016825266\n",
      "[[-0.65504616]\n",
      " [-0.5028232 ]\n",
      " [ 0.66379523]] [0.12416574] 0.01625478\n",
      "[[-0.6928077 ]\n",
      " [-0.50245464]\n",
      " [ 0.6888897 ]] [0.12472903] 0.015892053\n",
      "[[-0.72256655]\n",
      " [-0.502129  ]\n",
      " [ 0.7086645 ]] [0.125158] 0.015659876\n",
      "[[-0.7460181 ]\n",
      " [-0.50186116]\n",
      " [ 0.7242477 ]] [0.12549126] 0.015510153\n",
      "[[-0.76449895]\n",
      " [-0.5016464 ]\n",
      " [ 0.73652774]] [0.12575233] 0.015412779\n",
      "[[-0.77906257]\n",
      " [-0.50147605]\n",
      " [ 0.7462049 ]] [0.12595758] 0.01534884\n",
      "[[-0.7905392 ]\n",
      " [-0.50134134]\n",
      " [ 0.7538308 ]] [0.12611917] 0.0153063955\n",
      "[[-0.7995832 ]\n",
      " [-0.5012351 ]\n",
      " [ 0.75984025]] [0.12624645] 0.0152778765\n",
      "[[-0.80671024]\n",
      " [-0.50115144]\n",
      " [ 0.76457596]] [0.12634677] 0.015258466\n",
      "[[-0.81232655]\n",
      " [-0.5010854 ]\n",
      " [ 0.7683078 ]] [0.12642576] 0.015245072\n",
      "[[-0.8167524 ]\n",
      " [-0.5010334 ]\n",
      " [ 0.77124864]] [0.12648806] 0.015235697\n",
      "[[-0.82024   ]\n",
      " [-0.5009924 ]\n",
      " [ 0.77356607]] [0.12653711] 0.015229043\n",
      "[[-0.82298857]\n",
      " [-0.5009601 ]\n",
      " [ 0.7753924 ]] [0.1265758] 0.015224252\n",
      "[[-0.82515436]\n",
      " [-0.50093466]\n",
      " [ 0.7768315 ]] [0.12660627] 0.015220764\n",
      "[[-0.8268612]\n",
      " [-0.5009146]\n",
      " [ 0.7779656]] [0.12663026] 0.015218189\n",
      "[[-0.8282062]\n",
      " [-0.5008987]\n",
      " [ 0.7788594]] [0.12664919] 0.015216267\n",
      "[[-0.829266 ]\n",
      " [-0.5008863]\n",
      " [ 0.7795636]] [0.12666412] 0.015214822\n",
      "[[-0.8301013 ]\n",
      " [-0.50087655]\n",
      " [ 0.78011864]] [0.1266759] 0.015213725\n",
      "[[-0.83075947]\n",
      " [-0.5008688 ]\n",
      " [ 0.7805559 ]] [0.12668514] 0.015212888\n",
      "[[-0.8312783]\n",
      " [-0.5008627]\n",
      " [ 0.7809007]] [0.12669247] 0.015212241\n",
      "[[-0.83168715]\n",
      " [-0.50085795]\n",
      " [ 0.78117234]] [0.12669823] 0.015211742\n",
      "[[-0.83200926]\n",
      " [-0.5008542 ]\n",
      " [ 0.7813864 ]] [0.12670276] 0.015211357\n",
      "[[-0.83226305]\n",
      " [-0.50085115]\n",
      " [ 0.78155506]] [0.12670633] 0.015211055\n",
      "[[-0.8324631 ]\n",
      " [-0.50084877]\n",
      " [ 0.7816879 ]] [0.12670912] 0.015210823\n",
      "[[-0.8326207 ]\n",
      " [-0.50084686]\n",
      " [ 0.78179264]] [0.12671132] 0.01521064\n",
      "[[-0.83274484]\n",
      " [-0.5008454 ]\n",
      " [ 0.78187513]] [0.12671305] 0.015210496\n",
      "[[-0.8328429 ]\n",
      " [-0.50084424]\n",
      " [ 0.7819403 ]] [0.12671444] 0.015210383\n",
      "[[-0.83291996]\n",
      " [-0.50084335]\n",
      " [ 0.78199154]] [0.12671553] 0.015210296\n",
      "[[-0.8329807 ]\n",
      " [-0.50084263]\n",
      " [ 0.78203183]] [0.12671639] 0.015210225\n",
      "[[-0.83302855]\n",
      " [-0.50084203]\n",
      " [ 0.7820637 ]] [0.12671705] 0.015210173\n",
      "[[-0.83306634]\n",
      " [-0.5008416 ]\n",
      " [ 0.7820888 ]] [0.12671755] 0.01521013\n",
      "[[-0.8330961]\n",
      " [-0.5008413]\n",
      " [ 0.7821086]] [0.12671801] 0.015210096\n"
     ]
    },
    {
     "data": {
      "image/png": "[encoded data removed]",
      "text/plain": [
       "<Figure size 432x288 with 1 Axes>"
      ]
     },
     "metadata": {
      "needs_background": "light"
     },
     "output_type": "display_data"
    }
   ],
   "source": [
    "features = np.array([[xval**3, xval**2, xval] for xval in x_train])\n",
    "labels = y_train.reshape(-1,1)\n",
    "\n",
    "w = tf.Variable(tf.ones([3,1]))\n",
    "b = tf.Variable(tf.ones([1]))\n",
    "\n",
    "x = tf.placeholder(tf.float32, [None, 3])\n",
    "y = tf.placeholder(tf.float32, [None, 1])\n",
    "yhat = tf.matmul(x,w) + b\n",
    "loss = tf.reduce_mean(tf.square(yhat - y))\n",
    "\n",
    "MaxEpoch = 200\n",
    "batch_size = 10\n",
    "lr = 0.25\n",
    "optimizer = tf.train.GradientDescentOptimizer(lr)\n",
    "train = optimizer.minimize(loss)\n",
    "\n",
    "np.random.seed(320)\n",
    "shuffled_id = np.arange(0,len(x_train))\n",
    "np.random.shuffle(shuffled_id)\n",
    "shuffled_x_train = features[shuffled_id]\n",
    "shuffled_y_train = labels[shuffled_id]\n",
    "\n",
    "init = tf.global_variables_initializer()\n",
    "with tf.Session() as sess:\n",
    "    sess.run(init)\n",
    "    for epoch in range(MaxEpoch):\n",
    "        if epoch % 5 == 0:\n",
    "            curr_w, curr_b, curr_loss = sess.run([w,b,loss],feed_dict={x:features,y:labels})\n",
    "            print(curr_w, curr_b, curr_loss)\n",
    "        for x_batch, y_batch in generate_batches(batch_size, shuffled_x_train, shuffled_y_train):\n",
    "            sess.run(train, feed_dict={x:x_batch,\n",
    "                                      y:y_batch})\n",
    "                            \n",
    "    w_tf_sgd, b_tf_sgd = sess.run([w,b])\n",
    "    prediction_values = sess.run(yhat, feed_dict={x:features})\n",
    "\n",
    "visualize_l2(w_tf_sgd, b_tf_sgd, features, x_train, y_train)"
   ]
  },
  {
   "cell_type": "code",
   "execution_count": 43,
   "metadata": {},
   "outputs": [
    {
     "name": "stdout",
     "output_type": "stream",
     "text": [
      "[[1.]\n",
      " [1.]\n",
      " [1.]\n",
      " [1.]] [1.] 3.8419266\n",
      "[[-0.01998943]\n",
      " [ 0.10948324]\n",
      " [-0.289248  ]\n",
      " [ 0.14670518]] [0.01788581] 0.04713515\n",
      "[[-0.06305835]\n",
      " [-0.08681584]\n",
      " [-0.40492234]\n",
      " [ 0.2835841 ]] [0.08830515] 0.032264695\n",
      "[[-0.03677575]\n",
      " [-0.2447606 ]\n",
      " [-0.44762403]\n",
      " [ 0.3895495 ]] [0.10325572] 0.025754742\n",
      "[[-0.00322599]\n",
      " [-0.36958337]\n",
      " [-0.4794799 ]\n",
      " [ 0.47261614]] [0.11025932] 0.021716187\n",
      "[[ 0.02958042]\n",
      " [-0.46790254]\n",
      " [-0.5087282 ]\n",
      " [ 0.5379232 ]] [0.11568155] 0.019103907\n",
      "[[ 0.06073501]\n",
      " [-0.54530555]\n",
      " [-0.536502  ]\n",
      " [ 0.5892893 ]] [0.12044957] 0.01737817\n",
      "[[ 0.0902429]\n",
      " [-0.6062395]\n",
      " [-0.5629984]\n",
      " [ 0.6296897]] [0.1247569] 0.016212815\n",
      "[[ 0.11821234]\n",
      " [-0.6542107 ]\n",
      " [-0.58828986]\n",
      " [ 0.661462  ]] [0.12868635] 0.015405314\n",
      "[[ 0.14475137]\n",
      " [-0.6919797 ]\n",
      " [-0.61243093]\n",
      " [ 0.68644524]] [0.13229494] 0.014828887\n",
      "[[ 0.16995649]\n",
      " [-0.7217191 ]\n",
      " [-0.6354723 ]\n",
      " [ 0.70608664]] [0.13562754] 0.014403789\n",
      "[[ 0.19391352]\n",
      " [-0.74513865]\n",
      " [-0.6574626 ]\n",
      " [ 0.72152513]] [0.1387203] 0.014079585\n",
      "[[ 0.21669918]\n",
      " [-0.76358366]\n",
      " [-0.67844886]\n",
      " [ 0.7336567 ]] [0.14160278] 0.0138241565\n",
      "[[ 0.23838238]\n",
      " [-0.7781133 ]\n",
      " [-0.6984758 ]\n",
      " [ 0.7431867 ]] [0.14429915] 0.013616847\n",
      "[[ 0.25902566]\n",
      " [-0.7895611 ]\n",
      " [-0.7175865 ]\n",
      " [ 0.75067025]] [0.14682943] 0.013444229\n",
      "[[ 0.27868634]\n",
      " [-0.7985828 ]\n",
      " [-0.73582244]\n",
      " [ 0.7565439 ]] [0.1492102] 0.013297435\n",
      "[[ 0.29741684]\n",
      " [-0.8056948 ]\n",
      " [-0.7532231 ]\n",
      " [ 0.7611513 ]] [0.15145548] 0.013170485\n",
      "[[ 0.31526574]\n",
      " [-0.81130314]\n",
      " [-0.7698264 ]\n",
      " [ 0.76476294]] [0.15357699] 0.013059272\n",
      "[[ 0.3322781 ]\n",
      " [-0.81572765]\n",
      " [-0.7856688 ]\n",
      " [ 0.7675915 ]] [0.15558493] 0.012960878\n",
      "[[ 0.34849593]\n",
      " [-0.8192202 ]\n",
      " [-0.80078465]\n",
      " [ 0.7698046 ]] [0.15748785] 0.012873191\n"
     ]
    },
    {
     "data": {
      "image/png": "[encoded data removed]",
      "text/plain": [
       "<Figure size 432x288 with 1 Axes>"
      ]
     },
     "metadata": {
      "needs_background": "light"
     },
     "output_type": "display_data"
    }
   ],
   "source": [
    "features = np.array([[xval**4, xval**3, xval**2, xval] for xval in x_train])\n",
    "labels = y_train.reshape(-1,1)\n",
    "\n",
    "w = tf.Variable(tf.ones([4,1]))\n",
    "b = tf.Variable(tf.ones([1]))\n",
    "\n",
    "x = tf.placeholder(tf.float32, [None, 4])\n",
    "y = tf.placeholder(tf.float32, [None, 1])\n",
    "yhat = tf.matmul(x,w) + b\n",
    "loss = tf.reduce_mean(tf.square(yhat - y))\n",
    "\n",
    "MaxEpoch = 100\n",
    "batch_size = 10\n",
    "lr = 0.25\n",
    "optimizer = tf.train.GradientDescentOptimizer(lr)\n",
    "train = optimizer.minimize(loss)\n",
    "\n",
    "np.random.seed(320)\n",
    "shuffled_id = np.arange(0,len(x_train))\n",
    "np.random.shuffle(shuffled_id)\n",
    "shuffled_x_train = features[shuffled_id]\n",
    "shuffled_y_train = labels[shuffled_id]\n",
    "\n",
    "init = tf.global_variables_initializer()\n",
    "with tf.Session() as sess:\n",
    "    sess.run(init)\n",
    "    for epoch in range(MaxEpoch):\n",
    "        if epoch % 5 == 0:\n",
    "            curr_w, curr_b, curr_loss = sess.run([w,b,loss],feed_dict={x:features,y:labels})\n",
    "            print(curr_w, curr_b, curr_loss)\n",
    "        for x_batch, y_batch in generate_batches(batch_size, shuffled_x_train, shuffled_y_train):\n",
    "            sess.run(train, feed_dict={x:x_batch,\n",
    "                                      y:y_batch})\n",
    "                            \n",
    "    w_tf_sgd, b_tf_sgd = sess.run([w,b])\n",
    "    prediction_values = sess.run(yhat, feed_dict={x:features})\n",
    "\n",
    "visualize_l2(w_tf_sgd, b_tf_sgd, features, x_train, y_train)"
   ]
  },
  {
   "cell_type": "code",
   "execution_count": null,
   "metadata": {},
   "outputs": [],
   "source": []
  }
 ],
 "metadata": {
  "kernelspec": {
   "display_name": "Python 3",
   "language": "python",
   "name": "python3"
  },
  "language_info": {
   "codemirror_mode": {
    "name": "ipython",
    "version": 3
   },
   "file_extension": ".py",
   "mimetype": "text/x-python",
   "name": "python",
   "nbconvert_exporter": "python",
   "pygments_lexer": "ipython3",
   "version": "3.5.6"
  }
 },
 "nbformat": 4,
 "nbformat_minor": 4
}
