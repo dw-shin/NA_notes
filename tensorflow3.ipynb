{
 "cells": [
  {
   "cell_type": "code",
   "execution_count": 1,
   "metadata": {},
   "outputs": [],
   "source": [
    "import numpy as np\n",
    "import tensorflow as tf\n",
    "import matplotlib.pyplot as plt\n",
    "%matplotlib inline\n",
    "%config inlineBackend.figure_format = 'retina'"
   ]
  },
  {
   "cell_type": "code",
   "execution_count": 20,
   "metadata": {},
   "outputs": [],
   "source": [
    "np.random.seed(320)\n",
    "x_train = np.linspace(-1,1,50)\n",
    "f = lambda x: 0.5 * x + 1.0\n",
    "y_train = f(x_train) + 0.4 * np.random.rand(len(x_train))\n",
    "x_train = x_train.reshape(-1,1)\n",
    "y_train = y_train.reshape(-1,1)"
   ]
  },
  {
   "cell_type": "code",
   "execution_count": 3,
   "metadata": {},
   "outputs": [
    {
     "data": {
      "image/png": "[encoded data removed]",
      "text/plain": [
       "<Figure size 432x288 with 1 Axes>"
      ]
     },
     "metadata": {
      "needs_background": "light"
     },
     "output_type": "display_data"
    }
   ],
   "source": [
    "plt.plot(x_train,y_train,'.k',\n",
    "         markerfacecolor='none')\n",
    "plt.grid()\n",
    "plt.xlabel('x')\n",
    "plt.ylabel('y')\n",
    "plt.show()"
   ]
  },
  {
   "cell_type": "code",
   "execution_count": 15,
   "metadata": {},
   "outputs": [],
   "source": [
    "w = tf.Variable(tf.ones([1,1]), dtype=tf.float32)\n",
    "b = tf.Variable(tf.ones([1]), dtype=tf.float32)\n",
    "\n",
    "x = tf.placeholder(tf.float32, [None,1])\n",
    "\n",
    "yhat = tf.matmul(x,w)+b"
   ]
  },
  {
   "cell_type": "code",
   "execution_count": 16,
   "metadata": {},
   "outputs": [],
   "source": [
    "y = tf.placeholder(tf.float32, [None,1])\n",
    "\n",
    "loss = tf.reduce_mean(tf.square(yhat-y))"
   ]
  },
  {
   "cell_type": "code",
   "execution_count": 17,
   "metadata": {},
   "outputs": [],
   "source": [
    "MaxEpoch = 25\n",
    "lr = 0.25\n",
    "optimizer = tf.train.GradientDescentOptimizer(lr)\n",
    "train = optimizer.minimize(loss)"
   ]
  },
  {
   "cell_type": "code",
   "execution_count": 21,
   "metadata": {},
   "outputs": [
    {
     "name": "stdout",
     "output_type": "stream",
     "text": [
      "[[1.]] [1.] 0.1524815\n",
      "[[0.66522515]] [1.1854535] 0.028151726\n",
      "[[0.53608906]] [1.1912489] 0.015063959\n",
      "[[0.4862761]] [1.19143] 0.013121848\n",
      "[[0.46706128]] [1.1914357] 0.012832876\n"
     ]
    }
   ],
   "source": [
    "init = tf.global_variables_initializer()\n",
    "with tf.Session() as sess:\n",
    "    sess.run(init)\n",
    "    for epoch in range(MaxEpoch):\n",
    "        if epoch % 5 == 0:\n",
    "            curr_w, curr_b, curr_loss = sess.run([w,b,loss],feed_dict={x:x_train,y:y_train})\n",
    "            print(curr_w, curr_b, curr_loss)\n",
    "        sess.run(train, feed_dict={x:x_train,\n",
    "                                   y:y_train})\n",
    "    w_tf_gd, b_tf_gd = sess.run([w,b])"
   ]
  },
  {
   "cell_type": "code",
   "execution_count": 22,
   "metadata": {},
   "outputs": [],
   "source": [
    "init = tf.global_variables_initializer()\n",
    "with tf.Session() as sess:\n",
    "    sess.run(init)\n",
    "    for epoch in range(MaxEpoch):\n",
    "        sess.run(train, feed_dict={x:x_train,\n",
    "                                   y:y_train})\n",
    "    w_tf_gd, b_tf_gd = sess.run([w,b])"
   ]
  },
  {
   "cell_type": "code",
   "execution_count": 25,
   "metadata": {},
   "outputs": [],
   "source": [
    "np.random.seed(320)\n",
    "shuffled_id = np.arange(0,len(x_train))\n",
    "np.random.shuffle(suffled_id)\n",
    "shuffled_x_train = x_train[shuffled_id]\n",
    "shuffled_y_train = y_train[shuffled_id]"
   ]
  },
  {
   "cell_type": "code",
   "execution_count": 26,
   "metadata": {},
   "outputs": [
    {
     "name": "stdout",
     "output_type": "stream",
     "text": [
      "[[1.]] [1.] 0.1524815\n",
      "[[0.44106284]] [1.1961542] 0.012871967\n",
      "[[0.44105542]] [1.1961608] 0.012872101\n",
      "[[0.44105542]] [1.1961609] 0.012872103\n",
      "[[0.44105542]] [1.1961608] 0.012872101\n"
     ]
    }
   ],
   "source": [
    "from helper import generate_batches\n",
    "batch_size = 5\n",
    "init = tf.global_variables_initializer()\n",
    "with tf.Session() as sess:\n",
    "    sess.run(init)\n",
    "    for epoch in range(MaxEpoch):\n",
    "        if epoch % 5 == 0:\n",
    "            curr_w, curr_b, curr_loss = sess.run([w,b,loss],feed_dict={x:x_train,y:y_train})\n",
    "            print(curr_w, curr_b, curr_loss)\n",
    "        for x_batch, y_batch in generate_batches(batch_size, shuffled_x_train, shuffled_y_train):\n",
    "            sess.run(train, feed_dict={x:x_batch,\n",
    "                                      y:y_batch})\n",
    "                            \n",
    "    w_tf_gd, b_tf_gd = sess.run([w,b])\n",
    "    "
   ]
  },
  {
   "cell_type": "code",
   "execution_count": null,
   "metadata": {},
   "outputs": [],
   "source": []
  }
 ],
 "metadata": {
  "kernelspec": {
   "display_name": "Python 3",
   "language": "python",
   "name": "python3"
  },
  "language_info": {
   "codemirror_mode": {
    "name": "ipython",
    "version": 3
   },
   "file_extension": ".py",
   "mimetype": "text/x-python",
   "name": "python",
   "nbconvert_exporter": "python",
   "pygments_lexer": "ipython3",
   "version": "3.5.6"
  }
 },
 "nbformat": 4,
 "nbformat_minor": 4
}
